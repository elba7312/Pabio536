{
 "cells": [
  {
   "cell_type": "code",
   "execution_count": 4,
   "metadata": {},
   "outputs": [
    {
     "name": "stdout",
     "output_type": "stream",
     "text": [
      "package 'BiocInstaller' successfully unpacked and MD5 sums checked\n",
      "\n",
      "The downloaded binary packages are in\n",
      "\tC:\\Users\\trusta\\AppData\\Local\\Temp\\RtmpWujgWV\\downloaded_packages\n"
     ]
    },
    {
     "name": "stderr",
     "output_type": "stream",
     "text": [
      "Bioconductor version 3.7 (BiocInstaller 1.30.0), ?biocLite for help\n",
      "A newer version of Bioconductor is available for this version of R,\n",
      "  ?BiocUpgrade for help\n"
     ]
    }
   ],
   "source": [
    "source(\"https://bioconductor.org/biocLite.R\")"
   ]
  },
  {
   "cell_type": "code",
   "execution_count": 5,
   "metadata": {},
   "outputs": [
    {
     "name": "stderr",
     "output_type": "stream",
     "text": [
      "BioC_mirror: https://bioconductor.org\n",
      "Using Bioconductor 3.7 (BiocInstaller 1.30.0), R 3.5.1 (2018-07-02).\n",
      "Installing package(s) 'Biobase', 'IRanges', 'AnnotationDbi'\n",
      "also installing the dependencies 'bit', 'bit64', 'blob', 'memoise', 'BiocGenerics', 'S4Vectors', 'RSQLite'\n",
      "\n"
     ]
    },
    {
     "name": "stdout",
     "output_type": "stream",
     "text": [
      "package 'bit' successfully unpacked and MD5 sums checked\n",
      "package 'bit64' successfully unpacked and MD5 sums checked\n",
      "package 'blob' successfully unpacked and MD5 sums checked\n",
      "package 'memoise' successfully unpacked and MD5 sums checked\n",
      "package 'BiocGenerics' successfully unpacked and MD5 sums checked\n",
      "package 'S4Vectors' successfully unpacked and MD5 sums checked\n",
      "package 'RSQLite' successfully unpacked and MD5 sums checked\n",
      "package 'Biobase' successfully unpacked and MD5 sums checked\n",
      "package 'IRanges' successfully unpacked and MD5 sums checked\n",
      "package 'AnnotationDbi' successfully unpacked and MD5 sums checked\n",
      "\n",
      "The downloaded binary packages are in\n",
      "\tC:\\Users\\trusta\\AppData\\Local\\Temp\\RtmpWujgWV\\downloaded_packages\n"
     ]
    },
    {
     "name": "stderr",
     "output_type": "stream",
     "text": [
      "Old packages: 'httpuv', 'MASS', 'quantmod', 'survival', 'xts'\n"
     ]
    }
   ],
   "source": [
    "biocLite()"
   ]
  },
  {
   "cell_type": "code",
   "execution_count": 6,
   "metadata": {},
   "outputs": [
    {
     "name": "stderr",
     "output_type": "stream",
     "text": [
      "BioC_mirror: https://bioconductor.org\n",
      "Using Bioconductor 3.7 (BiocInstaller 1.30.0), R 3.5.1 (2018-07-02).\n",
      "Installing package(s) 'limma'\n"
     ]
    },
    {
     "name": "stdout",
     "output_type": "stream",
     "text": [
      "package 'limma' successfully unpacked and MD5 sums checked\n",
      "\n",
      "The downloaded binary packages are in\n",
      "\tC:\\Users\\trusta\\AppData\\Local\\Temp\\RtmpWujgWV\\downloaded_packages\n"
     ]
    },
    {
     "name": "stderr",
     "output_type": "stream",
     "text": [
      "Old packages: 'httpuv', 'MASS', 'quantmod', 'survival', 'xts'\n"
     ]
    }
   ],
   "source": [
    "biocLite('limma')"
   ]
  },
  {
   "cell_type": "code",
   "execution_count": 7,
   "metadata": {},
   "outputs": [
    {
     "name": "stderr",
     "output_type": "stream",
     "text": [
      "BioC_mirror: https://bioconductor.org\n",
      "Using Bioconductor 3.7 (BiocInstaller 1.30.0), R 3.5.1 (2018-07-02).\n",
      "Installing package(s) 'DESeq2'\n",
      "also installing the dependencies 'bitops', 'RCurl', 'GenomeInfoDbData', 'zlibbioc', 'matrixStats', 'lambda.r', 'futile.options', 'XML', 'checkmate', 'GenomeInfoDb', 'XVector', 'DelayedArray', 'futile.logger', 'snow', 'annotate', 'Formula', 'latticeExtra', 'acepack', 'gridExtra', 'htmlTable', 'viridis', 'GenomicRanges', 'SummarizedExperiment', 'BiocParallel', 'genefilter', 'locfit', 'geneplotter', 'Hmisc', 'RcppArmadillo'\n",
      "\n"
     ]
    },
    {
     "name": "stdout",
     "output_type": "stream",
     "text": [
      "package 'bitops' successfully unpacked and MD5 sums checked\n",
      "package 'RCurl' successfully unpacked and MD5 sums checked\n",
      "package 'zlibbioc' successfully unpacked and MD5 sums checked\n",
      "package 'matrixStats' successfully unpacked and MD5 sums checked\n",
      "package 'lambda.r' successfully unpacked and MD5 sums checked\n",
      "package 'futile.options' successfully unpacked and MD5 sums checked\n",
      "package 'XML' successfully unpacked and MD5 sums checked\n",
      "package 'checkmate' successfully unpacked and MD5 sums checked\n",
      "package 'GenomeInfoDb' successfully unpacked and MD5 sums checked\n",
      "package 'XVector' successfully unpacked and MD5 sums checked\n",
      "package 'DelayedArray' successfully unpacked and MD5 sums checked\n",
      "package 'futile.logger' successfully unpacked and MD5 sums checked\n",
      "package 'snow' successfully unpacked and MD5 sums checked\n",
      "package 'annotate' successfully unpacked and MD5 sums checked\n",
      "package 'Formula' successfully unpacked and MD5 sums checked\n",
      "package 'latticeExtra' successfully unpacked and MD5 sums checked\n",
      "package 'acepack' successfully unpacked and MD5 sums checked\n",
      "package 'gridExtra' successfully unpacked and MD5 sums checked\n",
      "package 'htmlTable' successfully unpacked and MD5 sums checked\n",
      "package 'viridis' successfully unpacked and MD5 sums checked\n",
      "package 'GenomicRanges' successfully unpacked and MD5 sums checked\n",
      "package 'SummarizedExperiment' successfully unpacked and MD5 sums checked\n",
      "package 'BiocParallel' successfully unpacked and MD5 sums checked\n",
      "package 'genefilter' successfully unpacked and MD5 sums checked\n",
      "package 'locfit' successfully unpacked and MD5 sums checked\n",
      "package 'geneplotter' successfully unpacked and MD5 sums checked\n",
      "package 'Hmisc' successfully unpacked and MD5 sums checked\n",
      "package 'RcppArmadillo' successfully unpacked and MD5 sums checked\n",
      "package 'DESeq2' successfully unpacked and MD5 sums checked\n",
      "\n",
      "The downloaded binary packages are in\n",
      "\tC:\\Users\\trusta\\AppData\\Local\\Temp\\RtmpWujgWV\\downloaded_packages\n"
     ]
    },
    {
     "name": "stderr",
     "output_type": "stream",
     "text": [
      "installing the source package 'GenomeInfoDbData'\n",
      "\n",
      "Old packages: 'httpuv', 'MASS', 'quantmod', 'survival', 'xts'\n"
     ]
    }
   ],
   "source": [
    "biocLite ('DESeq2')"
   ]
  },
  {
   "cell_type": "code",
   "execution_count": 8,
   "metadata": {},
   "outputs": [
    {
     "name": "stderr",
     "output_type": "stream",
     "text": [
      "BioC_mirror: https://bioconductor.org\n",
      "Using Bioconductor 3.7 (BiocInstaller 1.30.0), R 3.5.1 (2018-07-02).\n",
      "Installing package(s) 'edgeR'\n"
     ]
    },
    {
     "name": "stdout",
     "output_type": "stream",
     "text": [
      "package 'edgeR' successfully unpacked and MD5 sums checked\n",
      "\n",
      "The downloaded binary packages are in\n",
      "\tC:\\Users\\trusta\\AppData\\Local\\Temp\\RtmpWujgWV\\downloaded_packages\n"
     ]
    },
    {
     "name": "stderr",
     "output_type": "stream",
     "text": [
      "Old packages: 'httpuv', 'MASS', 'quantmod', 'survival', 'xts'\n"
     ]
    }
   ],
   "source": [
    "biocLite('edgeR')"
   ]
  },
  {
   "cell_type": "code",
   "execution_count": 9,
   "metadata": {},
   "outputs": [],
   "source": [
    "library(limma)\n",
    "library(edgeR)"
   ]
  },
  {
   "cell_type": "code",
   "execution_count": 11,
   "metadata": {},
   "outputs": [],
   "source": [
    "setwd('./DataFiles/')"
   ]
  },
  {
   "cell_type": "code",
   "execution_count": 12,
   "metadata": {},
   "outputs": [
    {
     "name": "stdout",
     "output_type": "stream",
     "text": [
      "Formal class 'DGEList' [package \"edgeR\"] with 1 slot\n",
      "  ..@ .Data:List of 2\n",
      "  .. ..$ :'data.frame':\t9 obs. of  4 variables:\n",
      "  .. .. ..$ files       : chr [1:9] \"GSM1545535_10_6_5_11.txt\" \"GSM1545536_9_6_5_11.txt\" \"GSM1545538_purep53.txt\" \"GSM1545539_JMS8-2.txt\" ...\n",
      "  .. .. ..$ group       : Factor w/ 1 level \"1\": 1 1 1 1 1 1 1 1 1\n",
      "  .. .. ..$ lib.size    : num [1:9] 32863052 35335491 57160817 51368625 75795034 ...\n",
      "  .. .. ..$ norm.factors: num [1:9] 1 1 1 1 1 1 1 1 1\n",
      "  .. ..$ : num [1:27179, 1:9] 1 0 0 0 1 431 768 4 810 452 ...\n",
      "  .. .. ..- attr(*, \"dimnames\")=List of 2\n",
      "  .. .. .. ..$ Tags   : chr [1:27179] \"497097\" \"100503874\" \"100038431\" \"19888\" ...\n",
      "  .. .. .. ..$ Samples: chr [1:9] \"GSM1545535_10_6_5_11\" \"GSM1545536_9_6_5_11\" \"GSM1545538_purep53\" \"GSM1545539_JMS8-2\" ...\n"
     ]
    }
   ],
   "source": [
    "# Download the data files from Canvas to your working directory\n",
    "# This command reads all of the files you downloaded into a DGEList- a type of object defined and used by edgeR that consists of multiple data frames\n",
    "# Each sample has a single text file \n",
    "# The first column of each file is an ID number for a mouse gene, and the third column is the number of reads that aligned to that gene.\n",
    "files <- dir(pattern=\"GSM*\")\n",
    "x <- readDGE(files, columns=c(1,3))\n",
    "str(x)"
   ]
  },
  {
   "cell_type": "code",
   "execution_count": 13,
   "metadata": {},
   "outputs": [
    {
     "data": {
      "text/html": [
       "<table>\n",
       "<thead><tr><th></th><th scope=col>files</th><th scope=col>group</th><th scope=col>lib.size</th><th scope=col>norm.factors</th></tr></thead>\n",
       "<tbody>\n",
       "\t<tr><th scope=row>GSM1545535_10_6_5_11</th><td>GSM1545535_10_6_5_11.txt</td><td>1                       </td><td>32863052                </td><td>1                       </td></tr>\n",
       "\t<tr><th scope=row>GSM1545536_9_6_5_11</th><td>GSM1545536_9_6_5_11.txt </td><td>1                       </td><td>35335491                </td><td>1                       </td></tr>\n",
       "\t<tr><th scope=row>GSM1545538_purep53</th><td>GSM1545538_purep53.txt  </td><td>1                       </td><td>57160817                </td><td>1                       </td></tr>\n",
       "\t<tr><th scope=row>GSM1545539_JMS8-2</th><td>GSM1545539_JMS8-2.txt   </td><td>1                       </td><td>51368625                </td><td>1                       </td></tr>\n",
       "\t<tr><th scope=row>GSM1545540_JMS8-3</th><td>GSM1545540_JMS8-3.txt   </td><td>1                       </td><td>75795034                </td><td>1                       </td></tr>\n",
       "\t<tr><th scope=row>GSM1545541_JMS8-4</th><td>GSM1545541_JMS8-4.txt   </td><td>1                       </td><td>60517657                </td><td>1                       </td></tr>\n",
       "\t<tr><th scope=row>GSM1545542_JMS8-5</th><td>GSM1545542_JMS8-5.txt   </td><td>1                       </td><td>55086324                </td><td>1                       </td></tr>\n",
       "\t<tr><th scope=row>GSM1545544_JMS9-P7c</th><td>GSM1545544_JMS9-P7c.txt </td><td>1                       </td><td>21311068                </td><td>1                       </td></tr>\n",
       "\t<tr><th scope=row>GSM1545545_JMS9-P8c</th><td>GSM1545545_JMS9-P8c.txt </td><td>1                       </td><td>19958838                </td><td>1                       </td></tr>\n",
       "</tbody>\n",
       "</table>\n"
      ],
      "text/latex": [
       "\\begin{tabular}{r|llll}\n",
       "  & files & group & lib.size & norm.factors\\\\\n",
       "\\hline\n",
       "\tGSM1545535\\_10\\_6\\_5\\_11 & GSM1545535\\_10\\_6\\_5\\_11.txt & 1                                & 32863052                         & 1                               \\\\\n",
       "\tGSM1545536\\_9\\_6\\_5\\_11 & GSM1545536\\_9\\_6\\_5\\_11.txt  & 1                                & 35335491                         & 1                               \\\\\n",
       "\tGSM1545538\\_purep53 & GSM1545538\\_purep53.txt   & 1                          & 57160817                   & 1                         \\\\\n",
       "\tGSM1545539\\_JMS8-2 & GSM1545539\\_JMS8-2.txt    & 1                          & 51368625                   & 1                         \\\\\n",
       "\tGSM1545540\\_JMS8-3 & GSM1545540\\_JMS8-3.txt    & 1                          & 75795034                   & 1                         \\\\\n",
       "\tGSM1545541\\_JMS8-4 & GSM1545541\\_JMS8-4.txt    & 1                          & 60517657                   & 1                         \\\\\n",
       "\tGSM1545542\\_JMS8-5 & GSM1545542\\_JMS8-5.txt    & 1                          & 55086324                   & 1                         \\\\\n",
       "\tGSM1545544\\_JMS9-P7c & GSM1545544\\_JMS9-P7c.txt  & 1                          & 21311068                   & 1                         \\\\\n",
       "\tGSM1545545\\_JMS9-P8c & GSM1545545\\_JMS9-P8c.txt  & 1                          & 19958838                   & 1                         \\\\\n",
       "\\end{tabular}\n"
      ],
      "text/markdown": [
       "\n",
       "| <!--/--> | files | group | lib.size | norm.factors |\n",
       "|---|---|---|---|---|\n",
       "| GSM1545535_10_6_5_11 | GSM1545535_10_6_5_11.txt | 1                        | 32863052                 | 1                        |\n",
       "| GSM1545536_9_6_5_11 | GSM1545536_9_6_5_11.txt  | 1                        | 35335491                 | 1                        |\n",
       "| GSM1545538_purep53 | GSM1545538_purep53.txt   | 1                        | 57160817                 | 1                        |\n",
       "| GSM1545539_JMS8-2 | GSM1545539_JMS8-2.txt    | 1                        | 51368625                 | 1                        |\n",
       "| GSM1545540_JMS8-3 | GSM1545540_JMS8-3.txt    | 1                        | 75795034                 | 1                        |\n",
       "| GSM1545541_JMS8-4 | GSM1545541_JMS8-4.txt    | 1                        | 60517657                 | 1                        |\n",
       "| GSM1545542_JMS8-5 | GSM1545542_JMS8-5.txt    | 1                        | 55086324                 | 1                        |\n",
       "| GSM1545544_JMS9-P7c | GSM1545544_JMS9-P7c.txt  | 1                        | 21311068                 | 1                        |\n",
       "| GSM1545545_JMS9-P8c | GSM1545545_JMS9-P8c.txt  | 1                        | 19958838                 | 1                        |\n",
       "\n"
      ],
      "text/plain": [
       "                     files                    group lib.size norm.factors\n",
       "GSM1545535_10_6_5_11 GSM1545535_10_6_5_11.txt 1     32863052 1           \n",
       "GSM1545536_9_6_5_11  GSM1545536_9_6_5_11.txt  1     35335491 1           \n",
       "GSM1545538_purep53   GSM1545538_purep53.txt   1     57160817 1           \n",
       "GSM1545539_JMS8-2    GSM1545539_JMS8-2.txt    1     51368625 1           \n",
       "GSM1545540_JMS8-3    GSM1545540_JMS8-3.txt    1     75795034 1           \n",
       "GSM1545541_JMS8-4    GSM1545541_JMS8-4.txt    1     60517657 1           \n",
       "GSM1545542_JMS8-5    GSM1545542_JMS8-5.txt    1     55086324 1           \n",
       "GSM1545544_JMS9-P7c  GSM1545544_JMS9-P7c.txt  1     21311068 1           \n",
       "GSM1545545_JMS9-P8c  GSM1545545_JMS9-P8c.txt  1     19958838 1           "
      ]
     },
     "metadata": {},
     "output_type": "display_data"
    },
    {
     "data": {
      "text/html": [
       "<ol class=list-inline>\n",
       "\t<li>'GSM1545535_10_6_5_11'</li>\n",
       "\t<li>'GSM1545536_9_6_5_11'</li>\n",
       "\t<li>'GSM1545538_purep53'</li>\n",
       "\t<li>'GSM1545539_JMS8-2'</li>\n",
       "\t<li>'GSM1545540_JMS8-3'</li>\n",
       "\t<li>'GSM1545541_JMS8-4'</li>\n",
       "\t<li>'GSM1545542_JMS8-5'</li>\n",
       "\t<li>'GSM1545544_JMS9-P7c'</li>\n",
       "\t<li>'GSM1545545_JMS9-P8c'</li>\n",
       "</ol>\n"
      ],
      "text/latex": [
       "\\begin{enumerate*}\n",
       "\\item 'GSM1545535\\_10\\_6\\_5\\_11'\n",
       "\\item 'GSM1545536\\_9\\_6\\_5\\_11'\n",
       "\\item 'GSM1545538\\_purep53'\n",
       "\\item 'GSM1545539\\_JMS8-2'\n",
       "\\item 'GSM1545540\\_JMS8-3'\n",
       "\\item 'GSM1545541\\_JMS8-4'\n",
       "\\item 'GSM1545542\\_JMS8-5'\n",
       "\\item 'GSM1545544\\_JMS9-P7c'\n",
       "\\item 'GSM1545545\\_JMS9-P8c'\n",
       "\\end{enumerate*}\n"
      ],
      "text/markdown": [
       "1. 'GSM1545535_10_6_5_11'\n",
       "2. 'GSM1545536_9_6_5_11'\n",
       "3. 'GSM1545538_purep53'\n",
       "4. 'GSM1545539_JMS8-2'\n",
       "5. 'GSM1545540_JMS8-3'\n",
       "6. 'GSM1545541_JMS8-4'\n",
       "7. 'GSM1545542_JMS8-5'\n",
       "8. 'GSM1545544_JMS9-P7c'\n",
       "9. 'GSM1545545_JMS9-P8c'\n",
       "\n",
       "\n"
      ],
      "text/plain": [
       "[1] \"GSM1545535_10_6_5_11\" \"GSM1545536_9_6_5_11\"  \"GSM1545538_purep53\"  \n",
       "[4] \"GSM1545539_JMS8-2\"    \"GSM1545540_JMS8-3\"    \"GSM1545541_JMS8-4\"   \n",
       "[7] \"GSM1545542_JMS8-5\"    \"GSM1545544_JMS9-P7c\"  \"GSM1545545_JMS9-P8c\" "
      ]
     },
     "metadata": {},
     "output_type": "display_data"
    },
    {
     "data": {
      "text/html": [
       "<ol class=list-inline>\n",
       "\t<li>20</li>\n",
       "\t<li>19</li>\n",
       "\t<li>18</li>\n",
       "\t<li>17</li>\n",
       "\t<li>17</li>\n",
       "\t<li>17</li>\n",
       "\t<li>17</li>\n",
       "\t<li>19</li>\n",
       "\t<li>19</li>\n",
       "</ol>\n"
      ],
      "text/latex": [
       "\\begin{enumerate*}\n",
       "\\item 20\n",
       "\\item 19\n",
       "\\item 18\n",
       "\\item 17\n",
       "\\item 17\n",
       "\\item 17\n",
       "\\item 17\n",
       "\\item 19\n",
       "\\item 19\n",
       "\\end{enumerate*}\n"
      ],
      "text/markdown": [
       "1. 20\n",
       "2. 19\n",
       "3. 18\n",
       "4. 17\n",
       "5. 17\n",
       "6. 17\n",
       "7. 17\n",
       "8. 19\n",
       "9. 19\n",
       "\n",
       "\n"
      ],
      "text/plain": [
       "[1] 20 19 18 17 17 17 17 19 19"
      ]
     },
     "metadata": {},
     "output_type": "display_data"
    }
   ],
   "source": [
    "## ----Annotate the Samples-----------------------------------------------------\n",
    "# The DGEList is not complete.  We want to fill it with information about the samples and genes (metadata)\n",
    "x$samples\n",
    "colnames(x)\n",
    "nchar(colnames(x))"
   ]
  },
  {
   "cell_type": "code",
   "execution_count": 14,
   "metadata": {},
   "outputs": [],
   "source": [
    "# Remove the NCBI GEO ID numbers (GSMXXXXXXX_)\n",
    "colnames(x) <- substring(colnames(x), 12, nchar(colnames(x)))"
   ]
  },
  {
   "cell_type": "code",
   "execution_count": 15,
   "metadata": {},
   "outputs": [
    {
     "data": {
      "text/html": [
       "<table>\n",
       "<thead><tr><th scope=col>SampleID</th><th scope=col>group</th><th scope=col>lane</th></tr></thead>\n",
       "<tbody>\n",
       "\t<tr><td>10_6_5_11</td><td>LP       </td><td>L004     </td></tr>\n",
       "\t<tr><td>9_6_5_11 </td><td>ML       </td><td>L004     </td></tr>\n",
       "\t<tr><td>purep53  </td><td>Basal    </td><td>L004     </td></tr>\n",
       "\t<tr><td>JMS8-2   </td><td>Basal    </td><td>L006     </td></tr>\n",
       "\t<tr><td>JMS8-3   </td><td>ML       </td><td>L006     </td></tr>\n",
       "\t<tr><td>JMS8-4   </td><td>LP       </td><td>L006     </td></tr>\n",
       "\t<tr><td>JMS8-5   </td><td>Basal    </td><td>L006     </td></tr>\n",
       "\t<tr><td>JMS9-P7c </td><td>ML       </td><td>L008     </td></tr>\n",
       "\t<tr><td>JMS9-P8c </td><td>LP       </td><td>L008     </td></tr>\n",
       "</tbody>\n",
       "</table>\n"
      ],
      "text/latex": [
       "\\begin{tabular}{r|lll}\n",
       " SampleID & group & lane\\\\\n",
       "\\hline\n",
       "\t 10\\_6\\_5\\_11 & LP              & L004           \\\\\n",
       "\t 9\\_6\\_5\\_11  & ML              & L004           \\\\\n",
       "\t purep53   & Basal     & L004     \\\\\n",
       "\t JMS8-2    & Basal     & L006     \\\\\n",
       "\t JMS8-3    & ML        & L006     \\\\\n",
       "\t JMS8-4    & LP        & L006     \\\\\n",
       "\t JMS8-5    & Basal     & L006     \\\\\n",
       "\t JMS9-P7c  & ML        & L008     \\\\\n",
       "\t JMS9-P8c  & LP        & L008     \\\\\n",
       "\\end{tabular}\n"
      ],
      "text/markdown": [
       "\n",
       "| SampleID | group | lane |\n",
       "|---|---|---|\n",
       "| 10_6_5_11 | LP        | L004      |\n",
       "| 9_6_5_11  | ML        | L004      |\n",
       "| purep53   | Basal     | L004      |\n",
       "| JMS8-2    | Basal     | L006      |\n",
       "| JMS8-3    | ML        | L006      |\n",
       "| JMS8-4    | LP        | L006      |\n",
       "| JMS8-5    | Basal     | L006      |\n",
       "| JMS9-P7c  | ML        | L008      |\n",
       "| JMS9-P8c  | LP        | L008      |\n",
       "\n"
      ],
      "text/plain": [
       "  SampleID  group lane\n",
       "1 10_6_5_11 LP    L004\n",
       "2 9_6_5_11  ML    L004\n",
       "3 purep53   Basal L004\n",
       "4 JMS8-2    Basal L006\n",
       "5 JMS8-3    ML    L006\n",
       "6 JMS8-4    LP    L006\n",
       "7 JMS8-5    Basal L006\n",
       "8 JMS9-P7c  ML    L008\n",
       "9 JMS9-P8c  LP    L008"
      ]
     },
     "metadata": {},
     "output_type": "display_data"
    }
   ],
   "source": [
    "#Get the metadata and add it to the DGEList\n",
    "meta <- read.table(\"sampleMetadata.txt\", sep = \"\\t\", header = TRUE)\n",
    "meta"
   ]
  },
  {
   "cell_type": "code",
   "execution_count": 16,
   "metadata": {
    "scrolled": true
   },
   "outputs": [
    {
     "data": {
      "text/html": [
       "<table>\n",
       "<thead><tr><th></th><th scope=col>files</th><th scope=col>group</th><th scope=col>lib.size</th><th scope=col>norm.factors</th><th scope=col>lane</th></tr></thead>\n",
       "<tbody>\n",
       "\t<tr><th scope=row>10_6_5_11</th><td>GSM1545535_10_6_5_11.txt</td><td>LP                      </td><td>32863052                </td><td>1                       </td><td>L004                    </td></tr>\n",
       "\t<tr><th scope=row>9_6_5_11</th><td>GSM1545536_9_6_5_11.txt </td><td>ML                      </td><td>35335491                </td><td>1                       </td><td>L004                    </td></tr>\n",
       "\t<tr><th scope=row>purep53</th><td>GSM1545538_purep53.txt  </td><td>Basal                   </td><td>57160817                </td><td>1                       </td><td>L004                    </td></tr>\n",
       "\t<tr><th scope=row>JMS8-2</th><td>GSM1545539_JMS8-2.txt   </td><td>Basal                   </td><td>51368625                </td><td>1                       </td><td>L006                    </td></tr>\n",
       "\t<tr><th scope=row>JMS8-3</th><td>GSM1545540_JMS8-3.txt   </td><td>ML                      </td><td>75795034                </td><td>1                       </td><td>L006                    </td></tr>\n",
       "\t<tr><th scope=row>JMS8-4</th><td>GSM1545541_JMS8-4.txt   </td><td>LP                      </td><td>60517657                </td><td>1                       </td><td>L006                    </td></tr>\n",
       "\t<tr><th scope=row>JMS8-5</th><td>GSM1545542_JMS8-5.txt   </td><td>Basal                   </td><td>55086324                </td><td>1                       </td><td>L006                    </td></tr>\n",
       "\t<tr><th scope=row>JMS9-P7c</th><td>GSM1545544_JMS9-P7c.txt </td><td>ML                      </td><td>21311068                </td><td>1                       </td><td>L008                    </td></tr>\n",
       "\t<tr><th scope=row>JMS9-P8c</th><td>GSM1545545_JMS9-P8c.txt </td><td>LP                      </td><td>19958838                </td><td>1                       </td><td>L008                    </td></tr>\n",
       "</tbody>\n",
       "</table>\n"
      ],
      "text/latex": [
       "\\begin{tabular}{r|lllll}\n",
       "  & files & group & lib.size & norm.factors & lane\\\\\n",
       "\\hline\n",
       "\t10\\_6\\_5\\_11 & GSM1545535\\_10\\_6\\_5\\_11.txt & LP                               & 32863052                         & 1                                & L004                            \\\\\n",
       "\t9\\_6\\_5\\_11 & GSM1545536\\_9\\_6\\_5\\_11.txt  & ML                               & 35335491                         & 1                                & L004                            \\\\\n",
       "\tpurep53 & GSM1545538\\_purep53.txt   & Basal                      & 57160817                   & 1                          & L004                      \\\\\n",
       "\tJMS8-2 & GSM1545539\\_JMS8-2.txt    & Basal                      & 51368625                   & 1                          & L006                      \\\\\n",
       "\tJMS8-3 & GSM1545540\\_JMS8-3.txt    & ML                         & 75795034                   & 1                          & L006                      \\\\\n",
       "\tJMS8-4 & GSM1545541\\_JMS8-4.txt    & LP                         & 60517657                   & 1                          & L006                      \\\\\n",
       "\tJMS8-5 & GSM1545542\\_JMS8-5.txt    & Basal                      & 55086324                   & 1                          & L006                      \\\\\n",
       "\tJMS9-P7c & GSM1545544\\_JMS9-P7c.txt  & ML                         & 21311068                   & 1                          & L008                      \\\\\n",
       "\tJMS9-P8c & GSM1545545\\_JMS9-P8c.txt  & LP                         & 19958838                   & 1                          & L008                      \\\\\n",
       "\\end{tabular}\n"
      ],
      "text/markdown": [
       "\n",
       "| <!--/--> | files | group | lib.size | norm.factors | lane |\n",
       "|---|---|---|---|---|---|\n",
       "| 10_6_5_11 | GSM1545535_10_6_5_11.txt | LP                       | 32863052                 | 1                        | L004                     |\n",
       "| 9_6_5_11 | GSM1545536_9_6_5_11.txt  | ML                       | 35335491                 | 1                        | L004                     |\n",
       "| purep53 | GSM1545538_purep53.txt   | Basal                    | 57160817                 | 1                        | L004                     |\n",
       "| JMS8-2 | GSM1545539_JMS8-2.txt    | Basal                    | 51368625                 | 1                        | L006                     |\n",
       "| JMS8-3 | GSM1545540_JMS8-3.txt    | ML                       | 75795034                 | 1                        | L006                     |\n",
       "| JMS8-4 | GSM1545541_JMS8-4.txt    | LP                       | 60517657                 | 1                        | L006                     |\n",
       "| JMS8-5 | GSM1545542_JMS8-5.txt    | Basal                    | 55086324                 | 1                        | L006                     |\n",
       "| JMS9-P7c | GSM1545544_JMS9-P7c.txt  | ML                       | 21311068                 | 1                        | L008                     |\n",
       "| JMS9-P8c | GSM1545545_JMS9-P8c.txt  | LP                       | 19958838                 | 1                        | L008                     |\n",
       "\n"
      ],
      "text/plain": [
       "          files                    group lib.size norm.factors lane\n",
       "10_6_5_11 GSM1545535_10_6_5_11.txt LP    32863052 1            L004\n",
       "9_6_5_11  GSM1545536_9_6_5_11.txt  ML    35335491 1            L004\n",
       "purep53   GSM1545538_purep53.txt   Basal 57160817 1            L004\n",
       "JMS8-2    GSM1545539_JMS8-2.txt    Basal 51368625 1            L006\n",
       "JMS8-3    GSM1545540_JMS8-3.txt    ML    75795034 1            L006\n",
       "JMS8-4    GSM1545541_JMS8-4.txt    LP    60517657 1            L006\n",
       "JMS8-5    GSM1545542_JMS8-5.txt    Basal 55086324 1            L006\n",
       "JMS9-P7c  GSM1545544_JMS9-P7c.txt  ML    21311068 1            L008\n",
       "JMS9-P8c  GSM1545545_JMS9-P8c.txt  LP    19958838 1            L008"
      ]
     },
     "metadata": {},
     "output_type": "display_data"
    }
   ],
   "source": [
    "#Note that the table is automatically converted to factors by 'read.table'\n",
    "group <- meta$group\n",
    "x$samples$group <- group\n",
    "lane <- meta$lane\n",
    "x$samples$lane <- lane\n",
    "x$samples"
   ]
  },
  {
   "cell_type": "code",
   "execution_count": 17,
   "metadata": {},
   "outputs": [],
   "source": [
    "## ----Annotate Genes----------------------------------------\n",
    "# First we get all of the gene IDs that are in our DGEList\n",
    "geneid <- rownames(x)"
   ]
  },
  {
   "cell_type": "code",
   "execution_count": 18,
   "metadata": {
    "scrolled": true
   },
   "outputs": [
    {
     "data": {
      "text/html": [
       "<table>\n",
       "<thead><tr><th></th><th scope=col>ENTREZID</th><th scope=col>EVIDENCE</th><th scope=col>ONTOLOGY</th><th scope=col>SYMBOL</th><th scope=col>TXCHROM</th><th scope=col>GOID</th></tr></thead>\n",
       "<tbody>\n",
       "\t<tr><th scope=row>1</th><td>   497097 </td><td>ND        </td><td>MF        </td><td>Xkr4      </td><td>chr1      </td><td>GO:0003674</td></tr>\n",
       "\t<tr><th scope=row>5</th><td>100503874 </td><td>NA        </td><td>NA        </td><td>Gm19938   </td><td>NA        </td><td>NA        </td></tr>\n",
       "\t<tr><th scope=row>6</th><td>100038431 </td><td>NA        </td><td>NA        </td><td>Gm10568   </td><td>NA        </td><td>NA        </td></tr>\n",
       "\t<tr><th scope=row>7</th><td>    19888 </td><td>IDA       </td><td>CC        </td><td>Rp1       </td><td>chr1      </td><td>GO:0001750</td></tr>\n",
       "\t<tr><th scope=row>37</th><td>    20671 </td><td>IMP       </td><td>BP        </td><td>Sox17     </td><td>chr1      </td><td>GO:0000122</td></tr>\n",
       "\t<tr><th scope=row>109</th><td>    27395 </td><td>TAS       </td><td>BP        </td><td>Mrpl15    </td><td>chr1      </td><td>GO:0000002</td></tr>\n",
       "</tbody>\n",
       "</table>\n"
      ],
      "text/latex": [
       "\\begin{tabular}{r|llllll}\n",
       "  & ENTREZID & EVIDENCE & ONTOLOGY & SYMBOL & TXCHROM & GOID\\\\\n",
       "\\hline\n",
       "\t1 &    497097  & ND         & MF         & Xkr4       & chr1       & GO:0003674\\\\\n",
       "\t5 & 100503874  & NA         & NA         & Gm19938    & NA         & NA        \\\\\n",
       "\t6 & 100038431  & NA         & NA         & Gm10568    & NA         & NA        \\\\\n",
       "\t7 &     19888  & IDA        & CC         & Rp1        & chr1       & GO:0001750\\\\\n",
       "\t37 &     20671  & IMP        & BP         & Sox17      & chr1       & GO:0000122\\\\\n",
       "\t109 &     27395  & TAS        & BP         & Mrpl15     & chr1       & GO:0000002\\\\\n",
       "\\end{tabular}\n"
      ],
      "text/markdown": [
       "\n",
       "| <!--/--> | ENTREZID | EVIDENCE | ONTOLOGY | SYMBOL | TXCHROM | GOID |\n",
       "|---|---|---|---|---|---|---|\n",
       "| 1 |    497097  | ND         | MF         | Xkr4       | chr1       | GO:0003674 |\n",
       "| 5 | 100503874  | NA         | NA         | Gm19938    | NA         | NA         |\n",
       "| 6 | 100038431  | NA         | NA         | Gm10568    | NA         | NA         |\n",
       "| 7 |     19888  | IDA        | CC         | Rp1        | chr1       | GO:0001750 |\n",
       "| 37 |     20671  | IMP        | BP         | Sox17      | chr1       | GO:0000122 |\n",
       "| 109 |     27395  | TAS        | BP         | Mrpl15     | chr1       | GO:0000002 |\n",
       "\n"
      ],
      "text/plain": [
       "    ENTREZID  EVIDENCE ONTOLOGY SYMBOL  TXCHROM GOID      \n",
       "1      497097 ND       MF       Xkr4    chr1    GO:0003674\n",
       "5   100503874 NA       NA       Gm19938 NA      NA        \n",
       "6   100038431 NA       NA       Gm10568 NA      NA        \n",
       "7       19888 IDA      CC       Rp1     chr1    GO:0001750\n",
       "37      20671 IMP      BP       Sox17   chr1    GO:0000122\n",
       "109     27395 TAS      BP       Mrpl15  chr1    GO:0000002"
      ]
     },
     "metadata": {},
     "output_type": "display_data"
    }
   ],
   "source": [
    "# Since the mouse annotation package is giving people problems I grabbed all the annotation data we want and put it in a table that you can import\n",
    "# The line of code below should get you the latest annotation if the Mus.musculus package is working \n",
    "#genes <- select(Mus.musculus, keys=geneid, columns=c(\"SYMBOL\", \"TXCHROM\", \"GOID\"), keytype=\"ENTREZID\")\n",
    "genes= read.table(\"genes.txt\")\n",
    "head(genes)"
   ]
  },
  {
   "cell_type": "code",
   "execution_count": 20,
   "metadata": {},
   "outputs": [],
   "source": [
    "#This cell is probably optional- it looks like the table of genes is already filtered\n",
    "\n",
    "#nrow(genes)\n",
    "# You may notice a 1:many error popped upt. That's because some of these gene entries have multiple entries, from splice variants for instance.\n",
    "# The following command removes duplicate entries.\n",
    "#genes <- genes[!duplicated(genes$ENTREZID),]\n",
    "#nrow(genes)"
   ]
  },
  {
   "cell_type": "code",
   "execution_count": 22,
   "metadata": {
    "scrolled": false
   },
   "outputs": [
    {
     "data": {
      "text/html": [
       "<dl>\n",
       "\t<dt>$samples</dt>\n",
       "\t\t<dd><table>\n",
       "<thead><tr><th></th><th scope=col>files</th><th scope=col>group</th><th scope=col>lib.size</th><th scope=col>norm.factors</th><th scope=col>lane</th></tr></thead>\n",
       "<tbody>\n",
       "\t<tr><th scope=row>10_6_5_11</th><td>GSM1545535_10_6_5_11.txt</td><td>LP                      </td><td>32863052                </td><td>1                       </td><td>L004                    </td></tr>\n",
       "\t<tr><th scope=row>9_6_5_11</th><td>GSM1545536_9_6_5_11.txt </td><td>ML                      </td><td>35335491                </td><td>1                       </td><td>L004                    </td></tr>\n",
       "\t<tr><th scope=row>purep53</th><td>GSM1545538_purep53.txt  </td><td>Basal                   </td><td>57160817                </td><td>1                       </td><td>L004                    </td></tr>\n",
       "\t<tr><th scope=row>JMS8-2</th><td>GSM1545539_JMS8-2.txt   </td><td>Basal                   </td><td>51368625                </td><td>1                       </td><td>L006                    </td></tr>\n",
       "\t<tr><th scope=row>JMS8-3</th><td>GSM1545540_JMS8-3.txt   </td><td>ML                      </td><td>75795034                </td><td>1                       </td><td>L006                    </td></tr>\n",
       "\t<tr><th scope=row>JMS8-4</th><td>GSM1545541_JMS8-4.txt   </td><td>LP                      </td><td>60517657                </td><td>1                       </td><td>L006                    </td></tr>\n",
       "\t<tr><th scope=row>JMS8-5</th><td>GSM1545542_JMS8-5.txt   </td><td>Basal                   </td><td>55086324                </td><td>1                       </td><td>L006                    </td></tr>\n",
       "\t<tr><th scope=row>JMS9-P7c</th><td>GSM1545544_JMS9-P7c.txt </td><td>ML                      </td><td>21311068                </td><td>1                       </td><td>L008                    </td></tr>\n",
       "\t<tr><th scope=row>JMS9-P8c</th><td>GSM1545545_JMS9-P8c.txt </td><td>LP                      </td><td>19958838                </td><td>1                       </td><td>L008                    </td></tr>\n",
       "</tbody>\n",
       "</table>\n",
       "</dd>\n",
       "\t<dt>$counts</dt>\n",
       "\t\t<dd><table>\n",
       "<thead><tr><th></th><th scope=col>10_6_5_11</th><th scope=col>9_6_5_11</th><th scope=col>purep53</th><th scope=col>JMS8-2</th><th scope=col>JMS8-3</th><th scope=col>JMS8-4</th><th scope=col>JMS8-5</th><th scope=col>JMS9-P7c</th><th scope=col>JMS9-P8c</th></tr></thead>\n",
       "<tbody>\n",
       "\t<tr><th scope=row>497097</th><td>   1</td><td>   2</td><td> 342</td><td> 526</td><td>   3</td><td>   3</td><td> 535</td><td>   2</td><td>   0</td></tr>\n",
       "\t<tr><th scope=row>100503874</th><td>   0</td><td>   0</td><td>   5</td><td>   6</td><td>   0</td><td>   0</td><td>   5</td><td>   0</td><td>   0</td></tr>\n",
       "\t<tr><th scope=row>100038431</th><td>   0</td><td>   0</td><td>   0</td><td>   0</td><td>   0</td><td>   0</td><td>   1</td><td>   0</td><td>   0</td></tr>\n",
       "\t<tr><th scope=row>19888</th><td>   0</td><td>   1</td><td>   0</td><td>   0</td><td>  17</td><td>   2</td><td>   0</td><td>   1</td><td>   0</td></tr>\n",
       "\t<tr><th scope=row>20671</th><td>   1</td><td>   1</td><td>  76</td><td>  40</td><td>  33</td><td>  14</td><td>  98</td><td>  18</td><td>   8</td></tr>\n",
       "\t<tr><th scope=row>27395</th><td> 431</td><td> 771</td><td>1368</td><td>1268</td><td>1564</td><td> 769</td><td> 818</td><td> 468</td><td> 342</td></tr>\n",
       "\t<tr><th scope=row>18777</th><td> 768</td><td>1722</td><td>2517</td><td>1923</td><td>3865</td><td>1888</td><td>1830</td><td>1246</td><td> 693</td></tr>\n",
       "\t<tr><th scope=row>100503730</th><td>   4</td><td>   8</td><td>   6</td><td>   2</td><td>  11</td><td>  11</td><td>   3</td><td>   9</td><td>   2</td></tr>\n",
       "\t<tr><th scope=row>21399</th><td> 810</td><td> 977</td><td>2472</td><td>1870</td><td>2251</td><td>1716</td><td>1932</td><td> 756</td><td> 619</td></tr>\n",
       "\t<tr><th scope=row>58175</th><td> 452</td><td> 358</td><td>  17</td><td>  14</td><td> 622</td><td> 571</td><td>  12</td><td> 203</td><td> 224</td></tr>\n",
       "\t<tr><th scope=row>108664</th><td>1716</td><td>2678</td><td>2097</td><td>2071</td><td>5499</td><td>3630</td><td>1731</td><td>1715</td><td>1251</td></tr>\n",
       "\t<tr><th scope=row>18387</th><td>   0</td><td>   0</td><td>   0</td><td>   0</td><td>   0</td><td>   0</td><td>   0</td><td>   0</td><td>   0</td></tr>\n",
       "\t<tr><th scope=row>226304</th><td>   0</td><td>   0</td><td>   0</td><td>   0</td><td>   0</td><td>   0</td><td>   0</td><td>   0</td><td>   0</td></tr>\n",
       "\t<tr><th scope=row>12421</th><td>3451</td><td>2699</td><td>3399</td><td>2716</td><td>5233</td><td>6280</td><td>3647</td><td>1866</td><td>2122</td></tr>\n",
       "\t<tr><th scope=row>620393</th><td>   0</td><td>   0</td><td>   2</td><td>   3</td><td>   0</td><td>   0</td><td>   0</td><td>   0</td><td>   0</td></tr>\n",
       "\t<tr><th scope=row>240690</th><td>   0</td><td>   0</td><td>   0</td><td>   1</td><td>   0</td><td>   0</td><td>   0</td><td>   0</td><td>   0</td></tr>\n",
       "\t<tr><th scope=row>319263</th><td>2026</td><td>2033</td><td>3920</td><td>2715</td><td>3873</td><td>3688</td><td>3593</td><td>1609</td><td>1348</td></tr>\n",
       "\t<tr><th scope=row>71096</th><td>   0</td><td>   0</td><td>   1</td><td>   5</td><td>   0</td><td>   0</td><td>   4</td><td>   0</td><td>   0</td></tr>\n",
       "\t<tr><th scope=row>59014</th><td> 956</td><td> 985</td><td>5497</td><td>4214</td><td>3462</td><td>2933</td><td>5336</td><td> 649</td><td> 731</td></tr>\n",
       "\t<tr><th scope=row>76187</th><td>  54</td><td>  76</td><td>  46</td><td>  32</td><td> 148</td><td> 126</td><td>  59</td><td>  44</td><td>  27</td></tr>\n",
       "\t<tr><th scope=row>72481</th><td>  16</td><td>  28</td><td>  12</td><td>  12</td><td>  67</td><td>  24</td><td>  14</td><td>  18</td><td>  11</td></tr>\n",
       "\t<tr><th scope=row>76982</th><td>  21</td><td>   9</td><td>  21</td><td>  44</td><td>  35</td><td>  34</td><td>  29</td><td>   8</td><td>  15</td></tr>\n",
       "\t<tr><th scope=row>17864</th><td> 194</td><td> 166</td><td>1007</td><td> 862</td><td> 632</td><td> 594</td><td> 901</td><td> 100</td><td> 131</td></tr>\n",
       "\t<tr><th scope=row>70675</th><td>2390</td><td>2012</td><td>3500</td><td>3020</td><td>5412</td><td>4404</td><td>4173</td><td>1585</td><td>1522</td></tr>\n",
       "\t<tr><th scope=row>73331</th><td>   3</td><td>   2</td><td>   4</td><td>   1</td><td>   1</td><td>   5</td><td>   2</td><td>   3</td><td>   0</td></tr>\n",
       "\t<tr><th scope=row>170755</th><td>  87</td><td> 323</td><td> 734</td><td> 565</td><td> 721</td><td> 249</td><td> 666</td><td> 267</td><td> 113</td></tr>\n",
       "\t<tr><th scope=row>620986</th><td>  71</td><td> 194</td><td> 383</td><td> 206</td><td> 307</td><td> 110</td><td> 206</td><td> 112</td><td>  50</td></tr>\n",
       "\t<tr><th scope=row>240697</th><td>   0</td><td>   0</td><td>   9</td><td>   8</td><td>   3</td><td>   1</td><td>   7</td><td>   0</td><td>   1</td></tr>\n",
       "\t<tr><th scope=row>73824</th><td> 289</td><td> 487</td><td> 824</td><td> 565</td><td> 709</td><td> 517</td><td> 662</td><td> 335</td><td> 271</td></tr>\n",
       "\t<tr><th scope=row>266793</th><td>   4</td><td>   6</td><td>  54</td><td>  10</td><td>  18</td><td>  19</td><td>  43</td><td>   9</td><td>   6</td></tr>\n",
       "\t<tr><th scope=row>⋮</th><td><U+22EE></td><td><U+22EE></td><td><U+22EE></td><td><U+22EE></td><td><U+22EE></td><td><U+22EE></td><td><U+22EE></td><td><U+22EE></td><td><U+22EE></td></tr>\n",
       "\t<tr><th scope=row>100041168</th><td>  0 </td><td>  0 </td><td>   0</td><td>  0 </td><td>   0</td><td>   0</td><td>   0</td><td>  0 </td><td>  0 </td></tr>\n",
       "\t<tr><th scope=row>100041207</th><td>  0 </td><td>  0 </td><td>   0</td><td>  0 </td><td>   0</td><td>   0</td><td>   0</td><td>  0 </td><td>  0 </td></tr>\n",
       "\t<tr><th scope=row>100861637</th><td>  0 </td><td>  0 </td><td>   0</td><td>  0 </td><td>   0</td><td>   0</td><td>   0</td><td>  0 </td><td>  0 </td></tr>\n",
       "\t<tr><th scope=row>100861988</th><td>  0 </td><td>  0 </td><td>   0</td><td>  0 </td><td>   0</td><td>   0</td><td>   0</td><td>  0 </td><td>  0 </td></tr>\n",
       "\t<tr><th scope=row>100862006</th><td>  0 </td><td>  0 </td><td>   0</td><td>  0 </td><td>   0</td><td>   0</td><td>   0</td><td>  0 </td><td>  0 </td></tr>\n",
       "\t<tr><th scope=row>100862025</th><td>  0 </td><td>  0 </td><td>   0</td><td>  0 </td><td>   0</td><td>   0</td><td>   0</td><td>  0 </td><td>  0 </td></tr>\n",
       "\t<tr><th scope=row>100040991</th><td>  0 </td><td>  0 </td><td>   0</td><td>  0 </td><td>   0</td><td>   0</td><td>   0</td><td>  0 </td><td>  0 </td></tr>\n",
       "\t<tr><th scope=row>100040911</th><td>  0 </td><td>  0 </td><td>   0</td><td>  0 </td><td>   0</td><td>   0</td><td>   0</td><td>  0 </td><td>  0 </td></tr>\n",
       "\t<tr><th scope=row>100862053</th><td>  0 </td><td>  0 </td><td>   0</td><td>  0 </td><td>   0</td><td>   0</td><td>   0</td><td>  0 </td><td>  0 </td></tr>\n",
       "\t<tr><th scope=row>100039905</th><td>  0 </td><td>  0 </td><td>   0</td><td>  0 </td><td>   0</td><td>   0</td><td>   0</td><td>  0 </td><td>  0 </td></tr>\n",
       "\t<tr><th scope=row>100041141</th><td>  0 </td><td>  0 </td><td>   0</td><td>  0 </td><td>   0</td><td>   0</td><td>   0</td><td>  0 </td><td>  0 </td></tr>\n",
       "\t<tr><th scope=row>100041117</th><td>  0 </td><td>  0 </td><td>   0</td><td>  0 </td><td>   0</td><td>   0</td><td>   0</td><td>  0 </td><td>  0 </td></tr>\n",
       "\t<tr><th scope=row>100862083</th><td>  0 </td><td>  0 </td><td>   0</td><td>  0 </td><td>   0</td><td>   0</td><td>   0</td><td>  0 </td><td>  0 </td></tr>\n",
       "\t<tr><th scope=row>100862092</th><td>  0 </td><td>  0 </td><td>   0</td><td>  0 </td><td>   0</td><td>   0</td><td>   0</td><td>  0 </td><td>  0 </td></tr>\n",
       "\t<tr><th scope=row>100862100</th><td>  0 </td><td>  0 </td><td>   0</td><td>  0 </td><td>   0</td><td>   0</td><td>   0</td><td>  0 </td><td>  0 </td></tr>\n",
       "\t<tr><th scope=row>100042201</th><td>  0 </td><td>  0 </td><td>   0</td><td>  0 </td><td>   0</td><td>   0</td><td>   0</td><td>  0 </td><td>  0 </td></tr>\n",
       "\t<tr><th scope=row>100039904</th><td>  0 </td><td>  0 </td><td>   0</td><td>  0 </td><td>   0</td><td>   0</td><td>   0</td><td>  0 </td><td>  0 </td></tr>\n",
       "\t<tr><th scope=row>100861873</th><td>  0 </td><td>  0 </td><td>   0</td><td>  0 </td><td>   0</td><td>   0</td><td>   0</td><td>  0 </td><td>  0 </td></tr>\n",
       "\t<tr><th scope=row>100861881</th><td>  0 </td><td>  0 </td><td>   0</td><td>  0 </td><td>   0</td><td>   0</td><td>   0</td><td>  0 </td><td>  0 </td></tr>\n",
       "\t<tr><th scope=row>100504642</th><td>  0 </td><td>  0 </td><td>   0</td><td>  0 </td><td>   0</td><td>   0</td><td>   0</td><td>  0 </td><td>  0 </td></tr>\n",
       "\t<tr><th scope=row>100041631</th><td>  0 </td><td>  0 </td><td>   0</td><td>  0 </td><td>   0</td><td>   0</td><td>   0</td><td>  0 </td><td>  0 </td></tr>\n",
       "\t<tr><th scope=row>100504702</th><td>  0 </td><td>  0 </td><td>   0</td><td>  0 </td><td>   0</td><td>   0</td><td>   0</td><td>  0 </td><td>  0 </td></tr>\n",
       "\t<tr><th scope=row>100040357</th><td>  0 </td><td>  0 </td><td>   0</td><td>  0 </td><td>   0</td><td>   0</td><td>   0</td><td>  0 </td><td>  0 </td></tr>\n",
       "\t<tr><th scope=row>100861808</th><td>  0 </td><td>  0 </td><td>   0</td><td>  0 </td><td>   0</td><td>   0</td><td>   0</td><td>  0 </td><td>  0 </td></tr>\n",
       "\t<tr><th scope=row>100504460</th><td>  0 </td><td>  0 </td><td>   0</td><td>  0 </td><td>   0</td><td>   0</td><td>   0</td><td>  0 </td><td>  0 </td></tr>\n",
       "\t<tr><th scope=row>100861837</th><td>320 </td><td>472 </td><td> 582</td><td>335 </td><td> 811</td><td> 432</td><td> 500</td><td>200 </td><td> 84 </td></tr>\n",
       "\t<tr><th scope=row>100861924</th><td> 15 </td><td> 27 </td><td> 126</td><td>  7 </td><td>  17</td><td>  22</td><td>  35</td><td>  3 </td><td>  2 </td></tr>\n",
       "\t<tr><th scope=row>170942</th><td>824 </td><td>769 </td><td>1337</td><td>781 </td><td>1266</td><td>1089</td><td>1274</td><td>469 </td><td>379 </td></tr>\n",
       "\t<tr><th scope=row>100861691</th><td>  0 </td><td>  0 </td><td>   0</td><td>  0 </td><td>   0</td><td>   0</td><td>   0</td><td>  0 </td><td>  0 </td></tr>\n",
       "\t<tr><th scope=row>100504472</th><td>  0 </td><td>  0 </td><td>   0</td><td>  0 </td><td>   0</td><td>   0</td><td>   0</td><td>  0 </td><td>  0 </td></tr>\n",
       "</tbody>\n",
       "</table>\n",
       "</dd>\n",
       "\t<dt>$genes</dt>\n",
       "\t\t<dd><table>\n",
       "<thead><tr><th></th><th scope=col>ENTREZID</th><th scope=col>EVIDENCE</th><th scope=col>ONTOLOGY</th><th scope=col>SYMBOL</th><th scope=col>TXCHROM</th><th scope=col>GOID</th></tr></thead>\n",
       "<tbody>\n",
       "\t<tr><th scope=row>1</th><td>   497097    </td><td>ND           </td><td>MF           </td><td>Xkr4         </td><td>chr1         </td><td>GO:0003674   </td></tr>\n",
       "\t<tr><th scope=row>5</th><td>100503874    </td><td>NA           </td><td>NA           </td><td>Gm19938      </td><td>NA           </td><td>NA           </td></tr>\n",
       "\t<tr><th scope=row>6</th><td>100038431    </td><td>NA           </td><td>NA           </td><td>Gm10568      </td><td>NA           </td><td>NA           </td></tr>\n",
       "\t<tr><th scope=row>7</th><td>    19888    </td><td>IDA          </td><td>CC           </td><td>Rp1          </td><td>chr1         </td><td>GO:0001750   </td></tr>\n",
       "\t<tr><th scope=row>37</th><td>    20671    </td><td>IMP          </td><td>BP           </td><td>Sox17        </td><td>chr1         </td><td>GO:0000122   </td></tr>\n",
       "\t<tr><th scope=row>109</th><td>    27395    </td><td>TAS          </td><td>BP           </td><td>Mrpl15       </td><td>chr1         </td><td>GO:0000002   </td></tr>\n",
       "\t<tr><th scope=row>122</th><td>    18777    </td><td>IMP          </td><td>BP           </td><td>Lypla1       </td><td>chr1         </td><td>GO:0002084   </td></tr>\n",
       "\t<tr><th scope=row>136</th><td>100503730    </td><td>NA           </td><td>NA           </td><td>Gm19860      </td><td>NA           </td><td>NA           </td></tr>\n",
       "\t<tr><th scope=row>137</th><td>    21399    </td><td>IEA          </td><td>MF           </td><td>Tcea1        </td><td>chr1         </td><td>GO:0003676   </td></tr>\n",
       "\t<tr><th scope=row>151</th><td>    58175    </td><td>TAS          </td><td>MF           </td><td>Rgs20        </td><td>chr1         </td><td>GO:0005096   </td></tr>\n",
       "\t<tr><th scope=row>161</th><td>   108664    </td><td>IBA          </td><td>CC           </td><td>Atp6v1h      </td><td>chr1         </td><td>GO:0000221   </td></tr>\n",
       "\t<tr><th scope=row>173</th><td>    18387    </td><td>IEA          </td><td>MF           </td><td>Oprk1        </td><td>chr1         </td><td>GO:0004871   </td></tr>\n",
       "\t<tr><th scope=row>220</th><td>   226304    </td><td>IEA          </td><td>MF           </td><td>Npbwr1       </td><td>chr1         </td><td>GO:0004871   </td></tr>\n",
       "\t<tr><th scope=row>235</th><td>    12421    </td><td>IMP          </td><td>BP           </td><td>Rb1cc1       </td><td>chr1         </td><td>GO:0000045   </td></tr>\n",
       "\t<tr><th scope=row>265</th><td>   620393    </td><td>ND           </td><td>CC           </td><td>Fam150a      </td><td>chr1         </td><td>GO:0005575   </td></tr>\n",
       "\t<tr><th scope=row>271</th><td>   240690    </td><td>ISO          </td><td>BP           </td><td>St18         </td><td>chr1         </td><td>GO:0000122   </td></tr>\n",
       "\t<tr><th scope=row>279</th><td>   319263    </td><td>IBA          </td><td>MF           </td><td>Pcmtd1       </td><td>chr1         </td><td>GO:0004719   </td></tr>\n",
       "\t<tr><th scope=row>284</th><td>    71096    </td><td>IEA          </td><td>MF           </td><td>Sntg1        </td><td>chr1         </td><td>GO:0003779   </td></tr>\n",
       "\t<tr><th scope=row>291</th><td>    59014    </td><td>IBA          </td><td>BP           </td><td>Rrs1         </td><td>chr1         </td><td>GO:0000055   </td></tr>\n",
       "\t<tr><th scope=row>306</th><td>    76187    </td><td>IBA          </td><td>MF           </td><td>Adhfe1       </td><td>chr1         </td><td>GO:0004022   </td></tr>\n",
       "\t<tr><th scope=row>314</th><td>    72481    </td><td>ND           </td><td>MF           </td><td>2610203C22Rik</td><td>chr1         </td><td>GO:0003674   </td></tr>\n",
       "\t<tr><th scope=row>317</th><td>    76982    </td><td>ND           </td><td>MF           </td><td>3110035E14Rik</td><td>chr1         </td><td>GO:0003674   </td></tr>\n",
       "\t<tr><th scope=row>320</th><td>    17864    </td><td>IBA          </td><td>BP           </td><td>Mybl1        </td><td>chr1         </td><td>GO:0000278   </td></tr>\n",
       "\t<tr><th scope=row>335</th><td>    70675    </td><td>ISO          </td><td>MF           </td><td>Vcpip1       </td><td>chr1         </td><td>GO:0004843   </td></tr>\n",
       "\t<tr><th scope=row>351</th><td>    73331    </td><td>ND           </td><td>MF           </td><td>1700034P13Rik</td><td>chr1         </td><td>GO:0003674   </td></tr>\n",
       "\t<tr><th scope=row>354</th><td>   170755    </td><td>IEA          </td><td>MF           </td><td>Sgk3         </td><td>chr1         </td><td>GO:0000166   </td></tr>\n",
       "\t<tr><th scope=row>375</th><td>   620986    </td><td>NA           </td><td>NA           </td><td>Gm6195       </td><td>NA           </td><td>NA           </td></tr>\n",
       "\t<tr><th scope=row>376</th><td>   240697    </td><td>ND           </td><td>MF           </td><td>Mcmdc2       </td><td>chr1         </td><td>GO:0003674   </td></tr>\n",
       "\t<tr><th scope=row>388</th><td>    73824    </td><td>ND           </td><td>MF           </td><td>Snhg6        </td><td>chr1         </td><td>GO:0003674   </td></tr>\n",
       "\t<tr><th scope=row>391</th><td>   266793    </td><td>ISO          </td><td>CC           </td><td>Snord87      </td><td>chr1         </td><td>GO:0005730   </td></tr>\n",
       "\t<tr><th scope=row>⋮</th><td><U+22EE></td><td><U+22EE></td><td><U+22EE></td><td><U+22EE></td><td><U+22EE></td><td><U+22EE></td></tr>\n",
       "\t<tr><th scope=row>324447</th><td>100041168   </td><td>NA          </td><td>NA          </td><td>Gm20863     </td><td>NA          </td><td>NA          </td></tr>\n",
       "\t<tr><th scope=row>324448</th><td>100041207   </td><td>NA          </td><td>NA          </td><td>NA          </td><td>NA          </td><td>NA          </td></tr>\n",
       "\t<tr><th scope=row>324449</th><td>100861637   </td><td>IBA         </td><td>CC          </td><td>Gm21095     </td><td>NA          </td><td>GO:0005634  </td></tr>\n",
       "\t<tr><th scope=row>324451</th><td>100861988   </td><td>NA          </td><td>NA          </td><td>Gm21380     </td><td>NA          </td><td>NA          </td></tr>\n",
       "\t<tr><th scope=row>324452</th><td>100862006   </td><td>NA          </td><td>NA          </td><td>NA          </td><td>NA          </td><td>NA          </td></tr>\n",
       "\t<tr><th scope=row>324453</th><td>100862025   </td><td>NA          </td><td>NA          </td><td>Gm21409     </td><td>NA          </td><td>NA          </td></tr>\n",
       "\t<tr><th scope=row>324454</th><td>100040991   </td><td>NA          </td><td>NA          </td><td>Gm20856     </td><td>NA          </td><td>NA          </td></tr>\n",
       "\t<tr><th scope=row>324455</th><td>100040911   </td><td>NA          </td><td>NA          </td><td>Gm20854     </td><td>chrY        </td><td>NA          </td></tr>\n",
       "\t<tr><th scope=row>324456</th><td>100862053   </td><td>NA          </td><td>NA          </td><td>Gm21435     </td><td>NA          </td><td>NA          </td></tr>\n",
       "\t<tr><th scope=row>324457</th><td>100039905   </td><td>IBA         </td><td>CC          </td><td>Gm20820     </td><td>NA          </td><td>GO:0005634  </td></tr>\n",
       "\t<tr><th scope=row>324459</th><td>100041141   </td><td>NA          </td><td>NA          </td><td>Gm20861     </td><td>NA          </td><td>NA          </td></tr>\n",
       "\t<tr><th scope=row>324460</th><td>100041117   </td><td>NA          </td><td>NA          </td><td>Gm20860     </td><td>NA          </td><td>NA          </td></tr>\n",
       "\t<tr><th scope=row>324461</th><td>100862083   </td><td>NA          </td><td>NA          </td><td>Gm21462     </td><td>NA          </td><td>NA          </td></tr>\n",
       "\t<tr><th scope=row>324462</th><td>100862092   </td><td>NA          </td><td>NA          </td><td>Gm21470     </td><td>NA          </td><td>NA          </td></tr>\n",
       "\t<tr><th scope=row>324463</th><td>100862100   </td><td>NA          </td><td>NA          </td><td>Gm21477     </td><td>NA          </td><td>NA          </td></tr>\n",
       "\t<tr><th scope=row>324464</th><td>100042201   </td><td>NA          </td><td>NA          </td><td>Gm20906     </td><td>NA          </td><td>NA          </td></tr>\n",
       "\t<tr><th scope=row>324465</th><td>100039904   </td><td>NA          </td><td>NA          </td><td>Gm20819     </td><td>NA          </td><td>NA          </td></tr>\n",
       "\t<tr><th scope=row>324466</th><td>100861873   </td><td>NA          </td><td>NA          </td><td>Gm21287     </td><td>NA          </td><td>NA          </td></tr>\n",
       "\t<tr><th scope=row>324467</th><td>100861881   </td><td>IBA         </td><td>CC          </td><td>Gm21294     </td><td>NA          </td><td>GO:0005634  </td></tr>\n",
       "\t<tr><th scope=row>324469</th><td>100504642   </td><td>IBA         </td><td>CC          </td><td>Gm21996     </td><td>NA          </td><td>GO:0005634  </td></tr>\n",
       "\t<tr><th scope=row>324471</th><td>100041631   </td><td>NA          </td><td>NA          </td><td>Gm20879     </td><td>NA          </td><td>NA          </td></tr>\n",
       "\t<tr><th scope=row>324472</th><td>100504702   </td><td>NA          </td><td>NA          </td><td>NA          </td><td>NA          </td><td>NA          </td></tr>\n",
       "\t<tr><th scope=row>324473</th><td>100040357   </td><td>NA          </td><td>NA          </td><td>Gm20837     </td><td>NA          </td><td>NA          </td></tr>\n",
       "\t<tr><th scope=row>324474</th><td>100861808   </td><td>NA          </td><td>NA          </td><td>NA          </td><td>NA          </td><td>NA          </td></tr>\n",
       "\t<tr><th scope=row>324475</th><td>100504460   </td><td>NA          </td><td>NA          </td><td>NA          </td><td>NA          </td><td>NA          </td></tr>\n",
       "\t<tr><th scope=row>324476</th><td>100861837   </td><td>NA          </td><td>NA          </td><td>NA          </td><td>NA          </td><td>NA          </td></tr>\n",
       "\t<tr><th scope=row>324477</th><td>100861924   </td><td>NA          </td><td>NA          </td><td>NA          </td><td>NA          </td><td>NA          </td></tr>\n",
       "\t<tr><th scope=row>324478</th><td>   170942   </td><td>ND          </td><td>MF          </td><td>Erdr1       </td><td>chrY        </td><td>GO:0003674  </td></tr>\n",
       "\t<tr><th scope=row>324483</th><td>100861691   </td><td>NA          </td><td>NA          </td><td>LOC100861691</td><td>NA          </td><td>NA          </td></tr>\n",
       "\t<tr><th scope=row>324484</th><td>100504472   </td><td>NA          </td><td>NA          </td><td>NA          </td><td>NA          </td><td>NA          </td></tr>\n",
       "</tbody>\n",
       "</table>\n",
       "</dd>\n",
       "</dl>\n"
      ],
      "text/latex": [
       "\\begin{description}\n",
       "\\item[\\$samples] \\begin{tabular}{r|lllll}\n",
       "  & files & group & lib.size & norm.factors & lane\\\\\n",
       "\\hline\n",
       "\t10\\_6\\_5\\_11 & GSM1545535\\_10\\_6\\_5\\_11.txt & LP                               & 32863052                         & 1                                & L004                            \\\\\n",
       "\t9\\_6\\_5\\_11 & GSM1545536\\_9\\_6\\_5\\_11.txt  & ML                               & 35335491                         & 1                                & L004                            \\\\\n",
       "\tpurep53 & GSM1545538\\_purep53.txt   & Basal                      & 57160817                   & 1                          & L004                      \\\\\n",
       "\tJMS8-2 & GSM1545539\\_JMS8-2.txt    & Basal                      & 51368625                   & 1                          & L006                      \\\\\n",
       "\tJMS8-3 & GSM1545540\\_JMS8-3.txt    & ML                         & 75795034                   & 1                          & L006                      \\\\\n",
       "\tJMS8-4 & GSM1545541\\_JMS8-4.txt    & LP                         & 60517657                   & 1                          & L006                      \\\\\n",
       "\tJMS8-5 & GSM1545542\\_JMS8-5.txt    & Basal                      & 55086324                   & 1                          & L006                      \\\\\n",
       "\tJMS9-P7c & GSM1545544\\_JMS9-P7c.txt  & ML                         & 21311068                   & 1                          & L008                      \\\\\n",
       "\tJMS9-P8c & GSM1545545\\_JMS9-P8c.txt  & LP                         & 19958838                   & 1                          & L008                      \\\\\n",
       "\\end{tabular}\n",
       "\n",
       "\\item[\\$counts] \\begin{tabular}{r|lllllllll}\n",
       "  & 10\\_6\\_5\\_11 & 9\\_6\\_5\\_11 & purep53 & JMS8-2 & JMS8-3 & JMS8-4 & JMS8-5 & JMS9-P7c & JMS9-P8c\\\\\n",
       "\\hline\n",
       "\t497097 &    1 &    2 &  342 &  526 &    3 &    3 &  535 &    2 &    0\\\\\n",
       "\t100503874 &    0 &    0 &    5 &    6 &    0 &    0 &    5 &    0 &    0\\\\\n",
       "\t100038431 &    0 &    0 &    0 &    0 &    0 &    0 &    1 &    0 &    0\\\\\n",
       "\t19888 &    0 &    1 &    0 &    0 &   17 &    2 &    0 &    1 &    0\\\\\n",
       "\t20671 &    1 &    1 &   76 &   40 &   33 &   14 &   98 &   18 &    8\\\\\n",
       "\t27395 &  431 &  771 & 1368 & 1268 & 1564 &  769 &  818 &  468 &  342\\\\\n",
       "\t18777 &  768 & 1722 & 2517 & 1923 & 3865 & 1888 & 1830 & 1246 &  693\\\\\n",
       "\t100503730 &    4 &    8 &    6 &    2 &   11 &   11 &    3 &    9 &    2\\\\\n",
       "\t21399 &  810 &  977 & 2472 & 1870 & 2251 & 1716 & 1932 &  756 &  619\\\\\n",
       "\t58175 &  452 &  358 &   17 &   14 &  622 &  571 &   12 &  203 &  224\\\\\n",
       "\t108664 & 1716 & 2678 & 2097 & 2071 & 5499 & 3630 & 1731 & 1715 & 1251\\\\\n",
       "\t18387 &    0 &    0 &    0 &    0 &    0 &    0 &    0 &    0 &    0\\\\\n",
       "\t226304 &    0 &    0 &    0 &    0 &    0 &    0 &    0 &    0 &    0\\\\\n",
       "\t12421 & 3451 & 2699 & 3399 & 2716 & 5233 & 6280 & 3647 & 1866 & 2122\\\\\n",
       "\t620393 &    0 &    0 &    2 &    3 &    0 &    0 &    0 &    0 &    0\\\\\n",
       "\t240690 &    0 &    0 &    0 &    1 &    0 &    0 &    0 &    0 &    0\\\\\n",
       "\t319263 & 2026 & 2033 & 3920 & 2715 & 3873 & 3688 & 3593 & 1609 & 1348\\\\\n",
       "\t71096 &    0 &    0 &    1 &    5 &    0 &    0 &    4 &    0 &    0\\\\\n",
       "\t59014 &  956 &  985 & 5497 & 4214 & 3462 & 2933 & 5336 &  649 &  731\\\\\n",
       "\t76187 &   54 &   76 &   46 &   32 &  148 &  126 &   59 &   44 &   27\\\\\n",
       "\t72481 &   16 &   28 &   12 &   12 &   67 &   24 &   14 &   18 &   11\\\\\n",
       "\t76982 &   21 &    9 &   21 &   44 &   35 &   34 &   29 &    8 &   15\\\\\n",
       "\t17864 &  194 &  166 & 1007 &  862 &  632 &  594 &  901 &  100 &  131\\\\\n",
       "\t70675 & 2390 & 2012 & 3500 & 3020 & 5412 & 4404 & 4173 & 1585 & 1522\\\\\n",
       "\t73331 &    3 &    2 &    4 &    1 &    1 &    5 &    2 &    3 &    0\\\\\n",
       "\t170755 &   87 &  323 &  734 &  565 &  721 &  249 &  666 &  267 &  113\\\\\n",
       "\t620986 &   71 &  194 &  383 &  206 &  307 &  110 &  206 &  112 &   50\\\\\n",
       "\t240697 &    0 &    0 &    9 &    8 &    3 &    1 &    7 &    0 &    1\\\\\n",
       "\t73824 &  289 &  487 &  824 &  565 &  709 &  517 &  662 &  335 &  271\\\\\n",
       "\t266793 &    4 &    6 &   54 &   10 &   18 &   19 &   43 &    9 &    6\\\\\n",
       "\t⋮ & <U+22EE> & <U+22EE> & <U+22EE> & <U+22EE> & <U+22EE> & <U+22EE> & <U+22EE> & <U+22EE> & <U+22EE>\\\\\n",
       "\t100041168 &   0  &   0  &    0 &   0  &    0 &    0 &    0 &   0  &   0 \\\\\n",
       "\t100041207 &   0  &   0  &    0 &   0  &    0 &    0 &    0 &   0  &   0 \\\\\n",
       "\t100861637 &   0  &   0  &    0 &   0  &    0 &    0 &    0 &   0  &   0 \\\\\n",
       "\t100861988 &   0  &   0  &    0 &   0  &    0 &    0 &    0 &   0  &   0 \\\\\n",
       "\t100862006 &   0  &   0  &    0 &   0  &    0 &    0 &    0 &   0  &   0 \\\\\n",
       "\t100862025 &   0  &   0  &    0 &   0  &    0 &    0 &    0 &   0  &   0 \\\\\n",
       "\t100040991 &   0  &   0  &    0 &   0  &    0 &    0 &    0 &   0  &   0 \\\\\n",
       "\t100040911 &   0  &   0  &    0 &   0  &    0 &    0 &    0 &   0  &   0 \\\\\n",
       "\t100862053 &   0  &   0  &    0 &   0  &    0 &    0 &    0 &   0  &   0 \\\\\n",
       "\t100039905 &   0  &   0  &    0 &   0  &    0 &    0 &    0 &   0  &   0 \\\\\n",
       "\t100041141 &   0  &   0  &    0 &   0  &    0 &    0 &    0 &   0  &   0 \\\\\n",
       "\t100041117 &   0  &   0  &    0 &   0  &    0 &    0 &    0 &   0  &   0 \\\\\n",
       "\t100862083 &   0  &   0  &    0 &   0  &    0 &    0 &    0 &   0  &   0 \\\\\n",
       "\t100862092 &   0  &   0  &    0 &   0  &    0 &    0 &    0 &   0  &   0 \\\\\n",
       "\t100862100 &   0  &   0  &    0 &   0  &    0 &    0 &    0 &   0  &   0 \\\\\n",
       "\t100042201 &   0  &   0  &    0 &   0  &    0 &    0 &    0 &   0  &   0 \\\\\n",
       "\t100039904 &   0  &   0  &    0 &   0  &    0 &    0 &    0 &   0  &   0 \\\\\n",
       "\t100861873 &   0  &   0  &    0 &   0  &    0 &    0 &    0 &   0  &   0 \\\\\n",
       "\t100861881 &   0  &   0  &    0 &   0  &    0 &    0 &    0 &   0  &   0 \\\\\n",
       "\t100504642 &   0  &   0  &    0 &   0  &    0 &    0 &    0 &   0  &   0 \\\\\n",
       "\t100041631 &   0  &   0  &    0 &   0  &    0 &    0 &    0 &   0  &   0 \\\\\n",
       "\t100504702 &   0  &   0  &    0 &   0  &    0 &    0 &    0 &   0  &   0 \\\\\n",
       "\t100040357 &   0  &   0  &    0 &   0  &    0 &    0 &    0 &   0  &   0 \\\\\n",
       "\t100861808 &   0  &   0  &    0 &   0  &    0 &    0 &    0 &   0  &   0 \\\\\n",
       "\t100504460 &   0  &   0  &    0 &   0  &    0 &    0 &    0 &   0  &   0 \\\\\n",
       "\t100861837 & 320  & 472  &  582 & 335  &  811 &  432 &  500 & 200  &  84 \\\\\n",
       "\t100861924 &  15  &  27  &  126 &   7  &   17 &   22 &   35 &   3  &   2 \\\\\n",
       "\t170942 & 824  & 769  & 1337 & 781  & 1266 & 1089 & 1274 & 469  & 379 \\\\\n",
       "\t100861691 &   0  &   0  &    0 &   0  &    0 &    0 &    0 &   0  &   0 \\\\\n",
       "\t100504472 &   0  &   0  &    0 &   0  &    0 &    0 &    0 &   0  &   0 \\\\\n",
       "\\end{tabular}\n",
       "\n",
       "\\item[\\$genes] \\begin{tabular}{r|llllll}\n",
       "  & ENTREZID & EVIDENCE & ONTOLOGY & SYMBOL & TXCHROM & GOID\\\\\n",
       "\\hline\n",
       "\t1 &    497097     & ND            & MF            & Xkr4          & chr1          & GO:0003674   \\\\\n",
       "\t5 & 100503874     & NA            & NA            & Gm19938       & NA            & NA           \\\\\n",
       "\t6 & 100038431     & NA            & NA            & Gm10568       & NA            & NA           \\\\\n",
       "\t7 &     19888     & IDA           & CC            & Rp1           & chr1          & GO:0001750   \\\\\n",
       "\t37 &     20671     & IMP           & BP            & Sox17         & chr1          & GO:0000122   \\\\\n",
       "\t109 &     27395     & TAS           & BP            & Mrpl15        & chr1          & GO:0000002   \\\\\n",
       "\t122 &     18777     & IMP           & BP            & Lypla1        & chr1          & GO:0002084   \\\\\n",
       "\t136 & 100503730     & NA            & NA            & Gm19860       & NA            & NA           \\\\\n",
       "\t137 &     21399     & IEA           & MF            & Tcea1         & chr1          & GO:0003676   \\\\\n",
       "\t151 &     58175     & TAS           & MF            & Rgs20         & chr1          & GO:0005096   \\\\\n",
       "\t161 &    108664     & IBA           & CC            & Atp6v1h       & chr1          & GO:0000221   \\\\\n",
       "\t173 &     18387     & IEA           & MF            & Oprk1         & chr1          & GO:0004871   \\\\\n",
       "\t220 &    226304     & IEA           & MF            & Npbwr1        & chr1          & GO:0004871   \\\\\n",
       "\t235 &     12421     & IMP           & BP            & Rb1cc1        & chr1          & GO:0000045   \\\\\n",
       "\t265 &    620393     & ND            & CC            & Fam150a       & chr1          & GO:0005575   \\\\\n",
       "\t271 &    240690     & ISO           & BP            & St18          & chr1          & GO:0000122   \\\\\n",
       "\t279 &    319263     & IBA           & MF            & Pcmtd1        & chr1          & GO:0004719   \\\\\n",
       "\t284 &     71096     & IEA           & MF            & Sntg1         & chr1          & GO:0003779   \\\\\n",
       "\t291 &     59014     & IBA           & BP            & Rrs1          & chr1          & GO:0000055   \\\\\n",
       "\t306 &     76187     & IBA           & MF            & Adhfe1        & chr1          & GO:0004022   \\\\\n",
       "\t314 &     72481     & ND            & MF            & 2610203C22Rik & chr1          & GO:0003674   \\\\\n",
       "\t317 &     76982     & ND            & MF            & 3110035E14Rik & chr1          & GO:0003674   \\\\\n",
       "\t320 &     17864     & IBA           & BP            & Mybl1         & chr1          & GO:0000278   \\\\\n",
       "\t335 &     70675     & ISO           & MF            & Vcpip1        & chr1          & GO:0004843   \\\\\n",
       "\t351 &     73331     & ND            & MF            & 1700034P13Rik & chr1          & GO:0003674   \\\\\n",
       "\t354 &    170755     & IEA           & MF            & Sgk3          & chr1          & GO:0000166   \\\\\n",
       "\t375 &    620986     & NA            & NA            & Gm6195        & NA            & NA           \\\\\n",
       "\t376 &    240697     & ND            & MF            & Mcmdc2        & chr1          & GO:0003674   \\\\\n",
       "\t388 &     73824     & ND            & MF            & Snhg6         & chr1          & GO:0003674   \\\\\n",
       "\t391 &    266793     & ISO           & CC            & Snord87       & chr1          & GO:0005730   \\\\\n",
       "\t⋮ & <U+22EE> & <U+22EE> & <U+22EE> & <U+22EE> & <U+22EE> & <U+22EE>\\\\\n",
       "\t324447 & 100041168    & NA           & NA           & Gm20863      & NA           & NA          \\\\\n",
       "\t324448 & 100041207    & NA           & NA           & NA           & NA           & NA          \\\\\n",
       "\t324449 & 100861637    & IBA          & CC           & Gm21095      & NA           & GO:0005634  \\\\\n",
       "\t324451 & 100861988    & NA           & NA           & Gm21380      & NA           & NA          \\\\\n",
       "\t324452 & 100862006    & NA           & NA           & NA           & NA           & NA          \\\\\n",
       "\t324453 & 100862025    & NA           & NA           & Gm21409      & NA           & NA          \\\\\n",
       "\t324454 & 100040991    & NA           & NA           & Gm20856      & NA           & NA          \\\\\n",
       "\t324455 & 100040911    & NA           & NA           & Gm20854      & chrY         & NA          \\\\\n",
       "\t324456 & 100862053    & NA           & NA           & Gm21435      & NA           & NA          \\\\\n",
       "\t324457 & 100039905    & IBA          & CC           & Gm20820      & NA           & GO:0005634  \\\\\n",
       "\t324459 & 100041141    & NA           & NA           & Gm20861      & NA           & NA          \\\\\n",
       "\t324460 & 100041117    & NA           & NA           & Gm20860      & NA           & NA          \\\\\n",
       "\t324461 & 100862083    & NA           & NA           & Gm21462      & NA           & NA          \\\\\n",
       "\t324462 & 100862092    & NA           & NA           & Gm21470      & NA           & NA          \\\\\n",
       "\t324463 & 100862100    & NA           & NA           & Gm21477      & NA           & NA          \\\\\n",
       "\t324464 & 100042201    & NA           & NA           & Gm20906      & NA           & NA          \\\\\n",
       "\t324465 & 100039904    & NA           & NA           & Gm20819      & NA           & NA          \\\\\n",
       "\t324466 & 100861873    & NA           & NA           & Gm21287      & NA           & NA          \\\\\n",
       "\t324467 & 100861881    & IBA          & CC           & Gm21294      & NA           & GO:0005634  \\\\\n",
       "\t324469 & 100504642    & IBA          & CC           & Gm21996      & NA           & GO:0005634  \\\\\n",
       "\t324471 & 100041631    & NA           & NA           & Gm20879      & NA           & NA          \\\\\n",
       "\t324472 & 100504702    & NA           & NA           & NA           & NA           & NA          \\\\\n",
       "\t324473 & 100040357    & NA           & NA           & Gm20837      & NA           & NA          \\\\\n",
       "\t324474 & 100861808    & NA           & NA           & NA           & NA           & NA          \\\\\n",
       "\t324475 & 100504460    & NA           & NA           & NA           & NA           & NA          \\\\\n",
       "\t324476 & 100861837    & NA           & NA           & NA           & NA           & NA          \\\\\n",
       "\t324477 & 100861924    & NA           & NA           & NA           & NA           & NA          \\\\\n",
       "\t324478 &    170942    & ND           & MF           & Erdr1        & chrY         & GO:0003674  \\\\\n",
       "\t324483 & 100861691    & NA           & NA           & LOC100861691 & NA           & NA          \\\\\n",
       "\t324484 & 100504472    & NA           & NA           & NA           & NA           & NA          \\\\\n",
       "\\end{tabular}\n",
       "\n",
       "\\end{description}\n"
      ],
      "text/markdown": [
       "$samples\n",
       ":   \n",
       "| <!--/--> | files | group | lib.size | norm.factors | lane |\n",
       "|---|---|---|---|---|---|\n",
       "| 10_6_5_11 | GSM1545535_10_6_5_11.txt | LP                       | 32863052                 | 1                        | L004                     |\n",
       "| 9_6_5_11 | GSM1545536_9_6_5_11.txt  | ML                       | 35335491                 | 1                        | L004                     |\n",
       "| purep53 | GSM1545538_purep53.txt   | Basal                    | 57160817                 | 1                        | L004                     |\n",
       "| JMS8-2 | GSM1545539_JMS8-2.txt    | Basal                    | 51368625                 | 1                        | L006                     |\n",
       "| JMS8-3 | GSM1545540_JMS8-3.txt    | ML                       | 75795034                 | 1                        | L006                     |\n",
       "| JMS8-4 | GSM1545541_JMS8-4.txt    | LP                       | 60517657                 | 1                        | L006                     |\n",
       "| JMS8-5 | GSM1545542_JMS8-5.txt    | Basal                    | 55086324                 | 1                        | L006                     |\n",
       "| JMS9-P7c | GSM1545544_JMS9-P7c.txt  | ML                       | 21311068                 | 1                        | L008                     |\n",
       "| JMS9-P8c | GSM1545545_JMS9-P8c.txt  | LP                       | 19958838                 | 1                        | L008                     |\n",
       "\n",
       "\n",
       "$counts\n",
       ":   \n",
       "| <!--/--> | 10_6_5_11 | 9_6_5_11 | purep53 | JMS8-2 | JMS8-3 | JMS8-4 | JMS8-5 | JMS9-P7c | JMS9-P8c |\n",
       "|---|---|---|---|---|---|---|---|---|---|\n",
       "| 497097 |    1 |    2 |  342 |  526 |    3 |    3 |  535 |    2 |    0 |\n",
       "| 100503874 |    0 |    0 |    5 |    6 |    0 |    0 |    5 |    0 |    0 |\n",
       "| 100038431 |    0 |    0 |    0 |    0 |    0 |    0 |    1 |    0 |    0 |\n",
       "| 19888 |    0 |    1 |    0 |    0 |   17 |    2 |    0 |    1 |    0 |\n",
       "| 20671 |    1 |    1 |   76 |   40 |   33 |   14 |   98 |   18 |    8 |\n",
       "| 27395 |  431 |  771 | 1368 | 1268 | 1564 |  769 |  818 |  468 |  342 |\n",
       "| 18777 |  768 | 1722 | 2517 | 1923 | 3865 | 1888 | 1830 | 1246 |  693 |\n",
       "| 100503730 |    4 |    8 |    6 |    2 |   11 |   11 |    3 |    9 |    2 |\n",
       "| 21399 |  810 |  977 | 2472 | 1870 | 2251 | 1716 | 1932 |  756 |  619 |\n",
       "| 58175 |  452 |  358 |   17 |   14 |  622 |  571 |   12 |  203 |  224 |\n",
       "| 108664 | 1716 | 2678 | 2097 | 2071 | 5499 | 3630 | 1731 | 1715 | 1251 |\n",
       "| 18387 |    0 |    0 |    0 |    0 |    0 |    0 |    0 |    0 |    0 |\n",
       "| 226304 |    0 |    0 |    0 |    0 |    0 |    0 |    0 |    0 |    0 |\n",
       "| 12421 | 3451 | 2699 | 3399 | 2716 | 5233 | 6280 | 3647 | 1866 | 2122 |\n",
       "| 620393 |    0 |    0 |    2 |    3 |    0 |    0 |    0 |    0 |    0 |\n",
       "| 240690 |    0 |    0 |    0 |    1 |    0 |    0 |    0 |    0 |    0 |\n",
       "| 319263 | 2026 | 2033 | 3920 | 2715 | 3873 | 3688 | 3593 | 1609 | 1348 |\n",
       "| 71096 |    0 |    0 |    1 |    5 |    0 |    0 |    4 |    0 |    0 |\n",
       "| 59014 |  956 |  985 | 5497 | 4214 | 3462 | 2933 | 5336 |  649 |  731 |\n",
       "| 76187 |   54 |   76 |   46 |   32 |  148 |  126 |   59 |   44 |   27 |\n",
       "| 72481 |   16 |   28 |   12 |   12 |   67 |   24 |   14 |   18 |   11 |\n",
       "| 76982 |   21 |    9 |   21 |   44 |   35 |   34 |   29 |    8 |   15 |\n",
       "| 17864 |  194 |  166 | 1007 |  862 |  632 |  594 |  901 |  100 |  131 |\n",
       "| 70675 | 2390 | 2012 | 3500 | 3020 | 5412 | 4404 | 4173 | 1585 | 1522 |\n",
       "| 73331 |    3 |    2 |    4 |    1 |    1 |    5 |    2 |    3 |    0 |\n",
       "| 170755 |   87 |  323 |  734 |  565 |  721 |  249 |  666 |  267 |  113 |\n",
       "| 620986 |   71 |  194 |  383 |  206 |  307 |  110 |  206 |  112 |   50 |\n",
       "| 240697 |    0 |    0 |    9 |    8 |    3 |    1 |    7 |    0 |    1 |\n",
       "| 73824 |  289 |  487 |  824 |  565 |  709 |  517 |  662 |  335 |  271 |\n",
       "| 266793 |    4 |    6 |   54 |   10 |   18 |   19 |   43 |    9 |    6 |\n",
       "| ⋮ | <U+22EE> | <U+22EE> | <U+22EE> | <U+22EE> | <U+22EE> | <U+22EE> | <U+22EE> | <U+22EE> | <U+22EE> |\n",
       "| 100041168 |   0  |   0  |    0 |   0  |    0 |    0 |    0 |   0  |   0  |\n",
       "| 100041207 |   0  |   0  |    0 |   0  |    0 |    0 |    0 |   0  |   0  |\n",
       "| 100861637 |   0  |   0  |    0 |   0  |    0 |    0 |    0 |   0  |   0  |\n",
       "| 100861988 |   0  |   0  |    0 |   0  |    0 |    0 |    0 |   0  |   0  |\n",
       "| 100862006 |   0  |   0  |    0 |   0  |    0 |    0 |    0 |   0  |   0  |\n",
       "| 100862025 |   0  |   0  |    0 |   0  |    0 |    0 |    0 |   0  |   0  |\n",
       "| 100040991 |   0  |   0  |    0 |   0  |    0 |    0 |    0 |   0  |   0  |\n",
       "| 100040911 |   0  |   0  |    0 |   0  |    0 |    0 |    0 |   0  |   0  |\n",
       "| 100862053 |   0  |   0  |    0 |   0  |    0 |    0 |    0 |   0  |   0  |\n",
       "| 100039905 |   0  |   0  |    0 |   0  |    0 |    0 |    0 |   0  |   0  |\n",
       "| 100041141 |   0  |   0  |    0 |   0  |    0 |    0 |    0 |   0  |   0  |\n",
       "| 100041117 |   0  |   0  |    0 |   0  |    0 |    0 |    0 |   0  |   0  |\n",
       "| 100862083 |   0  |   0  |    0 |   0  |    0 |    0 |    0 |   0  |   0  |\n",
       "| 100862092 |   0  |   0  |    0 |   0  |    0 |    0 |    0 |   0  |   0  |\n",
       "| 100862100 |   0  |   0  |    0 |   0  |    0 |    0 |    0 |   0  |   0  |\n",
       "| 100042201 |   0  |   0  |    0 |   0  |    0 |    0 |    0 |   0  |   0  |\n",
       "| 100039904 |   0  |   0  |    0 |   0  |    0 |    0 |    0 |   0  |   0  |\n",
       "| 100861873 |   0  |   0  |    0 |   0  |    0 |    0 |    0 |   0  |   0  |\n",
       "| 100861881 |   0  |   0  |    0 |   0  |    0 |    0 |    0 |   0  |   0  |\n",
       "| 100504642 |   0  |   0  |    0 |   0  |    0 |    0 |    0 |   0  |   0  |\n",
       "| 100041631 |   0  |   0  |    0 |   0  |    0 |    0 |    0 |   0  |   0  |\n",
       "| 100504702 |   0  |   0  |    0 |   0  |    0 |    0 |    0 |   0  |   0  |\n",
       "| 100040357 |   0  |   0  |    0 |   0  |    0 |    0 |    0 |   0  |   0  |\n",
       "| 100861808 |   0  |   0  |    0 |   0  |    0 |    0 |    0 |   0  |   0  |\n",
       "| 100504460 |   0  |   0  |    0 |   0  |    0 |    0 |    0 |   0  |   0  |\n",
       "| 100861837 | 320  | 472  |  582 | 335  |  811 |  432 |  500 | 200  |  84  |\n",
       "| 100861924 |  15  |  27  |  126 |   7  |   17 |   22 |   35 |   3  |   2  |\n",
       "| 170942 | 824  | 769  | 1337 | 781  | 1266 | 1089 | 1274 | 469  | 379  |\n",
       "| 100861691 |   0  |   0  |    0 |   0  |    0 |    0 |    0 |   0  |   0  |\n",
       "| 100504472 |   0  |   0  |    0 |   0  |    0 |    0 |    0 |   0  |   0  |\n",
       "\n",
       "\n",
       "$genes\n",
       ":   \n",
       "| <!--/--> | ENTREZID | EVIDENCE | ONTOLOGY | SYMBOL | TXCHROM | GOID |\n",
       "|---|---|---|---|---|---|---|\n",
       "| 1 |    497097     | ND            | MF            | Xkr4          | chr1          | GO:0003674    |\n",
       "| 5 | 100503874     | NA            | NA            | Gm19938       | NA            | NA            |\n",
       "| 6 | 100038431     | NA            | NA            | Gm10568       | NA            | NA            |\n",
       "| 7 |     19888     | IDA           | CC            | Rp1           | chr1          | GO:0001750    |\n",
       "| 37 |     20671     | IMP           | BP            | Sox17         | chr1          | GO:0000122    |\n",
       "| 109 |     27395     | TAS           | BP            | Mrpl15        | chr1          | GO:0000002    |\n",
       "| 122 |     18777     | IMP           | BP            | Lypla1        | chr1          | GO:0002084    |\n",
       "| 136 | 100503730     | NA            | NA            | Gm19860       | NA            | NA            |\n",
       "| 137 |     21399     | IEA           | MF            | Tcea1         | chr1          | GO:0003676    |\n",
       "| 151 |     58175     | TAS           | MF            | Rgs20         | chr1          | GO:0005096    |\n",
       "| 161 |    108664     | IBA           | CC            | Atp6v1h       | chr1          | GO:0000221    |\n",
       "| 173 |     18387     | IEA           | MF            | Oprk1         | chr1          | GO:0004871    |\n",
       "| 220 |    226304     | IEA           | MF            | Npbwr1        | chr1          | GO:0004871    |\n",
       "| 235 |     12421     | IMP           | BP            | Rb1cc1        | chr1          | GO:0000045    |\n",
       "| 265 |    620393     | ND            | CC            | Fam150a       | chr1          | GO:0005575    |\n",
       "| 271 |    240690     | ISO           | BP            | St18          | chr1          | GO:0000122    |\n",
       "| 279 |    319263     | IBA           | MF            | Pcmtd1        | chr1          | GO:0004719    |\n",
       "| 284 |     71096     | IEA           | MF            | Sntg1         | chr1          | GO:0003779    |\n",
       "| 291 |     59014     | IBA           | BP            | Rrs1          | chr1          | GO:0000055    |\n",
       "| 306 |     76187     | IBA           | MF            | Adhfe1        | chr1          | GO:0004022    |\n",
       "| 314 |     72481     | ND            | MF            | 2610203C22Rik | chr1          | GO:0003674    |\n",
       "| 317 |     76982     | ND            | MF            | 3110035E14Rik | chr1          | GO:0003674    |\n",
       "| 320 |     17864     | IBA           | BP            | Mybl1         | chr1          | GO:0000278    |\n",
       "| 335 |     70675     | ISO           | MF            | Vcpip1        | chr1          | GO:0004843    |\n",
       "| 351 |     73331     | ND            | MF            | 1700034P13Rik | chr1          | GO:0003674    |\n",
       "| 354 |    170755     | IEA           | MF            | Sgk3          | chr1          | GO:0000166    |\n",
       "| 375 |    620986     | NA            | NA            | Gm6195        | NA            | NA            |\n",
       "| 376 |    240697     | ND            | MF            | Mcmdc2        | chr1          | GO:0003674    |\n",
       "| 388 |     73824     | ND            | MF            | Snhg6         | chr1          | GO:0003674    |\n",
       "| 391 |    266793     | ISO           | CC            | Snord87       | chr1          | GO:0005730    |\n",
       "| ⋮ | <U+22EE> | <U+22EE> | <U+22EE> | <U+22EE> | <U+22EE> | <U+22EE> |\n",
       "| 324447 | 100041168    | NA           | NA           | Gm20863      | NA           | NA           |\n",
       "| 324448 | 100041207    | NA           | NA           | NA           | NA           | NA           |\n",
       "| 324449 | 100861637    | IBA          | CC           | Gm21095      | NA           | GO:0005634   |\n",
       "| 324451 | 100861988    | NA           | NA           | Gm21380      | NA           | NA           |\n",
       "| 324452 | 100862006    | NA           | NA           | NA           | NA           | NA           |\n",
       "| 324453 | 100862025    | NA           | NA           | Gm21409      | NA           | NA           |\n",
       "| 324454 | 100040991    | NA           | NA           | Gm20856      | NA           | NA           |\n",
       "| 324455 | 100040911    | NA           | NA           | Gm20854      | chrY         | NA           |\n",
       "| 324456 | 100862053    | NA           | NA           | Gm21435      | NA           | NA           |\n",
       "| 324457 | 100039905    | IBA          | CC           | Gm20820      | NA           | GO:0005634   |\n",
       "| 324459 | 100041141    | NA           | NA           | Gm20861      | NA           | NA           |\n",
       "| 324460 | 100041117    | NA           | NA           | Gm20860      | NA           | NA           |\n",
       "| 324461 | 100862083    | NA           | NA           | Gm21462      | NA           | NA           |\n",
       "| 324462 | 100862092    | NA           | NA           | Gm21470      | NA           | NA           |\n",
       "| 324463 | 100862100    | NA           | NA           | Gm21477      | NA           | NA           |\n",
       "| 324464 | 100042201    | NA           | NA           | Gm20906      | NA           | NA           |\n",
       "| 324465 | 100039904    | NA           | NA           | Gm20819      | NA           | NA           |\n",
       "| 324466 | 100861873    | NA           | NA           | Gm21287      | NA           | NA           |\n",
       "| 324467 | 100861881    | IBA          | CC           | Gm21294      | NA           | GO:0005634   |\n",
       "| 324469 | 100504642    | IBA          | CC           | Gm21996      | NA           | GO:0005634   |\n",
       "| 324471 | 100041631    | NA           | NA           | Gm20879      | NA           | NA           |\n",
       "| 324472 | 100504702    | NA           | NA           | NA           | NA           | NA           |\n",
       "| 324473 | 100040357    | NA           | NA           | Gm20837      | NA           | NA           |\n",
       "| 324474 | 100861808    | NA           | NA           | NA           | NA           | NA           |\n",
       "| 324475 | 100504460    | NA           | NA           | NA           | NA           | NA           |\n",
       "| 324476 | 100861837    | NA           | NA           | NA           | NA           | NA           |\n",
       "| 324477 | 100861924    | NA           | NA           | NA           | NA           | NA           |\n",
       "| 324478 |    170942    | ND           | MF           | Erdr1        | chrY         | GO:0003674   |\n",
       "| 324483 | 100861691    | NA           | NA           | LOC100861691 | NA           | NA           |\n",
       "| 324484 | 100504472    | NA           | NA           | NA           | NA           | NA           |\n",
       "\n",
       "\n",
       "\n",
       "\n"
      ],
      "text/plain": [
       "An object of class \"DGEList\"\n",
       "$samples\n",
       "                             files group lib.size norm.factors lane\n",
       "10_6_5_11 GSM1545535_10_6_5_11.txt    LP 32863052            1 L004\n",
       "9_6_5_11   GSM1545536_9_6_5_11.txt    ML 35335491            1 L004\n",
       "purep53     GSM1545538_purep53.txt Basal 57160817            1 L004\n",
       "JMS8-2       GSM1545539_JMS8-2.txt Basal 51368625            1 L006\n",
       "JMS8-3       GSM1545540_JMS8-3.txt    ML 75795034            1 L006\n",
       "JMS8-4       GSM1545541_JMS8-4.txt    LP 60517657            1 L006\n",
       "JMS8-5       GSM1545542_JMS8-5.txt Basal 55086324            1 L006\n",
       "JMS9-P7c   GSM1545544_JMS9-P7c.txt    ML 21311068            1 L008\n",
       "JMS9-P8c   GSM1545545_JMS9-P8c.txt    LP 19958838            1 L008\n",
       "\n",
       "$counts\n",
       "           Samples\n",
       "Tags        10_6_5_11 9_6_5_11 purep53 JMS8-2 JMS8-3 JMS8-4 JMS8-5 JMS9-P7c\n",
       "  497097            1        2     342    526      3      3    535        2\n",
       "  100503874         0        0       5      6      0      0      5        0\n",
       "  100038431         0        0       0      0      0      0      1        0\n",
       "  19888             0        1       0      0     17      2      0        1\n",
       "  20671             1        1      76     40     33     14     98       18\n",
       "           Samples\n",
       "Tags        JMS9-P8c\n",
       "  497097           0\n",
       "  100503874        0\n",
       "  100038431        0\n",
       "  19888            0\n",
       "  20671            8\n",
       "27174 more rows ...\n",
       "\n",
       "$genes\n",
       "    ENTREZID EVIDENCE ONTOLOGY  SYMBOL TXCHROM       GOID\n",
       "1     497097       ND       MF    Xkr4    chr1 GO:0003674\n",
       "5  100503874     <NA>     <NA> Gm19938    <NA>       <NA>\n",
       "6  100038431     <NA>     <NA> Gm10568    <NA>       <NA>\n",
       "7      19888      IDA       CC     Rp1    chr1 GO:0001750\n",
       "37     20671      IMP       BP   Sox17    chr1 GO:0000122\n",
       "27174 more rows ...\n"
      ]
     },
     "metadata": {},
     "output_type": "display_data"
    }
   ],
   "source": [
    "# Now we store this gene information in the DGEList\n",
    "x$genes <- genes\n",
    "x"
   ]
  },
  {
   "cell_type": "code",
   "execution_count": 23,
   "metadata": {},
   "outputs": [],
   "source": [
    "## ---- Normalization:Counts per million reads-----------------------------\n",
    "# cpm is 'counts per million' and gives us the read counts normalized to the total number of read counts.\n",
    "cpm <- cpm(x)"
   ]
  },
  {
   "cell_type": "code",
   "execution_count": 24,
   "metadata": {},
   "outputs": [],
   "source": [
    "# If you add the argument 'log=TRUE' you get log base 2 values, which are easier to use when plotting expression data.\n",
    "# We are saving these pre-filtered values for later comparison\n",
    "lcpm.pre <- cpm(x, log=TRUE)"
   ]
  },
  {
   "cell_type": "code",
   "execution_count": 25,
   "metadata": {},
   "outputs": [],
   "source": [
    "#####END DAY ONE"
   ]
  },
  {
   "cell_type": "code",
   "execution_count": 26,
   "metadata": {},
   "outputs": [
    {
     "data": {
      "text/html": [
       "<dl>\n",
       "\t<dt>$samples</dt>\n",
       "\t\t<dd><table>\n",
       "<thead><tr><th></th><th scope=col>files</th><th scope=col>group</th><th scope=col>lib.size</th><th scope=col>norm.factors</th><th scope=col>lane</th></tr></thead>\n",
       "<tbody>\n",
       "\t<tr><th scope=row>10_6_5_11</th><td>GSM1545535_10_6_5_11.txt</td><td>LP                      </td><td>32863052                </td><td>1                       </td><td>L004                    </td></tr>\n",
       "\t<tr><th scope=row>9_6_5_11</th><td>GSM1545536_9_6_5_11.txt </td><td>ML                      </td><td>35335491                </td><td>1                       </td><td>L004                    </td></tr>\n",
       "\t<tr><th scope=row>purep53</th><td>GSM1545538_purep53.txt  </td><td>Basal                   </td><td>57160817                </td><td>1                       </td><td>L004                    </td></tr>\n",
       "\t<tr><th scope=row>JMS8-2</th><td>GSM1545539_JMS8-2.txt   </td><td>Basal                   </td><td>51368625                </td><td>1                       </td><td>L006                    </td></tr>\n",
       "\t<tr><th scope=row>JMS8-3</th><td>GSM1545540_JMS8-3.txt   </td><td>ML                      </td><td>75795034                </td><td>1                       </td><td>L006                    </td></tr>\n",
       "\t<tr><th scope=row>JMS8-4</th><td>GSM1545541_JMS8-4.txt   </td><td>LP                      </td><td>60517657                </td><td>1                       </td><td>L006                    </td></tr>\n",
       "\t<tr><th scope=row>JMS8-5</th><td>GSM1545542_JMS8-5.txt   </td><td>Basal                   </td><td>55086324                </td><td>1                       </td><td>L006                    </td></tr>\n",
       "\t<tr><th scope=row>JMS9-P7c</th><td>GSM1545544_JMS9-P7c.txt </td><td>ML                      </td><td>21311068                </td><td>1                       </td><td>L008                    </td></tr>\n",
       "\t<tr><th scope=row>JMS9-P8c</th><td>GSM1545545_JMS9-P8c.txt </td><td>LP                      </td><td>19958838                </td><td>1                       </td><td>L008                    </td></tr>\n",
       "</tbody>\n",
       "</table>\n",
       "</dd>\n",
       "\t<dt>$counts</dt>\n",
       "\t\t<dd><table>\n",
       "<thead><tr><th></th><th scope=col>10_6_5_11</th><th scope=col>9_6_5_11</th><th scope=col>purep53</th><th scope=col>JMS8-2</th><th scope=col>JMS8-3</th><th scope=col>JMS8-4</th><th scope=col>JMS8-5</th><th scope=col>JMS9-P7c</th><th scope=col>JMS9-P8c</th></tr></thead>\n",
       "<tbody>\n",
       "\t<tr><th scope=row>497097</th><td>   1</td><td>   2</td><td> 342</td><td> 526</td><td>   3</td><td>   3</td><td> 535</td><td>   2</td><td>   0</td></tr>\n",
       "\t<tr><th scope=row>100503874</th><td>   0</td><td>   0</td><td>   5</td><td>   6</td><td>   0</td><td>   0</td><td>   5</td><td>   0</td><td>   0</td></tr>\n",
       "\t<tr><th scope=row>100038431</th><td>   0</td><td>   0</td><td>   0</td><td>   0</td><td>   0</td><td>   0</td><td>   1</td><td>   0</td><td>   0</td></tr>\n",
       "\t<tr><th scope=row>19888</th><td>   0</td><td>   1</td><td>   0</td><td>   0</td><td>  17</td><td>   2</td><td>   0</td><td>   1</td><td>   0</td></tr>\n",
       "\t<tr><th scope=row>20671</th><td>   1</td><td>   1</td><td>  76</td><td>  40</td><td>  33</td><td>  14</td><td>  98</td><td>  18</td><td>   8</td></tr>\n",
       "\t<tr><th scope=row>27395</th><td> 431</td><td> 771</td><td>1368</td><td>1268</td><td>1564</td><td> 769</td><td> 818</td><td> 468</td><td> 342</td></tr>\n",
       "\t<tr><th scope=row>18777</th><td> 768</td><td>1722</td><td>2517</td><td>1923</td><td>3865</td><td>1888</td><td>1830</td><td>1246</td><td> 693</td></tr>\n",
       "\t<tr><th scope=row>100503730</th><td>   4</td><td>   8</td><td>   6</td><td>   2</td><td>  11</td><td>  11</td><td>   3</td><td>   9</td><td>   2</td></tr>\n",
       "\t<tr><th scope=row>21399</th><td> 810</td><td> 977</td><td>2472</td><td>1870</td><td>2251</td><td>1716</td><td>1932</td><td> 756</td><td> 619</td></tr>\n",
       "\t<tr><th scope=row>58175</th><td> 452</td><td> 358</td><td>  17</td><td>  14</td><td> 622</td><td> 571</td><td>  12</td><td> 203</td><td> 224</td></tr>\n",
       "\t<tr><th scope=row>108664</th><td>1716</td><td>2678</td><td>2097</td><td>2071</td><td>5499</td><td>3630</td><td>1731</td><td>1715</td><td>1251</td></tr>\n",
       "\t<tr><th scope=row>18387</th><td>   0</td><td>   0</td><td>   0</td><td>   0</td><td>   0</td><td>   0</td><td>   0</td><td>   0</td><td>   0</td></tr>\n",
       "\t<tr><th scope=row>226304</th><td>   0</td><td>   0</td><td>   0</td><td>   0</td><td>   0</td><td>   0</td><td>   0</td><td>   0</td><td>   0</td></tr>\n",
       "\t<tr><th scope=row>12421</th><td>3451</td><td>2699</td><td>3399</td><td>2716</td><td>5233</td><td>6280</td><td>3647</td><td>1866</td><td>2122</td></tr>\n",
       "\t<tr><th scope=row>620393</th><td>   0</td><td>   0</td><td>   2</td><td>   3</td><td>   0</td><td>   0</td><td>   0</td><td>   0</td><td>   0</td></tr>\n",
       "\t<tr><th scope=row>240690</th><td>   0</td><td>   0</td><td>   0</td><td>   1</td><td>   0</td><td>   0</td><td>   0</td><td>   0</td><td>   0</td></tr>\n",
       "\t<tr><th scope=row>319263</th><td>2026</td><td>2033</td><td>3920</td><td>2715</td><td>3873</td><td>3688</td><td>3593</td><td>1609</td><td>1348</td></tr>\n",
       "\t<tr><th scope=row>71096</th><td>   0</td><td>   0</td><td>   1</td><td>   5</td><td>   0</td><td>   0</td><td>   4</td><td>   0</td><td>   0</td></tr>\n",
       "\t<tr><th scope=row>59014</th><td> 956</td><td> 985</td><td>5497</td><td>4214</td><td>3462</td><td>2933</td><td>5336</td><td> 649</td><td> 731</td></tr>\n",
       "\t<tr><th scope=row>76187</th><td>  54</td><td>  76</td><td>  46</td><td>  32</td><td> 148</td><td> 126</td><td>  59</td><td>  44</td><td>  27</td></tr>\n",
       "\t<tr><th scope=row>72481</th><td>  16</td><td>  28</td><td>  12</td><td>  12</td><td>  67</td><td>  24</td><td>  14</td><td>  18</td><td>  11</td></tr>\n",
       "\t<tr><th scope=row>76982</th><td>  21</td><td>   9</td><td>  21</td><td>  44</td><td>  35</td><td>  34</td><td>  29</td><td>   8</td><td>  15</td></tr>\n",
       "\t<tr><th scope=row>17864</th><td> 194</td><td> 166</td><td>1007</td><td> 862</td><td> 632</td><td> 594</td><td> 901</td><td> 100</td><td> 131</td></tr>\n",
       "\t<tr><th scope=row>70675</th><td>2390</td><td>2012</td><td>3500</td><td>3020</td><td>5412</td><td>4404</td><td>4173</td><td>1585</td><td>1522</td></tr>\n",
       "\t<tr><th scope=row>73331</th><td>   3</td><td>   2</td><td>   4</td><td>   1</td><td>   1</td><td>   5</td><td>   2</td><td>   3</td><td>   0</td></tr>\n",
       "\t<tr><th scope=row>170755</th><td>  87</td><td> 323</td><td> 734</td><td> 565</td><td> 721</td><td> 249</td><td> 666</td><td> 267</td><td> 113</td></tr>\n",
       "\t<tr><th scope=row>620986</th><td>  71</td><td> 194</td><td> 383</td><td> 206</td><td> 307</td><td> 110</td><td> 206</td><td> 112</td><td>  50</td></tr>\n",
       "\t<tr><th scope=row>240697</th><td>   0</td><td>   0</td><td>   9</td><td>   8</td><td>   3</td><td>   1</td><td>   7</td><td>   0</td><td>   1</td></tr>\n",
       "\t<tr><th scope=row>73824</th><td> 289</td><td> 487</td><td> 824</td><td> 565</td><td> 709</td><td> 517</td><td> 662</td><td> 335</td><td> 271</td></tr>\n",
       "\t<tr><th scope=row>266793</th><td>   4</td><td>   6</td><td>  54</td><td>  10</td><td>  18</td><td>  19</td><td>  43</td><td>   9</td><td>   6</td></tr>\n",
       "\t<tr><th scope=row>⋮</th><td><U+22EE></td><td><U+22EE></td><td><U+22EE></td><td><U+22EE></td><td><U+22EE></td><td><U+22EE></td><td><U+22EE></td><td><U+22EE></td><td><U+22EE></td></tr>\n",
       "\t<tr><th scope=row>100041168</th><td>  0 </td><td>  0 </td><td>   0</td><td>  0 </td><td>   0</td><td>   0</td><td>   0</td><td>  0 </td><td>  0 </td></tr>\n",
       "\t<tr><th scope=row>100041207</th><td>  0 </td><td>  0 </td><td>   0</td><td>  0 </td><td>   0</td><td>   0</td><td>   0</td><td>  0 </td><td>  0 </td></tr>\n",
       "\t<tr><th scope=row>100861637</th><td>  0 </td><td>  0 </td><td>   0</td><td>  0 </td><td>   0</td><td>   0</td><td>   0</td><td>  0 </td><td>  0 </td></tr>\n",
       "\t<tr><th scope=row>100861988</th><td>  0 </td><td>  0 </td><td>   0</td><td>  0 </td><td>   0</td><td>   0</td><td>   0</td><td>  0 </td><td>  0 </td></tr>\n",
       "\t<tr><th scope=row>100862006</th><td>  0 </td><td>  0 </td><td>   0</td><td>  0 </td><td>   0</td><td>   0</td><td>   0</td><td>  0 </td><td>  0 </td></tr>\n",
       "\t<tr><th scope=row>100862025</th><td>  0 </td><td>  0 </td><td>   0</td><td>  0 </td><td>   0</td><td>   0</td><td>   0</td><td>  0 </td><td>  0 </td></tr>\n",
       "\t<tr><th scope=row>100040991</th><td>  0 </td><td>  0 </td><td>   0</td><td>  0 </td><td>   0</td><td>   0</td><td>   0</td><td>  0 </td><td>  0 </td></tr>\n",
       "\t<tr><th scope=row>100040911</th><td>  0 </td><td>  0 </td><td>   0</td><td>  0 </td><td>   0</td><td>   0</td><td>   0</td><td>  0 </td><td>  0 </td></tr>\n",
       "\t<tr><th scope=row>100862053</th><td>  0 </td><td>  0 </td><td>   0</td><td>  0 </td><td>   0</td><td>   0</td><td>   0</td><td>  0 </td><td>  0 </td></tr>\n",
       "\t<tr><th scope=row>100039905</th><td>  0 </td><td>  0 </td><td>   0</td><td>  0 </td><td>   0</td><td>   0</td><td>   0</td><td>  0 </td><td>  0 </td></tr>\n",
       "\t<tr><th scope=row>100041141</th><td>  0 </td><td>  0 </td><td>   0</td><td>  0 </td><td>   0</td><td>   0</td><td>   0</td><td>  0 </td><td>  0 </td></tr>\n",
       "\t<tr><th scope=row>100041117</th><td>  0 </td><td>  0 </td><td>   0</td><td>  0 </td><td>   0</td><td>   0</td><td>   0</td><td>  0 </td><td>  0 </td></tr>\n",
       "\t<tr><th scope=row>100862083</th><td>  0 </td><td>  0 </td><td>   0</td><td>  0 </td><td>   0</td><td>   0</td><td>   0</td><td>  0 </td><td>  0 </td></tr>\n",
       "\t<tr><th scope=row>100862092</th><td>  0 </td><td>  0 </td><td>   0</td><td>  0 </td><td>   0</td><td>   0</td><td>   0</td><td>  0 </td><td>  0 </td></tr>\n",
       "\t<tr><th scope=row>100862100</th><td>  0 </td><td>  0 </td><td>   0</td><td>  0 </td><td>   0</td><td>   0</td><td>   0</td><td>  0 </td><td>  0 </td></tr>\n",
       "\t<tr><th scope=row>100042201</th><td>  0 </td><td>  0 </td><td>   0</td><td>  0 </td><td>   0</td><td>   0</td><td>   0</td><td>  0 </td><td>  0 </td></tr>\n",
       "\t<tr><th scope=row>100039904</th><td>  0 </td><td>  0 </td><td>   0</td><td>  0 </td><td>   0</td><td>   0</td><td>   0</td><td>  0 </td><td>  0 </td></tr>\n",
       "\t<tr><th scope=row>100861873</th><td>  0 </td><td>  0 </td><td>   0</td><td>  0 </td><td>   0</td><td>   0</td><td>   0</td><td>  0 </td><td>  0 </td></tr>\n",
       "\t<tr><th scope=row>100861881</th><td>  0 </td><td>  0 </td><td>   0</td><td>  0 </td><td>   0</td><td>   0</td><td>   0</td><td>  0 </td><td>  0 </td></tr>\n",
       "\t<tr><th scope=row>100504642</th><td>  0 </td><td>  0 </td><td>   0</td><td>  0 </td><td>   0</td><td>   0</td><td>   0</td><td>  0 </td><td>  0 </td></tr>\n",
       "\t<tr><th scope=row>100041631</th><td>  0 </td><td>  0 </td><td>   0</td><td>  0 </td><td>   0</td><td>   0</td><td>   0</td><td>  0 </td><td>  0 </td></tr>\n",
       "\t<tr><th scope=row>100504702</th><td>  0 </td><td>  0 </td><td>   0</td><td>  0 </td><td>   0</td><td>   0</td><td>   0</td><td>  0 </td><td>  0 </td></tr>\n",
       "\t<tr><th scope=row>100040357</th><td>  0 </td><td>  0 </td><td>   0</td><td>  0 </td><td>   0</td><td>   0</td><td>   0</td><td>  0 </td><td>  0 </td></tr>\n",
       "\t<tr><th scope=row>100861808</th><td>  0 </td><td>  0 </td><td>   0</td><td>  0 </td><td>   0</td><td>   0</td><td>   0</td><td>  0 </td><td>  0 </td></tr>\n",
       "\t<tr><th scope=row>100504460</th><td>  0 </td><td>  0 </td><td>   0</td><td>  0 </td><td>   0</td><td>   0</td><td>   0</td><td>  0 </td><td>  0 </td></tr>\n",
       "\t<tr><th scope=row>100861837</th><td>320 </td><td>472 </td><td> 582</td><td>335 </td><td> 811</td><td> 432</td><td> 500</td><td>200 </td><td> 84 </td></tr>\n",
       "\t<tr><th scope=row>100861924</th><td> 15 </td><td> 27 </td><td> 126</td><td>  7 </td><td>  17</td><td>  22</td><td>  35</td><td>  3 </td><td>  2 </td></tr>\n",
       "\t<tr><th scope=row>170942</th><td>824 </td><td>769 </td><td>1337</td><td>781 </td><td>1266</td><td>1089</td><td>1274</td><td>469 </td><td>379 </td></tr>\n",
       "\t<tr><th scope=row>100861691</th><td>  0 </td><td>  0 </td><td>   0</td><td>  0 </td><td>   0</td><td>   0</td><td>   0</td><td>  0 </td><td>  0 </td></tr>\n",
       "\t<tr><th scope=row>100504472</th><td>  0 </td><td>  0 </td><td>   0</td><td>  0 </td><td>   0</td><td>   0</td><td>   0</td><td>  0 </td><td>  0 </td></tr>\n",
       "</tbody>\n",
       "</table>\n",
       "</dd>\n",
       "\t<dt>$genes</dt>\n",
       "\t\t<dd><table>\n",
       "<thead><tr><th></th><th scope=col>ENTREZID</th><th scope=col>EVIDENCE</th><th scope=col>ONTOLOGY</th><th scope=col>SYMBOL</th><th scope=col>TXCHROM</th><th scope=col>GOID</th></tr></thead>\n",
       "<tbody>\n",
       "\t<tr><th scope=row>1</th><td>   497097    </td><td>ND           </td><td>MF           </td><td>Xkr4         </td><td>chr1         </td><td>GO:0003674   </td></tr>\n",
       "\t<tr><th scope=row>5</th><td>100503874    </td><td>NA           </td><td>NA           </td><td>Gm19938      </td><td>NA           </td><td>NA           </td></tr>\n",
       "\t<tr><th scope=row>6</th><td>100038431    </td><td>NA           </td><td>NA           </td><td>Gm10568      </td><td>NA           </td><td>NA           </td></tr>\n",
       "\t<tr><th scope=row>7</th><td>    19888    </td><td>IDA          </td><td>CC           </td><td>Rp1          </td><td>chr1         </td><td>GO:0001750   </td></tr>\n",
       "\t<tr><th scope=row>37</th><td>    20671    </td><td>IMP          </td><td>BP           </td><td>Sox17        </td><td>chr1         </td><td>GO:0000122   </td></tr>\n",
       "\t<tr><th scope=row>109</th><td>    27395    </td><td>TAS          </td><td>BP           </td><td>Mrpl15       </td><td>chr1         </td><td>GO:0000002   </td></tr>\n",
       "\t<tr><th scope=row>122</th><td>    18777    </td><td>IMP          </td><td>BP           </td><td>Lypla1       </td><td>chr1         </td><td>GO:0002084   </td></tr>\n",
       "\t<tr><th scope=row>136</th><td>100503730    </td><td>NA           </td><td>NA           </td><td>Gm19860      </td><td>NA           </td><td>NA           </td></tr>\n",
       "\t<tr><th scope=row>137</th><td>    21399    </td><td>IEA          </td><td>MF           </td><td>Tcea1        </td><td>chr1         </td><td>GO:0003676   </td></tr>\n",
       "\t<tr><th scope=row>151</th><td>    58175    </td><td>TAS          </td><td>MF           </td><td>Rgs20        </td><td>chr1         </td><td>GO:0005096   </td></tr>\n",
       "\t<tr><th scope=row>161</th><td>   108664    </td><td>IBA          </td><td>CC           </td><td>Atp6v1h      </td><td>chr1         </td><td>GO:0000221   </td></tr>\n",
       "\t<tr><th scope=row>173</th><td>    18387    </td><td>IEA          </td><td>MF           </td><td>Oprk1        </td><td>chr1         </td><td>GO:0004871   </td></tr>\n",
       "\t<tr><th scope=row>220</th><td>   226304    </td><td>IEA          </td><td>MF           </td><td>Npbwr1       </td><td>chr1         </td><td>GO:0004871   </td></tr>\n",
       "\t<tr><th scope=row>235</th><td>    12421    </td><td>IMP          </td><td>BP           </td><td>Rb1cc1       </td><td>chr1         </td><td>GO:0000045   </td></tr>\n",
       "\t<tr><th scope=row>265</th><td>   620393    </td><td>ND           </td><td>CC           </td><td>Fam150a      </td><td>chr1         </td><td>GO:0005575   </td></tr>\n",
       "\t<tr><th scope=row>271</th><td>   240690    </td><td>ISO          </td><td>BP           </td><td>St18         </td><td>chr1         </td><td>GO:0000122   </td></tr>\n",
       "\t<tr><th scope=row>279</th><td>   319263    </td><td>IBA          </td><td>MF           </td><td>Pcmtd1       </td><td>chr1         </td><td>GO:0004719   </td></tr>\n",
       "\t<tr><th scope=row>284</th><td>    71096    </td><td>IEA          </td><td>MF           </td><td>Sntg1        </td><td>chr1         </td><td>GO:0003779   </td></tr>\n",
       "\t<tr><th scope=row>291</th><td>    59014    </td><td>IBA          </td><td>BP           </td><td>Rrs1         </td><td>chr1         </td><td>GO:0000055   </td></tr>\n",
       "\t<tr><th scope=row>306</th><td>    76187    </td><td>IBA          </td><td>MF           </td><td>Adhfe1       </td><td>chr1         </td><td>GO:0004022   </td></tr>\n",
       "\t<tr><th scope=row>314</th><td>    72481    </td><td>ND           </td><td>MF           </td><td>2610203C22Rik</td><td>chr1         </td><td>GO:0003674   </td></tr>\n",
       "\t<tr><th scope=row>317</th><td>    76982    </td><td>ND           </td><td>MF           </td><td>3110035E14Rik</td><td>chr1         </td><td>GO:0003674   </td></tr>\n",
       "\t<tr><th scope=row>320</th><td>    17864    </td><td>IBA          </td><td>BP           </td><td>Mybl1        </td><td>chr1         </td><td>GO:0000278   </td></tr>\n",
       "\t<tr><th scope=row>335</th><td>    70675    </td><td>ISO          </td><td>MF           </td><td>Vcpip1       </td><td>chr1         </td><td>GO:0004843   </td></tr>\n",
       "\t<tr><th scope=row>351</th><td>    73331    </td><td>ND           </td><td>MF           </td><td>1700034P13Rik</td><td>chr1         </td><td>GO:0003674   </td></tr>\n",
       "\t<tr><th scope=row>354</th><td>   170755    </td><td>IEA          </td><td>MF           </td><td>Sgk3         </td><td>chr1         </td><td>GO:0000166   </td></tr>\n",
       "\t<tr><th scope=row>375</th><td>   620986    </td><td>NA           </td><td>NA           </td><td>Gm6195       </td><td>NA           </td><td>NA           </td></tr>\n",
       "\t<tr><th scope=row>376</th><td>   240697    </td><td>ND           </td><td>MF           </td><td>Mcmdc2       </td><td>chr1         </td><td>GO:0003674   </td></tr>\n",
       "\t<tr><th scope=row>388</th><td>    73824    </td><td>ND           </td><td>MF           </td><td>Snhg6        </td><td>chr1         </td><td>GO:0003674   </td></tr>\n",
       "\t<tr><th scope=row>391</th><td>   266793    </td><td>ISO          </td><td>CC           </td><td>Snord87      </td><td>chr1         </td><td>GO:0005730   </td></tr>\n",
       "\t<tr><th scope=row>⋮</th><td><U+22EE></td><td><U+22EE></td><td><U+22EE></td><td><U+22EE></td><td><U+22EE></td><td><U+22EE></td></tr>\n",
       "\t<tr><th scope=row>324447</th><td>100041168   </td><td>NA          </td><td>NA          </td><td>Gm20863     </td><td>NA          </td><td>NA          </td></tr>\n",
       "\t<tr><th scope=row>324448</th><td>100041207   </td><td>NA          </td><td>NA          </td><td>NA          </td><td>NA          </td><td>NA          </td></tr>\n",
       "\t<tr><th scope=row>324449</th><td>100861637   </td><td>IBA         </td><td>CC          </td><td>Gm21095     </td><td>NA          </td><td>GO:0005634  </td></tr>\n",
       "\t<tr><th scope=row>324451</th><td>100861988   </td><td>NA          </td><td>NA          </td><td>Gm21380     </td><td>NA          </td><td>NA          </td></tr>\n",
       "\t<tr><th scope=row>324452</th><td>100862006   </td><td>NA          </td><td>NA          </td><td>NA          </td><td>NA          </td><td>NA          </td></tr>\n",
       "\t<tr><th scope=row>324453</th><td>100862025   </td><td>NA          </td><td>NA          </td><td>Gm21409     </td><td>NA          </td><td>NA          </td></tr>\n",
       "\t<tr><th scope=row>324454</th><td>100040991   </td><td>NA          </td><td>NA          </td><td>Gm20856     </td><td>NA          </td><td>NA          </td></tr>\n",
       "\t<tr><th scope=row>324455</th><td>100040911   </td><td>NA          </td><td>NA          </td><td>Gm20854     </td><td>chrY        </td><td>NA          </td></tr>\n",
       "\t<tr><th scope=row>324456</th><td>100862053   </td><td>NA          </td><td>NA          </td><td>Gm21435     </td><td>NA          </td><td>NA          </td></tr>\n",
       "\t<tr><th scope=row>324457</th><td>100039905   </td><td>IBA         </td><td>CC          </td><td>Gm20820     </td><td>NA          </td><td>GO:0005634  </td></tr>\n",
       "\t<tr><th scope=row>324459</th><td>100041141   </td><td>NA          </td><td>NA          </td><td>Gm20861     </td><td>NA          </td><td>NA          </td></tr>\n",
       "\t<tr><th scope=row>324460</th><td>100041117   </td><td>NA          </td><td>NA          </td><td>Gm20860     </td><td>NA          </td><td>NA          </td></tr>\n",
       "\t<tr><th scope=row>324461</th><td>100862083   </td><td>NA          </td><td>NA          </td><td>Gm21462     </td><td>NA          </td><td>NA          </td></tr>\n",
       "\t<tr><th scope=row>324462</th><td>100862092   </td><td>NA          </td><td>NA          </td><td>Gm21470     </td><td>NA          </td><td>NA          </td></tr>\n",
       "\t<tr><th scope=row>324463</th><td>100862100   </td><td>NA          </td><td>NA          </td><td>Gm21477     </td><td>NA          </td><td>NA          </td></tr>\n",
       "\t<tr><th scope=row>324464</th><td>100042201   </td><td>NA          </td><td>NA          </td><td>Gm20906     </td><td>NA          </td><td>NA          </td></tr>\n",
       "\t<tr><th scope=row>324465</th><td>100039904   </td><td>NA          </td><td>NA          </td><td>Gm20819     </td><td>NA          </td><td>NA          </td></tr>\n",
       "\t<tr><th scope=row>324466</th><td>100861873   </td><td>NA          </td><td>NA          </td><td>Gm21287     </td><td>NA          </td><td>NA          </td></tr>\n",
       "\t<tr><th scope=row>324467</th><td>100861881   </td><td>IBA         </td><td>CC          </td><td>Gm21294     </td><td>NA          </td><td>GO:0005634  </td></tr>\n",
       "\t<tr><th scope=row>324469</th><td>100504642   </td><td>IBA         </td><td>CC          </td><td>Gm21996     </td><td>NA          </td><td>GO:0005634  </td></tr>\n",
       "\t<tr><th scope=row>324471</th><td>100041631   </td><td>NA          </td><td>NA          </td><td>Gm20879     </td><td>NA          </td><td>NA          </td></tr>\n",
       "\t<tr><th scope=row>324472</th><td>100504702   </td><td>NA          </td><td>NA          </td><td>NA          </td><td>NA          </td><td>NA          </td></tr>\n",
       "\t<tr><th scope=row>324473</th><td>100040357   </td><td>NA          </td><td>NA          </td><td>Gm20837     </td><td>NA          </td><td>NA          </td></tr>\n",
       "\t<tr><th scope=row>324474</th><td>100861808   </td><td>NA          </td><td>NA          </td><td>NA          </td><td>NA          </td><td>NA          </td></tr>\n",
       "\t<tr><th scope=row>324475</th><td>100504460   </td><td>NA          </td><td>NA          </td><td>NA          </td><td>NA          </td><td>NA          </td></tr>\n",
       "\t<tr><th scope=row>324476</th><td>100861837   </td><td>NA          </td><td>NA          </td><td>NA          </td><td>NA          </td><td>NA          </td></tr>\n",
       "\t<tr><th scope=row>324477</th><td>100861924   </td><td>NA          </td><td>NA          </td><td>NA          </td><td>NA          </td><td>NA          </td></tr>\n",
       "\t<tr><th scope=row>324478</th><td>   170942   </td><td>ND          </td><td>MF          </td><td>Erdr1       </td><td>chrY        </td><td>GO:0003674  </td></tr>\n",
       "\t<tr><th scope=row>324483</th><td>100861691   </td><td>NA          </td><td>NA          </td><td>LOC100861691</td><td>NA          </td><td>NA          </td></tr>\n",
       "\t<tr><th scope=row>324484</th><td>100504472   </td><td>NA          </td><td>NA          </td><td>NA          </td><td>NA          </td><td>NA          </td></tr>\n",
       "</tbody>\n",
       "</table>\n",
       "</dd>\n",
       "</dl>\n"
      ],
      "text/latex": [
       "\\begin{description}\n",
       "\\item[\\$samples] \\begin{tabular}{r|lllll}\n",
       "  & files & group & lib.size & norm.factors & lane\\\\\n",
       "\\hline\n",
       "\t10\\_6\\_5\\_11 & GSM1545535\\_10\\_6\\_5\\_11.txt & LP                               & 32863052                         & 1                                & L004                            \\\\\n",
       "\t9\\_6\\_5\\_11 & GSM1545536\\_9\\_6\\_5\\_11.txt  & ML                               & 35335491                         & 1                                & L004                            \\\\\n",
       "\tpurep53 & GSM1545538\\_purep53.txt   & Basal                      & 57160817                   & 1                          & L004                      \\\\\n",
       "\tJMS8-2 & GSM1545539\\_JMS8-2.txt    & Basal                      & 51368625                   & 1                          & L006                      \\\\\n",
       "\tJMS8-3 & GSM1545540\\_JMS8-3.txt    & ML                         & 75795034                   & 1                          & L006                      \\\\\n",
       "\tJMS8-4 & GSM1545541\\_JMS8-4.txt    & LP                         & 60517657                   & 1                          & L006                      \\\\\n",
       "\tJMS8-5 & GSM1545542\\_JMS8-5.txt    & Basal                      & 55086324                   & 1                          & L006                      \\\\\n",
       "\tJMS9-P7c & GSM1545544\\_JMS9-P7c.txt  & ML                         & 21311068                   & 1                          & L008                      \\\\\n",
       "\tJMS9-P8c & GSM1545545\\_JMS9-P8c.txt  & LP                         & 19958838                   & 1                          & L008                      \\\\\n",
       "\\end{tabular}\n",
       "\n",
       "\\item[\\$counts] \\begin{tabular}{r|lllllllll}\n",
       "  & 10\\_6\\_5\\_11 & 9\\_6\\_5\\_11 & purep53 & JMS8-2 & JMS8-3 & JMS8-4 & JMS8-5 & JMS9-P7c & JMS9-P8c\\\\\n",
       "\\hline\n",
       "\t497097 &    1 &    2 &  342 &  526 &    3 &    3 &  535 &    2 &    0\\\\\n",
       "\t100503874 &    0 &    0 &    5 &    6 &    0 &    0 &    5 &    0 &    0\\\\\n",
       "\t100038431 &    0 &    0 &    0 &    0 &    0 &    0 &    1 &    0 &    0\\\\\n",
       "\t19888 &    0 &    1 &    0 &    0 &   17 &    2 &    0 &    1 &    0\\\\\n",
       "\t20671 &    1 &    1 &   76 &   40 &   33 &   14 &   98 &   18 &    8\\\\\n",
       "\t27395 &  431 &  771 & 1368 & 1268 & 1564 &  769 &  818 &  468 &  342\\\\\n",
       "\t18777 &  768 & 1722 & 2517 & 1923 & 3865 & 1888 & 1830 & 1246 &  693\\\\\n",
       "\t100503730 &    4 &    8 &    6 &    2 &   11 &   11 &    3 &    9 &    2\\\\\n",
       "\t21399 &  810 &  977 & 2472 & 1870 & 2251 & 1716 & 1932 &  756 &  619\\\\\n",
       "\t58175 &  452 &  358 &   17 &   14 &  622 &  571 &   12 &  203 &  224\\\\\n",
       "\t108664 & 1716 & 2678 & 2097 & 2071 & 5499 & 3630 & 1731 & 1715 & 1251\\\\\n",
       "\t18387 &    0 &    0 &    0 &    0 &    0 &    0 &    0 &    0 &    0\\\\\n",
       "\t226304 &    0 &    0 &    0 &    0 &    0 &    0 &    0 &    0 &    0\\\\\n",
       "\t12421 & 3451 & 2699 & 3399 & 2716 & 5233 & 6280 & 3647 & 1866 & 2122\\\\\n",
       "\t620393 &    0 &    0 &    2 &    3 &    0 &    0 &    0 &    0 &    0\\\\\n",
       "\t240690 &    0 &    0 &    0 &    1 &    0 &    0 &    0 &    0 &    0\\\\\n",
       "\t319263 & 2026 & 2033 & 3920 & 2715 & 3873 & 3688 & 3593 & 1609 & 1348\\\\\n",
       "\t71096 &    0 &    0 &    1 &    5 &    0 &    0 &    4 &    0 &    0\\\\\n",
       "\t59014 &  956 &  985 & 5497 & 4214 & 3462 & 2933 & 5336 &  649 &  731\\\\\n",
       "\t76187 &   54 &   76 &   46 &   32 &  148 &  126 &   59 &   44 &   27\\\\\n",
       "\t72481 &   16 &   28 &   12 &   12 &   67 &   24 &   14 &   18 &   11\\\\\n",
       "\t76982 &   21 &    9 &   21 &   44 &   35 &   34 &   29 &    8 &   15\\\\\n",
       "\t17864 &  194 &  166 & 1007 &  862 &  632 &  594 &  901 &  100 &  131\\\\\n",
       "\t70675 & 2390 & 2012 & 3500 & 3020 & 5412 & 4404 & 4173 & 1585 & 1522\\\\\n",
       "\t73331 &    3 &    2 &    4 &    1 &    1 &    5 &    2 &    3 &    0\\\\\n",
       "\t170755 &   87 &  323 &  734 &  565 &  721 &  249 &  666 &  267 &  113\\\\\n",
       "\t620986 &   71 &  194 &  383 &  206 &  307 &  110 &  206 &  112 &   50\\\\\n",
       "\t240697 &    0 &    0 &    9 &    8 &    3 &    1 &    7 &    0 &    1\\\\\n",
       "\t73824 &  289 &  487 &  824 &  565 &  709 &  517 &  662 &  335 &  271\\\\\n",
       "\t266793 &    4 &    6 &   54 &   10 &   18 &   19 &   43 &    9 &    6\\\\\n",
       "\t⋮ & <U+22EE> & <U+22EE> & <U+22EE> & <U+22EE> & <U+22EE> & <U+22EE> & <U+22EE> & <U+22EE> & <U+22EE>\\\\\n",
       "\t100041168 &   0  &   0  &    0 &   0  &    0 &    0 &    0 &   0  &   0 \\\\\n",
       "\t100041207 &   0  &   0  &    0 &   0  &    0 &    0 &    0 &   0  &   0 \\\\\n",
       "\t100861637 &   0  &   0  &    0 &   0  &    0 &    0 &    0 &   0  &   0 \\\\\n",
       "\t100861988 &   0  &   0  &    0 &   0  &    0 &    0 &    0 &   0  &   0 \\\\\n",
       "\t100862006 &   0  &   0  &    0 &   0  &    0 &    0 &    0 &   0  &   0 \\\\\n",
       "\t100862025 &   0  &   0  &    0 &   0  &    0 &    0 &    0 &   0  &   0 \\\\\n",
       "\t100040991 &   0  &   0  &    0 &   0  &    0 &    0 &    0 &   0  &   0 \\\\\n",
       "\t100040911 &   0  &   0  &    0 &   0  &    0 &    0 &    0 &   0  &   0 \\\\\n",
       "\t100862053 &   0  &   0  &    0 &   0  &    0 &    0 &    0 &   0  &   0 \\\\\n",
       "\t100039905 &   0  &   0  &    0 &   0  &    0 &    0 &    0 &   0  &   0 \\\\\n",
       "\t100041141 &   0  &   0  &    0 &   0  &    0 &    0 &    0 &   0  &   0 \\\\\n",
       "\t100041117 &   0  &   0  &    0 &   0  &    0 &    0 &    0 &   0  &   0 \\\\\n",
       "\t100862083 &   0  &   0  &    0 &   0  &    0 &    0 &    0 &   0  &   0 \\\\\n",
       "\t100862092 &   0  &   0  &    0 &   0  &    0 &    0 &    0 &   0  &   0 \\\\\n",
       "\t100862100 &   0  &   0  &    0 &   0  &    0 &    0 &    0 &   0  &   0 \\\\\n",
       "\t100042201 &   0  &   0  &    0 &   0  &    0 &    0 &    0 &   0  &   0 \\\\\n",
       "\t100039904 &   0  &   0  &    0 &   0  &    0 &    0 &    0 &   0  &   0 \\\\\n",
       "\t100861873 &   0  &   0  &    0 &   0  &    0 &    0 &    0 &   0  &   0 \\\\\n",
       "\t100861881 &   0  &   0  &    0 &   0  &    0 &    0 &    0 &   0  &   0 \\\\\n",
       "\t100504642 &   0  &   0  &    0 &   0  &    0 &    0 &    0 &   0  &   0 \\\\\n",
       "\t100041631 &   0  &   0  &    0 &   0  &    0 &    0 &    0 &   0  &   0 \\\\\n",
       "\t100504702 &   0  &   0  &    0 &   0  &    0 &    0 &    0 &   0  &   0 \\\\\n",
       "\t100040357 &   0  &   0  &    0 &   0  &    0 &    0 &    0 &   0  &   0 \\\\\n",
       "\t100861808 &   0  &   0  &    0 &   0  &    0 &    0 &    0 &   0  &   0 \\\\\n",
       "\t100504460 &   0  &   0  &    0 &   0  &    0 &    0 &    0 &   0  &   0 \\\\\n",
       "\t100861837 & 320  & 472  &  582 & 335  &  811 &  432 &  500 & 200  &  84 \\\\\n",
       "\t100861924 &  15  &  27  &  126 &   7  &   17 &   22 &   35 &   3  &   2 \\\\\n",
       "\t170942 & 824  & 769  & 1337 & 781  & 1266 & 1089 & 1274 & 469  & 379 \\\\\n",
       "\t100861691 &   0  &   0  &    0 &   0  &    0 &    0 &    0 &   0  &   0 \\\\\n",
       "\t100504472 &   0  &   0  &    0 &   0  &    0 &    0 &    0 &   0  &   0 \\\\\n",
       "\\end{tabular}\n",
       "\n",
       "\\item[\\$genes] \\begin{tabular}{r|llllll}\n",
       "  & ENTREZID & EVIDENCE & ONTOLOGY & SYMBOL & TXCHROM & GOID\\\\\n",
       "\\hline\n",
       "\t1 &    497097     & ND            & MF            & Xkr4          & chr1          & GO:0003674   \\\\\n",
       "\t5 & 100503874     & NA            & NA            & Gm19938       & NA            & NA           \\\\\n",
       "\t6 & 100038431     & NA            & NA            & Gm10568       & NA            & NA           \\\\\n",
       "\t7 &     19888     & IDA           & CC            & Rp1           & chr1          & GO:0001750   \\\\\n",
       "\t37 &     20671     & IMP           & BP            & Sox17         & chr1          & GO:0000122   \\\\\n",
       "\t109 &     27395     & TAS           & BP            & Mrpl15        & chr1          & GO:0000002   \\\\\n",
       "\t122 &     18777     & IMP           & BP            & Lypla1        & chr1          & GO:0002084   \\\\\n",
       "\t136 & 100503730     & NA            & NA            & Gm19860       & NA            & NA           \\\\\n",
       "\t137 &     21399     & IEA           & MF            & Tcea1         & chr1          & GO:0003676   \\\\\n",
       "\t151 &     58175     & TAS           & MF            & Rgs20         & chr1          & GO:0005096   \\\\\n",
       "\t161 &    108664     & IBA           & CC            & Atp6v1h       & chr1          & GO:0000221   \\\\\n",
       "\t173 &     18387     & IEA           & MF            & Oprk1         & chr1          & GO:0004871   \\\\\n",
       "\t220 &    226304     & IEA           & MF            & Npbwr1        & chr1          & GO:0004871   \\\\\n",
       "\t235 &     12421     & IMP           & BP            & Rb1cc1        & chr1          & GO:0000045   \\\\\n",
       "\t265 &    620393     & ND            & CC            & Fam150a       & chr1          & GO:0005575   \\\\\n",
       "\t271 &    240690     & ISO           & BP            & St18          & chr1          & GO:0000122   \\\\\n",
       "\t279 &    319263     & IBA           & MF            & Pcmtd1        & chr1          & GO:0004719   \\\\\n",
       "\t284 &     71096     & IEA           & MF            & Sntg1         & chr1          & GO:0003779   \\\\\n",
       "\t291 &     59014     & IBA           & BP            & Rrs1          & chr1          & GO:0000055   \\\\\n",
       "\t306 &     76187     & IBA           & MF            & Adhfe1        & chr1          & GO:0004022   \\\\\n",
       "\t314 &     72481     & ND            & MF            & 2610203C22Rik & chr1          & GO:0003674   \\\\\n",
       "\t317 &     76982     & ND            & MF            & 3110035E14Rik & chr1          & GO:0003674   \\\\\n",
       "\t320 &     17864     & IBA           & BP            & Mybl1         & chr1          & GO:0000278   \\\\\n",
       "\t335 &     70675     & ISO           & MF            & Vcpip1        & chr1          & GO:0004843   \\\\\n",
       "\t351 &     73331     & ND            & MF            & 1700034P13Rik & chr1          & GO:0003674   \\\\\n",
       "\t354 &    170755     & IEA           & MF            & Sgk3          & chr1          & GO:0000166   \\\\\n",
       "\t375 &    620986     & NA            & NA            & Gm6195        & NA            & NA           \\\\\n",
       "\t376 &    240697     & ND            & MF            & Mcmdc2        & chr1          & GO:0003674   \\\\\n",
       "\t388 &     73824     & ND            & MF            & Snhg6         & chr1          & GO:0003674   \\\\\n",
       "\t391 &    266793     & ISO           & CC            & Snord87       & chr1          & GO:0005730   \\\\\n",
       "\t⋮ & <U+22EE> & <U+22EE> & <U+22EE> & <U+22EE> & <U+22EE> & <U+22EE>\\\\\n",
       "\t324447 & 100041168    & NA           & NA           & Gm20863      & NA           & NA          \\\\\n",
       "\t324448 & 100041207    & NA           & NA           & NA           & NA           & NA          \\\\\n",
       "\t324449 & 100861637    & IBA          & CC           & Gm21095      & NA           & GO:0005634  \\\\\n",
       "\t324451 & 100861988    & NA           & NA           & Gm21380      & NA           & NA          \\\\\n",
       "\t324452 & 100862006    & NA           & NA           & NA           & NA           & NA          \\\\\n",
       "\t324453 & 100862025    & NA           & NA           & Gm21409      & NA           & NA          \\\\\n",
       "\t324454 & 100040991    & NA           & NA           & Gm20856      & NA           & NA          \\\\\n",
       "\t324455 & 100040911    & NA           & NA           & Gm20854      & chrY         & NA          \\\\\n",
       "\t324456 & 100862053    & NA           & NA           & Gm21435      & NA           & NA          \\\\\n",
       "\t324457 & 100039905    & IBA          & CC           & Gm20820      & NA           & GO:0005634  \\\\\n",
       "\t324459 & 100041141    & NA           & NA           & Gm20861      & NA           & NA          \\\\\n",
       "\t324460 & 100041117    & NA           & NA           & Gm20860      & NA           & NA          \\\\\n",
       "\t324461 & 100862083    & NA           & NA           & Gm21462      & NA           & NA          \\\\\n",
       "\t324462 & 100862092    & NA           & NA           & Gm21470      & NA           & NA          \\\\\n",
       "\t324463 & 100862100    & NA           & NA           & Gm21477      & NA           & NA          \\\\\n",
       "\t324464 & 100042201    & NA           & NA           & Gm20906      & NA           & NA          \\\\\n",
       "\t324465 & 100039904    & NA           & NA           & Gm20819      & NA           & NA          \\\\\n",
       "\t324466 & 100861873    & NA           & NA           & Gm21287      & NA           & NA          \\\\\n",
       "\t324467 & 100861881    & IBA          & CC           & Gm21294      & NA           & GO:0005634  \\\\\n",
       "\t324469 & 100504642    & IBA          & CC           & Gm21996      & NA           & GO:0005634  \\\\\n",
       "\t324471 & 100041631    & NA           & NA           & Gm20879      & NA           & NA          \\\\\n",
       "\t324472 & 100504702    & NA           & NA           & NA           & NA           & NA          \\\\\n",
       "\t324473 & 100040357    & NA           & NA           & Gm20837      & NA           & NA          \\\\\n",
       "\t324474 & 100861808    & NA           & NA           & NA           & NA           & NA          \\\\\n",
       "\t324475 & 100504460    & NA           & NA           & NA           & NA           & NA          \\\\\n",
       "\t324476 & 100861837    & NA           & NA           & NA           & NA           & NA          \\\\\n",
       "\t324477 & 100861924    & NA           & NA           & NA           & NA           & NA          \\\\\n",
       "\t324478 &    170942    & ND           & MF           & Erdr1        & chrY         & GO:0003674  \\\\\n",
       "\t324483 & 100861691    & NA           & NA           & LOC100861691 & NA           & NA          \\\\\n",
       "\t324484 & 100504472    & NA           & NA           & NA           & NA           & NA          \\\\\n",
       "\\end{tabular}\n",
       "\n",
       "\\end{description}\n"
      ],
      "text/markdown": [
       "$samples\n",
       ":   \n",
       "| <!--/--> | files | group | lib.size | norm.factors | lane |\n",
       "|---|---|---|---|---|---|\n",
       "| 10_6_5_11 | GSM1545535_10_6_5_11.txt | LP                       | 32863052                 | 1                        | L004                     |\n",
       "| 9_6_5_11 | GSM1545536_9_6_5_11.txt  | ML                       | 35335491                 | 1                        | L004                     |\n",
       "| purep53 | GSM1545538_purep53.txt   | Basal                    | 57160817                 | 1                        | L004                     |\n",
       "| JMS8-2 | GSM1545539_JMS8-2.txt    | Basal                    | 51368625                 | 1                        | L006                     |\n",
       "| JMS8-3 | GSM1545540_JMS8-3.txt    | ML                       | 75795034                 | 1                        | L006                     |\n",
       "| JMS8-4 | GSM1545541_JMS8-4.txt    | LP                       | 60517657                 | 1                        | L006                     |\n",
       "| JMS8-5 | GSM1545542_JMS8-5.txt    | Basal                    | 55086324                 | 1                        | L006                     |\n",
       "| JMS9-P7c | GSM1545544_JMS9-P7c.txt  | ML                       | 21311068                 | 1                        | L008                     |\n",
       "| JMS9-P8c | GSM1545545_JMS9-P8c.txt  | LP                       | 19958838                 | 1                        | L008                     |\n",
       "\n",
       "\n",
       "$counts\n",
       ":   \n",
       "| <!--/--> | 10_6_5_11 | 9_6_5_11 | purep53 | JMS8-2 | JMS8-3 | JMS8-4 | JMS8-5 | JMS9-P7c | JMS9-P8c |\n",
       "|---|---|---|---|---|---|---|---|---|---|\n",
       "| 497097 |    1 |    2 |  342 |  526 |    3 |    3 |  535 |    2 |    0 |\n",
       "| 100503874 |    0 |    0 |    5 |    6 |    0 |    0 |    5 |    0 |    0 |\n",
       "| 100038431 |    0 |    0 |    0 |    0 |    0 |    0 |    1 |    0 |    0 |\n",
       "| 19888 |    0 |    1 |    0 |    0 |   17 |    2 |    0 |    1 |    0 |\n",
       "| 20671 |    1 |    1 |   76 |   40 |   33 |   14 |   98 |   18 |    8 |\n",
       "| 27395 |  431 |  771 | 1368 | 1268 | 1564 |  769 |  818 |  468 |  342 |\n",
       "| 18777 |  768 | 1722 | 2517 | 1923 | 3865 | 1888 | 1830 | 1246 |  693 |\n",
       "| 100503730 |    4 |    8 |    6 |    2 |   11 |   11 |    3 |    9 |    2 |\n",
       "| 21399 |  810 |  977 | 2472 | 1870 | 2251 | 1716 | 1932 |  756 |  619 |\n",
       "| 58175 |  452 |  358 |   17 |   14 |  622 |  571 |   12 |  203 |  224 |\n",
       "| 108664 | 1716 | 2678 | 2097 | 2071 | 5499 | 3630 | 1731 | 1715 | 1251 |\n",
       "| 18387 |    0 |    0 |    0 |    0 |    0 |    0 |    0 |    0 |    0 |\n",
       "| 226304 |    0 |    0 |    0 |    0 |    0 |    0 |    0 |    0 |    0 |\n",
       "| 12421 | 3451 | 2699 | 3399 | 2716 | 5233 | 6280 | 3647 | 1866 | 2122 |\n",
       "| 620393 |    0 |    0 |    2 |    3 |    0 |    0 |    0 |    0 |    0 |\n",
       "| 240690 |    0 |    0 |    0 |    1 |    0 |    0 |    0 |    0 |    0 |\n",
       "| 319263 | 2026 | 2033 | 3920 | 2715 | 3873 | 3688 | 3593 | 1609 | 1348 |\n",
       "| 71096 |    0 |    0 |    1 |    5 |    0 |    0 |    4 |    0 |    0 |\n",
       "| 59014 |  956 |  985 | 5497 | 4214 | 3462 | 2933 | 5336 |  649 |  731 |\n",
       "| 76187 |   54 |   76 |   46 |   32 |  148 |  126 |   59 |   44 |   27 |\n",
       "| 72481 |   16 |   28 |   12 |   12 |   67 |   24 |   14 |   18 |   11 |\n",
       "| 76982 |   21 |    9 |   21 |   44 |   35 |   34 |   29 |    8 |   15 |\n",
       "| 17864 |  194 |  166 | 1007 |  862 |  632 |  594 |  901 |  100 |  131 |\n",
       "| 70675 | 2390 | 2012 | 3500 | 3020 | 5412 | 4404 | 4173 | 1585 | 1522 |\n",
       "| 73331 |    3 |    2 |    4 |    1 |    1 |    5 |    2 |    3 |    0 |\n",
       "| 170755 |   87 |  323 |  734 |  565 |  721 |  249 |  666 |  267 |  113 |\n",
       "| 620986 |   71 |  194 |  383 |  206 |  307 |  110 |  206 |  112 |   50 |\n",
       "| 240697 |    0 |    0 |    9 |    8 |    3 |    1 |    7 |    0 |    1 |\n",
       "| 73824 |  289 |  487 |  824 |  565 |  709 |  517 |  662 |  335 |  271 |\n",
       "| 266793 |    4 |    6 |   54 |   10 |   18 |   19 |   43 |    9 |    6 |\n",
       "| ⋮ | <U+22EE> | <U+22EE> | <U+22EE> | <U+22EE> | <U+22EE> | <U+22EE> | <U+22EE> | <U+22EE> | <U+22EE> |\n",
       "| 100041168 |   0  |   0  |    0 |   0  |    0 |    0 |    0 |   0  |   0  |\n",
       "| 100041207 |   0  |   0  |    0 |   0  |    0 |    0 |    0 |   0  |   0  |\n",
       "| 100861637 |   0  |   0  |    0 |   0  |    0 |    0 |    0 |   0  |   0  |\n",
       "| 100861988 |   0  |   0  |    0 |   0  |    0 |    0 |    0 |   0  |   0  |\n",
       "| 100862006 |   0  |   0  |    0 |   0  |    0 |    0 |    0 |   0  |   0  |\n",
       "| 100862025 |   0  |   0  |    0 |   0  |    0 |    0 |    0 |   0  |   0  |\n",
       "| 100040991 |   0  |   0  |    0 |   0  |    0 |    0 |    0 |   0  |   0  |\n",
       "| 100040911 |   0  |   0  |    0 |   0  |    0 |    0 |    0 |   0  |   0  |\n",
       "| 100862053 |   0  |   0  |    0 |   0  |    0 |    0 |    0 |   0  |   0  |\n",
       "| 100039905 |   0  |   0  |    0 |   0  |    0 |    0 |    0 |   0  |   0  |\n",
       "| 100041141 |   0  |   0  |    0 |   0  |    0 |    0 |    0 |   0  |   0  |\n",
       "| 100041117 |   0  |   0  |    0 |   0  |    0 |    0 |    0 |   0  |   0  |\n",
       "| 100862083 |   0  |   0  |    0 |   0  |    0 |    0 |    0 |   0  |   0  |\n",
       "| 100862092 |   0  |   0  |    0 |   0  |    0 |    0 |    0 |   0  |   0  |\n",
       "| 100862100 |   0  |   0  |    0 |   0  |    0 |    0 |    0 |   0  |   0  |\n",
       "| 100042201 |   0  |   0  |    0 |   0  |    0 |    0 |    0 |   0  |   0  |\n",
       "| 100039904 |   0  |   0  |    0 |   0  |    0 |    0 |    0 |   0  |   0  |\n",
       "| 100861873 |   0  |   0  |    0 |   0  |    0 |    0 |    0 |   0  |   0  |\n",
       "| 100861881 |   0  |   0  |    0 |   0  |    0 |    0 |    0 |   0  |   0  |\n",
       "| 100504642 |   0  |   0  |    0 |   0  |    0 |    0 |    0 |   0  |   0  |\n",
       "| 100041631 |   0  |   0  |    0 |   0  |    0 |    0 |    0 |   0  |   0  |\n",
       "| 100504702 |   0  |   0  |    0 |   0  |    0 |    0 |    0 |   0  |   0  |\n",
       "| 100040357 |   0  |   0  |    0 |   0  |    0 |    0 |    0 |   0  |   0  |\n",
       "| 100861808 |   0  |   0  |    0 |   0  |    0 |    0 |    0 |   0  |   0  |\n",
       "| 100504460 |   0  |   0  |    0 |   0  |    0 |    0 |    0 |   0  |   0  |\n",
       "| 100861837 | 320  | 472  |  582 | 335  |  811 |  432 |  500 | 200  |  84  |\n",
       "| 100861924 |  15  |  27  |  126 |   7  |   17 |   22 |   35 |   3  |   2  |\n",
       "| 170942 | 824  | 769  | 1337 | 781  | 1266 | 1089 | 1274 | 469  | 379  |\n",
       "| 100861691 |   0  |   0  |    0 |   0  |    0 |    0 |    0 |   0  |   0  |\n",
       "| 100504472 |   0  |   0  |    0 |   0  |    0 |    0 |    0 |   0  |   0  |\n",
       "\n",
       "\n",
       "$genes\n",
       ":   \n",
       "| <!--/--> | ENTREZID | EVIDENCE | ONTOLOGY | SYMBOL | TXCHROM | GOID |\n",
       "|---|---|---|---|---|---|---|\n",
       "| 1 |    497097     | ND            | MF            | Xkr4          | chr1          | GO:0003674    |\n",
       "| 5 | 100503874     | NA            | NA            | Gm19938       | NA            | NA            |\n",
       "| 6 | 100038431     | NA            | NA            | Gm10568       | NA            | NA            |\n",
       "| 7 |     19888     | IDA           | CC            | Rp1           | chr1          | GO:0001750    |\n",
       "| 37 |     20671     | IMP           | BP            | Sox17         | chr1          | GO:0000122    |\n",
       "| 109 |     27395     | TAS           | BP            | Mrpl15        | chr1          | GO:0000002    |\n",
       "| 122 |     18777     | IMP           | BP            | Lypla1        | chr1          | GO:0002084    |\n",
       "| 136 | 100503730     | NA            | NA            | Gm19860       | NA            | NA            |\n",
       "| 137 |     21399     | IEA           | MF            | Tcea1         | chr1          | GO:0003676    |\n",
       "| 151 |     58175     | TAS           | MF            | Rgs20         | chr1          | GO:0005096    |\n",
       "| 161 |    108664     | IBA           | CC            | Atp6v1h       | chr1          | GO:0000221    |\n",
       "| 173 |     18387     | IEA           | MF            | Oprk1         | chr1          | GO:0004871    |\n",
       "| 220 |    226304     | IEA           | MF            | Npbwr1        | chr1          | GO:0004871    |\n",
       "| 235 |     12421     | IMP           | BP            | Rb1cc1        | chr1          | GO:0000045    |\n",
       "| 265 |    620393     | ND            | CC            | Fam150a       | chr1          | GO:0005575    |\n",
       "| 271 |    240690     | ISO           | BP            | St18          | chr1          | GO:0000122    |\n",
       "| 279 |    319263     | IBA           | MF            | Pcmtd1        | chr1          | GO:0004719    |\n",
       "| 284 |     71096     | IEA           | MF            | Sntg1         | chr1          | GO:0003779    |\n",
       "| 291 |     59014     | IBA           | BP            | Rrs1          | chr1          | GO:0000055    |\n",
       "| 306 |     76187     | IBA           | MF            | Adhfe1        | chr1          | GO:0004022    |\n",
       "| 314 |     72481     | ND            | MF            | 2610203C22Rik | chr1          | GO:0003674    |\n",
       "| 317 |     76982     | ND            | MF            | 3110035E14Rik | chr1          | GO:0003674    |\n",
       "| 320 |     17864     | IBA           | BP            | Mybl1         | chr1          | GO:0000278    |\n",
       "| 335 |     70675     | ISO           | MF            | Vcpip1        | chr1          | GO:0004843    |\n",
       "| 351 |     73331     | ND            | MF            | 1700034P13Rik | chr1          | GO:0003674    |\n",
       "| 354 |    170755     | IEA           | MF            | Sgk3          | chr1          | GO:0000166    |\n",
       "| 375 |    620986     | NA            | NA            | Gm6195        | NA            | NA            |\n",
       "| 376 |    240697     | ND            | MF            | Mcmdc2        | chr1          | GO:0003674    |\n",
       "| 388 |     73824     | ND            | MF            | Snhg6         | chr1          | GO:0003674    |\n",
       "| 391 |    266793     | ISO           | CC            | Snord87       | chr1          | GO:0005730    |\n",
       "| ⋮ | <U+22EE> | <U+22EE> | <U+22EE> | <U+22EE> | <U+22EE> | <U+22EE> |\n",
       "| 324447 | 100041168    | NA           | NA           | Gm20863      | NA           | NA           |\n",
       "| 324448 | 100041207    | NA           | NA           | NA           | NA           | NA           |\n",
       "| 324449 | 100861637    | IBA          | CC           | Gm21095      | NA           | GO:0005634   |\n",
       "| 324451 | 100861988    | NA           | NA           | Gm21380      | NA           | NA           |\n",
       "| 324452 | 100862006    | NA           | NA           | NA           | NA           | NA           |\n",
       "| 324453 | 100862025    | NA           | NA           | Gm21409      | NA           | NA           |\n",
       "| 324454 | 100040991    | NA           | NA           | Gm20856      | NA           | NA           |\n",
       "| 324455 | 100040911    | NA           | NA           | Gm20854      | chrY         | NA           |\n",
       "| 324456 | 100862053    | NA           | NA           | Gm21435      | NA           | NA           |\n",
       "| 324457 | 100039905    | IBA          | CC           | Gm20820      | NA           | GO:0005634   |\n",
       "| 324459 | 100041141    | NA           | NA           | Gm20861      | NA           | NA           |\n",
       "| 324460 | 100041117    | NA           | NA           | Gm20860      | NA           | NA           |\n",
       "| 324461 | 100862083    | NA           | NA           | Gm21462      | NA           | NA           |\n",
       "| 324462 | 100862092    | NA           | NA           | Gm21470      | NA           | NA           |\n",
       "| 324463 | 100862100    | NA           | NA           | Gm21477      | NA           | NA           |\n",
       "| 324464 | 100042201    | NA           | NA           | Gm20906      | NA           | NA           |\n",
       "| 324465 | 100039904    | NA           | NA           | Gm20819      | NA           | NA           |\n",
       "| 324466 | 100861873    | NA           | NA           | Gm21287      | NA           | NA           |\n",
       "| 324467 | 100861881    | IBA          | CC           | Gm21294      | NA           | GO:0005634   |\n",
       "| 324469 | 100504642    | IBA          | CC           | Gm21996      | NA           | GO:0005634   |\n",
       "| 324471 | 100041631    | NA           | NA           | Gm20879      | NA           | NA           |\n",
       "| 324472 | 100504702    | NA           | NA           | NA           | NA           | NA           |\n",
       "| 324473 | 100040357    | NA           | NA           | Gm20837      | NA           | NA           |\n",
       "| 324474 | 100861808    | NA           | NA           | NA           | NA           | NA           |\n",
       "| 324475 | 100504460    | NA           | NA           | NA           | NA           | NA           |\n",
       "| 324476 | 100861837    | NA           | NA           | NA           | NA           | NA           |\n",
       "| 324477 | 100861924    | NA           | NA           | NA           | NA           | NA           |\n",
       "| 324478 |    170942    | ND           | MF           | Erdr1        | chrY         | GO:0003674   |\n",
       "| 324483 | 100861691    | NA           | NA           | LOC100861691 | NA           | NA           |\n",
       "| 324484 | 100504472    | NA           | NA           | NA           | NA           | NA           |\n",
       "\n",
       "\n",
       "\n",
       "\n"
      ],
      "text/plain": [
       "An object of class \"DGEList\"\n",
       "$samples\n",
       "                             files group lib.size norm.factors lane\n",
       "10_6_5_11 GSM1545535_10_6_5_11.txt    LP 32863052            1 L004\n",
       "9_6_5_11   GSM1545536_9_6_5_11.txt    ML 35335491            1 L004\n",
       "purep53     GSM1545538_purep53.txt Basal 57160817            1 L004\n",
       "JMS8-2       GSM1545539_JMS8-2.txt Basal 51368625            1 L006\n",
       "JMS8-3       GSM1545540_JMS8-3.txt    ML 75795034            1 L006\n",
       "JMS8-4       GSM1545541_JMS8-4.txt    LP 60517657            1 L006\n",
       "JMS8-5       GSM1545542_JMS8-5.txt Basal 55086324            1 L006\n",
       "JMS9-P7c   GSM1545544_JMS9-P7c.txt    ML 21311068            1 L008\n",
       "JMS9-P8c   GSM1545545_JMS9-P8c.txt    LP 19958838            1 L008\n",
       "\n",
       "$counts\n",
       "           Samples\n",
       "Tags        10_6_5_11 9_6_5_11 purep53 JMS8-2 JMS8-3 JMS8-4 JMS8-5 JMS9-P7c\n",
       "  497097            1        2     342    526      3      3    535        2\n",
       "  100503874         0        0       5      6      0      0      5        0\n",
       "  100038431         0        0       0      0      0      0      1        0\n",
       "  19888             0        1       0      0     17      2      0        1\n",
       "  20671             1        1      76     40     33     14     98       18\n",
       "           Samples\n",
       "Tags        JMS9-P8c\n",
       "  497097           0\n",
       "  100503874        0\n",
       "  100038431        0\n",
       "  19888            0\n",
       "  20671            8\n",
       "27174 more rows ...\n",
       "\n",
       "$genes\n",
       "    ENTREZID EVIDENCE ONTOLOGY  SYMBOL TXCHROM       GOID\n",
       "1     497097       ND       MF    Xkr4    chr1 GO:0003674\n",
       "5  100503874     <NA>     <NA> Gm19938    <NA>       <NA>\n",
       "6  100038431     <NA>     <NA> Gm10568    <NA>       <NA>\n",
       "7      19888      IDA       CC     Rp1    chr1 GO:0001750\n",
       "37     20671      IMP       BP   Sox17    chr1 GO:0000122\n",
       "27174 more rows ...\n"
      ]
     },
     "metadata": {},
     "output_type": "display_data"
    }
   ],
   "source": [
    "## ---Removing genes with low counts---------------------------------------\n",
    "# Look at how many read each sample has for the first 20 genes\n",
    "x"
   ]
  },
  {
   "cell_type": "code",
   "execution_count": 27,
   "metadata": {},
   "outputs": [
    {
     "data": {
      "text/html": [
       "<table>\n",
       "<thead><tr><th></th><th scope=col>10_6_5_11</th><th scope=col>9_6_5_11</th><th scope=col>purep53</th><th scope=col>JMS8-2</th><th scope=col>JMS8-3</th><th scope=col>JMS8-4</th><th scope=col>JMS8-5</th><th scope=col>JMS9-P7c</th><th scope=col>JMS9-P8c</th></tr></thead>\n",
       "<tbody>\n",
       "\t<tr><th scope=row>497097</th><td>   1</td><td>   2</td><td> 342</td><td> 526</td><td>   3</td><td>   3</td><td> 535</td><td>   2</td><td>   0</td></tr>\n",
       "\t<tr><th scope=row>100503874</th><td>   0</td><td>   0</td><td>   5</td><td>   6</td><td>   0</td><td>   0</td><td>   5</td><td>   0</td><td>   0</td></tr>\n",
       "\t<tr><th scope=row>100038431</th><td>   0</td><td>   0</td><td>   0</td><td>   0</td><td>   0</td><td>   0</td><td>   1</td><td>   0</td><td>   0</td></tr>\n",
       "\t<tr><th scope=row>19888</th><td>   0</td><td>   1</td><td>   0</td><td>   0</td><td>  17</td><td>   2</td><td>   0</td><td>   1</td><td>   0</td></tr>\n",
       "\t<tr><th scope=row>20671</th><td>   1</td><td>   1</td><td>  76</td><td>  40</td><td>  33</td><td>  14</td><td>  98</td><td>  18</td><td>   8</td></tr>\n",
       "\t<tr><th scope=row>27395</th><td> 431</td><td> 771</td><td>1368</td><td>1268</td><td>1564</td><td> 769</td><td> 818</td><td> 468</td><td> 342</td></tr>\n",
       "\t<tr><th scope=row>18777</th><td> 768</td><td>1722</td><td>2517</td><td>1923</td><td>3865</td><td>1888</td><td>1830</td><td>1246</td><td> 693</td></tr>\n",
       "\t<tr><th scope=row>100503730</th><td>   4</td><td>   8</td><td>   6</td><td>   2</td><td>  11</td><td>  11</td><td>   3</td><td>   9</td><td>   2</td></tr>\n",
       "\t<tr><th scope=row>21399</th><td> 810</td><td> 977</td><td>2472</td><td>1870</td><td>2251</td><td>1716</td><td>1932</td><td> 756</td><td> 619</td></tr>\n",
       "\t<tr><th scope=row>58175</th><td> 452</td><td> 358</td><td>  17</td><td>  14</td><td> 622</td><td> 571</td><td>  12</td><td> 203</td><td> 224</td></tr>\n",
       "\t<tr><th scope=row>108664</th><td>1716</td><td>2678</td><td>2097</td><td>2071</td><td>5499</td><td>3630</td><td>1731</td><td>1715</td><td>1251</td></tr>\n",
       "\t<tr><th scope=row>18387</th><td>   0</td><td>   0</td><td>   0</td><td>   0</td><td>   0</td><td>   0</td><td>   0</td><td>   0</td><td>   0</td></tr>\n",
       "\t<tr><th scope=row>226304</th><td>   0</td><td>   0</td><td>   0</td><td>   0</td><td>   0</td><td>   0</td><td>   0</td><td>   0</td><td>   0</td></tr>\n",
       "\t<tr><th scope=row>12421</th><td>3451</td><td>2699</td><td>3399</td><td>2716</td><td>5233</td><td>6280</td><td>3647</td><td>1866</td><td>2122</td></tr>\n",
       "\t<tr><th scope=row>620393</th><td>   0</td><td>   0</td><td>   2</td><td>   3</td><td>   0</td><td>   0</td><td>   0</td><td>   0</td><td>   0</td></tr>\n",
       "\t<tr><th scope=row>240690</th><td>   0</td><td>   0</td><td>   0</td><td>   1</td><td>   0</td><td>   0</td><td>   0</td><td>   0</td><td>   0</td></tr>\n",
       "\t<tr><th scope=row>319263</th><td>2026</td><td>2033</td><td>3920</td><td>2715</td><td>3873</td><td>3688</td><td>3593</td><td>1609</td><td>1348</td></tr>\n",
       "\t<tr><th scope=row>71096</th><td>   0</td><td>   0</td><td>   1</td><td>   5</td><td>   0</td><td>   0</td><td>   4</td><td>   0</td><td>   0</td></tr>\n",
       "\t<tr><th scope=row>59014</th><td> 956</td><td> 985</td><td>5497</td><td>4214</td><td>3462</td><td>2933</td><td>5336</td><td> 649</td><td> 731</td></tr>\n",
       "\t<tr><th scope=row>76187</th><td>  54</td><td>  76</td><td>  46</td><td>  32</td><td> 148</td><td> 126</td><td>  59</td><td>  44</td><td>  27</td></tr>\n",
       "</tbody>\n",
       "</table>\n"
      ],
      "text/latex": [
       "\\begin{tabular}{r|lllllllll}\n",
       "  & 10\\_6\\_5\\_11 & 9\\_6\\_5\\_11 & purep53 & JMS8-2 & JMS8-3 & JMS8-4 & JMS8-5 & JMS9-P7c & JMS9-P8c\\\\\n",
       "\\hline\n",
       "\t497097 &    1 &    2 &  342 &  526 &    3 &    3 &  535 &    2 &    0\\\\\n",
       "\t100503874 &    0 &    0 &    5 &    6 &    0 &    0 &    5 &    0 &    0\\\\\n",
       "\t100038431 &    0 &    0 &    0 &    0 &    0 &    0 &    1 &    0 &    0\\\\\n",
       "\t19888 &    0 &    1 &    0 &    0 &   17 &    2 &    0 &    1 &    0\\\\\n",
       "\t20671 &    1 &    1 &   76 &   40 &   33 &   14 &   98 &   18 &    8\\\\\n",
       "\t27395 &  431 &  771 & 1368 & 1268 & 1564 &  769 &  818 &  468 &  342\\\\\n",
       "\t18777 &  768 & 1722 & 2517 & 1923 & 3865 & 1888 & 1830 & 1246 &  693\\\\\n",
       "\t100503730 &    4 &    8 &    6 &    2 &   11 &   11 &    3 &    9 &    2\\\\\n",
       "\t21399 &  810 &  977 & 2472 & 1870 & 2251 & 1716 & 1932 &  756 &  619\\\\\n",
       "\t58175 &  452 &  358 &   17 &   14 &  622 &  571 &   12 &  203 &  224\\\\\n",
       "\t108664 & 1716 & 2678 & 2097 & 2071 & 5499 & 3630 & 1731 & 1715 & 1251\\\\\n",
       "\t18387 &    0 &    0 &    0 &    0 &    0 &    0 &    0 &    0 &    0\\\\\n",
       "\t226304 &    0 &    0 &    0 &    0 &    0 &    0 &    0 &    0 &    0\\\\\n",
       "\t12421 & 3451 & 2699 & 3399 & 2716 & 5233 & 6280 & 3647 & 1866 & 2122\\\\\n",
       "\t620393 &    0 &    0 &    2 &    3 &    0 &    0 &    0 &    0 &    0\\\\\n",
       "\t240690 &    0 &    0 &    0 &    1 &    0 &    0 &    0 &    0 &    0\\\\\n",
       "\t319263 & 2026 & 2033 & 3920 & 2715 & 3873 & 3688 & 3593 & 1609 & 1348\\\\\n",
       "\t71096 &    0 &    0 &    1 &    5 &    0 &    0 &    4 &    0 &    0\\\\\n",
       "\t59014 &  956 &  985 & 5497 & 4214 & 3462 & 2933 & 5336 &  649 &  731\\\\\n",
       "\t76187 &   54 &   76 &   46 &   32 &  148 &  126 &   59 &   44 &   27\\\\\n",
       "\\end{tabular}\n"
      ],
      "text/markdown": [
       "\n",
       "| <!--/--> | 10_6_5_11 | 9_6_5_11 | purep53 | JMS8-2 | JMS8-3 | JMS8-4 | JMS8-5 | JMS9-P7c | JMS9-P8c |\n",
       "|---|---|---|---|---|---|---|---|---|---|\n",
       "| 497097 |    1 |    2 |  342 |  526 |    3 |    3 |  535 |    2 |    0 |\n",
       "| 100503874 |    0 |    0 |    5 |    6 |    0 |    0 |    5 |    0 |    0 |\n",
       "| 100038431 |    0 |    0 |    0 |    0 |    0 |    0 |    1 |    0 |    0 |\n",
       "| 19888 |    0 |    1 |    0 |    0 |   17 |    2 |    0 |    1 |    0 |\n",
       "| 20671 |    1 |    1 |   76 |   40 |   33 |   14 |   98 |   18 |    8 |\n",
       "| 27395 |  431 |  771 | 1368 | 1268 | 1564 |  769 |  818 |  468 |  342 |\n",
       "| 18777 |  768 | 1722 | 2517 | 1923 | 3865 | 1888 | 1830 | 1246 |  693 |\n",
       "| 100503730 |    4 |    8 |    6 |    2 |   11 |   11 |    3 |    9 |    2 |\n",
       "| 21399 |  810 |  977 | 2472 | 1870 | 2251 | 1716 | 1932 |  756 |  619 |\n",
       "| 58175 |  452 |  358 |   17 |   14 |  622 |  571 |   12 |  203 |  224 |\n",
       "| 108664 | 1716 | 2678 | 2097 | 2071 | 5499 | 3630 | 1731 | 1715 | 1251 |\n",
       "| 18387 |    0 |    0 |    0 |    0 |    0 |    0 |    0 |    0 |    0 |\n",
       "| 226304 |    0 |    0 |    0 |    0 |    0 |    0 |    0 |    0 |    0 |\n",
       "| 12421 | 3451 | 2699 | 3399 | 2716 | 5233 | 6280 | 3647 | 1866 | 2122 |\n",
       "| 620393 |    0 |    0 |    2 |    3 |    0 |    0 |    0 |    0 |    0 |\n",
       "| 240690 |    0 |    0 |    0 |    1 |    0 |    0 |    0 |    0 |    0 |\n",
       "| 319263 | 2026 | 2033 | 3920 | 2715 | 3873 | 3688 | 3593 | 1609 | 1348 |\n",
       "| 71096 |    0 |    0 |    1 |    5 |    0 |    0 |    4 |    0 |    0 |\n",
       "| 59014 |  956 |  985 | 5497 | 4214 | 3462 | 2933 | 5336 |  649 |  731 |\n",
       "| 76187 |   54 |   76 |   46 |   32 |  148 |  126 |   59 |   44 |   27 |\n",
       "\n"
      ],
      "text/plain": [
       "           Samples\n",
       "Tags        10_6_5_11 9_6_5_11 purep53 JMS8-2 JMS8-3 JMS8-4 JMS8-5 JMS9-P7c\n",
       "  497097       1         2      342     526      3      3    535      2    \n",
       "  100503874    0         0        5       6      0      0      5      0    \n",
       "  100038431    0         0        0       0      0      0      1      0    \n",
       "  19888        0         1        0       0     17      2      0      1    \n",
       "  20671        1         1       76      40     33     14     98     18    \n",
       "  27395      431       771     1368    1268   1564    769    818    468    \n",
       "  18777      768      1722     2517    1923   3865   1888   1830   1246    \n",
       "  100503730    4         8        6       2     11     11      3      9    \n",
       "  21399      810       977     2472    1870   2251   1716   1932    756    \n",
       "  58175      452       358       17      14    622    571     12    203    \n",
       "  108664    1716      2678     2097    2071   5499   3630   1731   1715    \n",
       "  18387        0         0        0       0      0      0      0      0    \n",
       "  226304       0         0        0       0      0      0      0      0    \n",
       "  12421     3451      2699     3399    2716   5233   6280   3647   1866    \n",
       "  620393       0         0        2       3      0      0      0      0    \n",
       "  240690       0         0        0       1      0      0      0      0    \n",
       "  319263    2026      2033     3920    2715   3873   3688   3593   1609    \n",
       "  71096        0         0        1       5      0      0      4      0    \n",
       "  59014      956       985     5497    4214   3462   2933   5336    649    \n",
       "  76187       54        76       46      32    148    126     59     44    \n",
       "           Samples\n",
       "Tags        JMS9-P8c\n",
       "  497097       0    \n",
       "  100503874    0    \n",
       "  100038431    0    \n",
       "  19888        0    \n",
       "  20671        8    \n",
       "  27395      342    \n",
       "  18777      693    \n",
       "  100503730    2    \n",
       "  21399      619    \n",
       "  58175      224    \n",
       "  108664    1251    \n",
       "  18387        0    \n",
       "  226304       0    \n",
       "  12421     2122    \n",
       "  620393       0    \n",
       "  240690       0    \n",
       "  319263    1348    \n",
       "  71096        0    \n",
       "  59014      731    \n",
       "  76187       27    "
      ]
     },
     "metadata": {},
     "output_type": "display_data"
    },
    {
     "data": {
      "text/html": [
       "<table>\n",
       "<thead><tr><th></th><th scope=col>10_6_5_11</th><th scope=col>9_6_5_11</th><th scope=col>purep53</th><th scope=col>JMS8-2</th><th scope=col>JMS8-3</th><th scope=col>JMS8-4</th><th scope=col>JMS8-5</th><th scope=col>JMS9-P7c</th><th scope=col>JMS9-P8c</th></tr></thead>\n",
       "<tbody>\n",
       "\t<tr><th scope=row>497097</th><td>FALSE</td><td>FALSE</td><td>FALSE</td><td>FALSE</td><td>FALSE</td><td>FALSE</td><td>FALSE</td><td>FALSE</td><td> TRUE</td></tr>\n",
       "\t<tr><th scope=row>100503874</th><td> TRUE</td><td> TRUE</td><td>FALSE</td><td>FALSE</td><td> TRUE</td><td> TRUE</td><td>FALSE</td><td> TRUE</td><td> TRUE</td></tr>\n",
       "\t<tr><th scope=row>100038431</th><td> TRUE</td><td> TRUE</td><td> TRUE</td><td> TRUE</td><td> TRUE</td><td> TRUE</td><td>FALSE</td><td> TRUE</td><td> TRUE</td></tr>\n",
       "\t<tr><th scope=row>19888</th><td> TRUE</td><td>FALSE</td><td> TRUE</td><td> TRUE</td><td>FALSE</td><td>FALSE</td><td> TRUE</td><td>FALSE</td><td> TRUE</td></tr>\n",
       "\t<tr><th scope=row>20671</th><td>FALSE</td><td>FALSE</td><td>FALSE</td><td>FALSE</td><td>FALSE</td><td>FALSE</td><td>FALSE</td><td>FALSE</td><td>FALSE</td></tr>\n",
       "\t<tr><th scope=row>27395</th><td>FALSE</td><td>FALSE</td><td>FALSE</td><td>FALSE</td><td>FALSE</td><td>FALSE</td><td>FALSE</td><td>FALSE</td><td>FALSE</td></tr>\n",
       "\t<tr><th scope=row>18777</th><td>FALSE</td><td>FALSE</td><td>FALSE</td><td>FALSE</td><td>FALSE</td><td>FALSE</td><td>FALSE</td><td>FALSE</td><td>FALSE</td></tr>\n",
       "\t<tr><th scope=row>100503730</th><td>FALSE</td><td>FALSE</td><td>FALSE</td><td>FALSE</td><td>FALSE</td><td>FALSE</td><td>FALSE</td><td>FALSE</td><td>FALSE</td></tr>\n",
       "\t<tr><th scope=row>21399</th><td>FALSE</td><td>FALSE</td><td>FALSE</td><td>FALSE</td><td>FALSE</td><td>FALSE</td><td>FALSE</td><td>FALSE</td><td>FALSE</td></tr>\n",
       "\t<tr><th scope=row>58175</th><td>FALSE</td><td>FALSE</td><td>FALSE</td><td>FALSE</td><td>FALSE</td><td>FALSE</td><td>FALSE</td><td>FALSE</td><td>FALSE</td></tr>\n",
       "\t<tr><th scope=row>108664</th><td>FALSE</td><td>FALSE</td><td>FALSE</td><td>FALSE</td><td>FALSE</td><td>FALSE</td><td>FALSE</td><td>FALSE</td><td>FALSE</td></tr>\n",
       "\t<tr><th scope=row>18387</th><td> TRUE</td><td> TRUE</td><td> TRUE</td><td> TRUE</td><td> TRUE</td><td> TRUE</td><td> TRUE</td><td> TRUE</td><td> TRUE</td></tr>\n",
       "\t<tr><th scope=row>226304</th><td> TRUE</td><td> TRUE</td><td> TRUE</td><td> TRUE</td><td> TRUE</td><td> TRUE</td><td> TRUE</td><td> TRUE</td><td> TRUE</td></tr>\n",
       "\t<tr><th scope=row>12421</th><td>FALSE</td><td>FALSE</td><td>FALSE</td><td>FALSE</td><td>FALSE</td><td>FALSE</td><td>FALSE</td><td>FALSE</td><td>FALSE</td></tr>\n",
       "\t<tr><th scope=row>620393</th><td> TRUE</td><td> TRUE</td><td>FALSE</td><td>FALSE</td><td> TRUE</td><td> TRUE</td><td> TRUE</td><td> TRUE</td><td> TRUE</td></tr>\n",
       "\t<tr><th scope=row>240690</th><td> TRUE</td><td> TRUE</td><td> TRUE</td><td>FALSE</td><td> TRUE</td><td> TRUE</td><td> TRUE</td><td> TRUE</td><td> TRUE</td></tr>\n",
       "\t<tr><th scope=row>319263</th><td>FALSE</td><td>FALSE</td><td>FALSE</td><td>FALSE</td><td>FALSE</td><td>FALSE</td><td>FALSE</td><td>FALSE</td><td>FALSE</td></tr>\n",
       "\t<tr><th scope=row>71096</th><td> TRUE</td><td> TRUE</td><td>FALSE</td><td>FALSE</td><td> TRUE</td><td> TRUE</td><td>FALSE</td><td> TRUE</td><td> TRUE</td></tr>\n",
       "\t<tr><th scope=row>59014</th><td>FALSE</td><td>FALSE</td><td>FALSE</td><td>FALSE</td><td>FALSE</td><td>FALSE</td><td>FALSE</td><td>FALSE</td><td>FALSE</td></tr>\n",
       "\t<tr><th scope=row>76187</th><td>FALSE</td><td>FALSE</td><td>FALSE</td><td>FALSE</td><td>FALSE</td><td>FALSE</td><td>FALSE</td><td>FALSE</td><td>FALSE</td></tr>\n",
       "</tbody>\n",
       "</table>\n"
      ],
      "text/latex": [
       "\\begin{tabular}{r|lllllllll}\n",
       "  & 10\\_6\\_5\\_11 & 9\\_6\\_5\\_11 & purep53 & JMS8-2 & JMS8-3 & JMS8-4 & JMS8-5 & JMS9-P7c & JMS9-P8c\\\\\n",
       "\\hline\n",
       "\t497097 & FALSE & FALSE & FALSE & FALSE & FALSE & FALSE & FALSE & FALSE &  TRUE\\\\\n",
       "\t100503874 &  TRUE &  TRUE & FALSE & FALSE &  TRUE &  TRUE & FALSE &  TRUE &  TRUE\\\\\n",
       "\t100038431 &  TRUE &  TRUE &  TRUE &  TRUE &  TRUE &  TRUE & FALSE &  TRUE &  TRUE\\\\\n",
       "\t19888 &  TRUE & FALSE &  TRUE &  TRUE & FALSE & FALSE &  TRUE & FALSE &  TRUE\\\\\n",
       "\t20671 & FALSE & FALSE & FALSE & FALSE & FALSE & FALSE & FALSE & FALSE & FALSE\\\\\n",
       "\t27395 & FALSE & FALSE & FALSE & FALSE & FALSE & FALSE & FALSE & FALSE & FALSE\\\\\n",
       "\t18777 & FALSE & FALSE & FALSE & FALSE & FALSE & FALSE & FALSE & FALSE & FALSE\\\\\n",
       "\t100503730 & FALSE & FALSE & FALSE & FALSE & FALSE & FALSE & FALSE & FALSE & FALSE\\\\\n",
       "\t21399 & FALSE & FALSE & FALSE & FALSE & FALSE & FALSE & FALSE & FALSE & FALSE\\\\\n",
       "\t58175 & FALSE & FALSE & FALSE & FALSE & FALSE & FALSE & FALSE & FALSE & FALSE\\\\\n",
       "\t108664 & FALSE & FALSE & FALSE & FALSE & FALSE & FALSE & FALSE & FALSE & FALSE\\\\\n",
       "\t18387 &  TRUE &  TRUE &  TRUE &  TRUE &  TRUE &  TRUE &  TRUE &  TRUE &  TRUE\\\\\n",
       "\t226304 &  TRUE &  TRUE &  TRUE &  TRUE &  TRUE &  TRUE &  TRUE &  TRUE &  TRUE\\\\\n",
       "\t12421 & FALSE & FALSE & FALSE & FALSE & FALSE & FALSE & FALSE & FALSE & FALSE\\\\\n",
       "\t620393 &  TRUE &  TRUE & FALSE & FALSE &  TRUE &  TRUE &  TRUE &  TRUE &  TRUE\\\\\n",
       "\t240690 &  TRUE &  TRUE &  TRUE & FALSE &  TRUE &  TRUE &  TRUE &  TRUE &  TRUE\\\\\n",
       "\t319263 & FALSE & FALSE & FALSE & FALSE & FALSE & FALSE & FALSE & FALSE & FALSE\\\\\n",
       "\t71096 &  TRUE &  TRUE & FALSE & FALSE &  TRUE &  TRUE & FALSE &  TRUE &  TRUE\\\\\n",
       "\t59014 & FALSE & FALSE & FALSE & FALSE & FALSE & FALSE & FALSE & FALSE & FALSE\\\\\n",
       "\t76187 & FALSE & FALSE & FALSE & FALSE & FALSE & FALSE & FALSE & FALSE & FALSE\\\\\n",
       "\\end{tabular}\n"
      ],
      "text/markdown": [
       "\n",
       "| <!--/--> | 10_6_5_11 | 9_6_5_11 | purep53 | JMS8-2 | JMS8-3 | JMS8-4 | JMS8-5 | JMS9-P7c | JMS9-P8c |\n",
       "|---|---|---|---|---|---|---|---|---|---|\n",
       "| 497097 | FALSE | FALSE | FALSE | FALSE | FALSE | FALSE | FALSE | FALSE |  TRUE |\n",
       "| 100503874 |  TRUE |  TRUE | FALSE | FALSE |  TRUE |  TRUE | FALSE |  TRUE |  TRUE |\n",
       "| 100038431 |  TRUE |  TRUE |  TRUE |  TRUE |  TRUE |  TRUE | FALSE |  TRUE |  TRUE |\n",
       "| 19888 |  TRUE | FALSE |  TRUE |  TRUE | FALSE | FALSE |  TRUE | FALSE |  TRUE |\n",
       "| 20671 | FALSE | FALSE | FALSE | FALSE | FALSE | FALSE | FALSE | FALSE | FALSE |\n",
       "| 27395 | FALSE | FALSE | FALSE | FALSE | FALSE | FALSE | FALSE | FALSE | FALSE |\n",
       "| 18777 | FALSE | FALSE | FALSE | FALSE | FALSE | FALSE | FALSE | FALSE | FALSE |\n",
       "| 100503730 | FALSE | FALSE | FALSE | FALSE | FALSE | FALSE | FALSE | FALSE | FALSE |\n",
       "| 21399 | FALSE | FALSE | FALSE | FALSE | FALSE | FALSE | FALSE | FALSE | FALSE |\n",
       "| 58175 | FALSE | FALSE | FALSE | FALSE | FALSE | FALSE | FALSE | FALSE | FALSE |\n",
       "| 108664 | FALSE | FALSE | FALSE | FALSE | FALSE | FALSE | FALSE | FALSE | FALSE |\n",
       "| 18387 |  TRUE |  TRUE |  TRUE |  TRUE |  TRUE |  TRUE |  TRUE |  TRUE |  TRUE |\n",
       "| 226304 |  TRUE |  TRUE |  TRUE |  TRUE |  TRUE |  TRUE |  TRUE |  TRUE |  TRUE |\n",
       "| 12421 | FALSE | FALSE | FALSE | FALSE | FALSE | FALSE | FALSE | FALSE | FALSE |\n",
       "| 620393 |  TRUE |  TRUE | FALSE | FALSE |  TRUE |  TRUE |  TRUE |  TRUE |  TRUE |\n",
       "| 240690 |  TRUE |  TRUE |  TRUE | FALSE |  TRUE |  TRUE |  TRUE |  TRUE |  TRUE |\n",
       "| 319263 | FALSE | FALSE | FALSE | FALSE | FALSE | FALSE | FALSE | FALSE | FALSE |\n",
       "| 71096 |  TRUE |  TRUE | FALSE | FALSE |  TRUE |  TRUE | FALSE |  TRUE |  TRUE |\n",
       "| 59014 | FALSE | FALSE | FALSE | FALSE | FALSE | FALSE | FALSE | FALSE | FALSE |\n",
       "| 76187 | FALSE | FALSE | FALSE | FALSE | FALSE | FALSE | FALSE | FALSE | FALSE |\n",
       "\n"
      ],
      "text/plain": [
       "           Samples\n",
       "Tags        10_6_5_11 9_6_5_11 purep53 JMS8-2 JMS8-3 JMS8-4 JMS8-5 JMS9-P7c\n",
       "  497097    FALSE     FALSE    FALSE   FALSE  FALSE  FALSE  FALSE  FALSE   \n",
       "  100503874  TRUE      TRUE    FALSE   FALSE   TRUE   TRUE  FALSE   TRUE   \n",
       "  100038431  TRUE      TRUE     TRUE    TRUE   TRUE   TRUE  FALSE   TRUE   \n",
       "  19888      TRUE     FALSE     TRUE    TRUE  FALSE  FALSE   TRUE  FALSE   \n",
       "  20671     FALSE     FALSE    FALSE   FALSE  FALSE  FALSE  FALSE  FALSE   \n",
       "  27395     FALSE     FALSE    FALSE   FALSE  FALSE  FALSE  FALSE  FALSE   \n",
       "  18777     FALSE     FALSE    FALSE   FALSE  FALSE  FALSE  FALSE  FALSE   \n",
       "  100503730 FALSE     FALSE    FALSE   FALSE  FALSE  FALSE  FALSE  FALSE   \n",
       "  21399     FALSE     FALSE    FALSE   FALSE  FALSE  FALSE  FALSE  FALSE   \n",
       "  58175     FALSE     FALSE    FALSE   FALSE  FALSE  FALSE  FALSE  FALSE   \n",
       "  108664    FALSE     FALSE    FALSE   FALSE  FALSE  FALSE  FALSE  FALSE   \n",
       "  18387      TRUE      TRUE     TRUE    TRUE   TRUE   TRUE   TRUE   TRUE   \n",
       "  226304     TRUE      TRUE     TRUE    TRUE   TRUE   TRUE   TRUE   TRUE   \n",
       "  12421     FALSE     FALSE    FALSE   FALSE  FALSE  FALSE  FALSE  FALSE   \n",
       "  620393     TRUE      TRUE    FALSE   FALSE   TRUE   TRUE   TRUE   TRUE   \n",
       "  240690     TRUE      TRUE     TRUE   FALSE   TRUE   TRUE   TRUE   TRUE   \n",
       "  319263    FALSE     FALSE    FALSE   FALSE  FALSE  FALSE  FALSE  FALSE   \n",
       "  71096      TRUE      TRUE    FALSE   FALSE   TRUE   TRUE  FALSE   TRUE   \n",
       "  59014     FALSE     FALSE    FALSE   FALSE  FALSE  FALSE  FALSE  FALSE   \n",
       "  76187     FALSE     FALSE    FALSE   FALSE  FALSE  FALSE  FALSE  FALSE   \n",
       "           Samples\n",
       "Tags        JMS9-P8c\n",
       "  497097     TRUE   \n",
       "  100503874  TRUE   \n",
       "  100038431  TRUE   \n",
       "  19888      TRUE   \n",
       "  20671     FALSE   \n",
       "  27395     FALSE   \n",
       "  18777     FALSE   \n",
       "  100503730 FALSE   \n",
       "  21399     FALSE   \n",
       "  58175     FALSE   \n",
       "  108664    FALSE   \n",
       "  18387      TRUE   \n",
       "  226304     TRUE   \n",
       "  12421     FALSE   \n",
       "  620393     TRUE   \n",
       "  240690     TRUE   \n",
       "  319263    FALSE   \n",
       "  71096      TRUE   \n",
       "  59014     FALSE   \n",
       "  76187     FALSE   "
      ]
     },
     "metadata": {},
     "output_type": "display_data"
    },
    {
     "data": {
      "text/html": [
       "<dl class=dl-horizontal>\n",
       "\t<dt>497097</dt>\n",
       "\t\t<dd>1</dd>\n",
       "\t<dt>100503874</dt>\n",
       "\t\t<dd>6</dd>\n",
       "\t<dt>100038431</dt>\n",
       "\t\t<dd>8</dd>\n",
       "\t<dt>19888</dt>\n",
       "\t\t<dd>5</dd>\n",
       "\t<dt>20671</dt>\n",
       "\t\t<dd>0</dd>\n",
       "\t<dt>27395</dt>\n",
       "\t\t<dd>0</dd>\n",
       "\t<dt>18777</dt>\n",
       "\t\t<dd>0</dd>\n",
       "\t<dt>100503730</dt>\n",
       "\t\t<dd>0</dd>\n",
       "\t<dt>21399</dt>\n",
       "\t\t<dd>0</dd>\n",
       "\t<dt>58175</dt>\n",
       "\t\t<dd>0</dd>\n",
       "\t<dt>108664</dt>\n",
       "\t\t<dd>0</dd>\n",
       "\t<dt>18387</dt>\n",
       "\t\t<dd>9</dd>\n",
       "\t<dt>226304</dt>\n",
       "\t\t<dd>9</dd>\n",
       "\t<dt>12421</dt>\n",
       "\t\t<dd>0</dd>\n",
       "\t<dt>620393</dt>\n",
       "\t\t<dd>7</dd>\n",
       "\t<dt>240690</dt>\n",
       "\t\t<dd>8</dd>\n",
       "\t<dt>319263</dt>\n",
       "\t\t<dd>0</dd>\n",
       "\t<dt>71096</dt>\n",
       "\t\t<dd>6</dd>\n",
       "\t<dt>59014</dt>\n",
       "\t\t<dd>0</dd>\n",
       "\t<dt>76187</dt>\n",
       "\t\t<dd>0</dd>\n",
       "</dl>\n"
      ],
      "text/latex": [
       "\\begin{description*}\n",
       "\\item[497097] 1\n",
       "\\item[100503874] 6\n",
       "\\item[100038431] 8\n",
       "\\item[19888] 5\n",
       "\\item[20671] 0\n",
       "\\item[27395] 0\n",
       "\\item[18777] 0\n",
       "\\item[100503730] 0\n",
       "\\item[21399] 0\n",
       "\\item[58175] 0\n",
       "\\item[108664] 0\n",
       "\\item[18387] 9\n",
       "\\item[226304] 9\n",
       "\\item[12421] 0\n",
       "\\item[620393] 7\n",
       "\\item[240690] 8\n",
       "\\item[319263] 0\n",
       "\\item[71096] 6\n",
       "\\item[59014] 0\n",
       "\\item[76187] 0\n",
       "\\end{description*}\n"
      ],
      "text/markdown": [
       "497097\n",
       ":   1100503874\n",
       ":   6100038431\n",
       ":   819888\n",
       ":   520671\n",
       ":   027395\n",
       ":   018777\n",
       ":   0100503730\n",
       ":   021399\n",
       ":   058175\n",
       ":   0108664\n",
       ":   018387\n",
       ":   9226304\n",
       ":   912421\n",
       ":   0620393\n",
       ":   7240690\n",
       ":   8319263\n",
       ":   071096\n",
       ":   659014\n",
       ":   076187\n",
       ":   0\n",
       "\n"
      ],
      "text/plain": [
       "   497097 100503874 100038431     19888     20671     27395     18777 100503730 \n",
       "        1         6         8         5         0         0         0         0 \n",
       "    21399     58175    108664     18387    226304     12421    620393    240690 \n",
       "        0         0         0         9         9         0         7         8 \n",
       "   319263     71096     59014     76187 \n",
       "        0         6         0         0 "
      ]
     },
     "metadata": {},
     "output_type": "display_data"
    },
    {
     "data": {
      "text/plain": [
       "\n",
       "    0     1     2     3     4     5     6     7     8     9 \n",
       "16276   970   692   597   568   598   633   665  1027  5153 "
      ]
     },
     "metadata": {},
     "output_type": "display_data"
    },
    {
     "data": {
      "text/html": [
       "<dl class=dl-horizontal>\n",
       "\t<dt>497097</dt>\n",
       "\t\t<dd>FALSE</dd>\n",
       "\t<dt>100503874</dt>\n",
       "\t\t<dd>FALSE</dd>\n",
       "\t<dt>100038431</dt>\n",
       "\t\t<dd>FALSE</dd>\n",
       "\t<dt>19888</dt>\n",
       "\t\t<dd>FALSE</dd>\n",
       "\t<dt>20671</dt>\n",
       "\t\t<dd>FALSE</dd>\n",
       "\t<dt>27395</dt>\n",
       "\t\t<dd>FALSE</dd>\n",
       "\t<dt>18777</dt>\n",
       "\t\t<dd>FALSE</dd>\n",
       "\t<dt>100503730</dt>\n",
       "\t\t<dd>FALSE</dd>\n",
       "\t<dt>21399</dt>\n",
       "\t\t<dd>FALSE</dd>\n",
       "\t<dt>58175</dt>\n",
       "\t\t<dd>FALSE</dd>\n",
       "\t<dt>108664</dt>\n",
       "\t\t<dd>FALSE</dd>\n",
       "\t<dt>18387</dt>\n",
       "\t\t<dd>TRUE</dd>\n",
       "\t<dt>226304</dt>\n",
       "\t\t<dd>TRUE</dd>\n",
       "\t<dt>12421</dt>\n",
       "\t\t<dd>FALSE</dd>\n",
       "\t<dt>620393</dt>\n",
       "\t\t<dd>FALSE</dd>\n",
       "\t<dt>240690</dt>\n",
       "\t\t<dd>FALSE</dd>\n",
       "\t<dt>319263</dt>\n",
       "\t\t<dd>FALSE</dd>\n",
       "\t<dt>71096</dt>\n",
       "\t\t<dd>FALSE</dd>\n",
       "\t<dt>59014</dt>\n",
       "\t\t<dd>FALSE</dd>\n",
       "\t<dt>76187</dt>\n",
       "\t\t<dd>FALSE</dd>\n",
       "</dl>\n"
      ],
      "text/latex": [
       "\\begin{description*}\n",
       "\\item[497097] FALSE\n",
       "\\item[100503874] FALSE\n",
       "\\item[100038431] FALSE\n",
       "\\item[19888] FALSE\n",
       "\\item[20671] FALSE\n",
       "\\item[27395] FALSE\n",
       "\\item[18777] FALSE\n",
       "\\item[100503730] FALSE\n",
       "\\item[21399] FALSE\n",
       "\\item[58175] FALSE\n",
       "\\item[108664] FALSE\n",
       "\\item[18387] TRUE\n",
       "\\item[226304] TRUE\n",
       "\\item[12421] FALSE\n",
       "\\item[620393] FALSE\n",
       "\\item[240690] FALSE\n",
       "\\item[319263] FALSE\n",
       "\\item[71096] FALSE\n",
       "\\item[59014] FALSE\n",
       "\\item[76187] FALSE\n",
       "\\end{description*}\n"
      ],
      "text/markdown": [
       "497097\n",
       ":   FALSE100503874\n",
       ":   FALSE100038431\n",
       ":   FALSE19888\n",
       ":   FALSE20671\n",
       ":   FALSE27395\n",
       ":   FALSE18777\n",
       ":   FALSE100503730\n",
       ":   FALSE21399\n",
       ":   FALSE58175\n",
       ":   FALSE108664\n",
       ":   FALSE18387\n",
       ":   TRUE226304\n",
       ":   TRUE12421\n",
       ":   FALSE620393\n",
       ":   FALSE240690\n",
       ":   FALSE319263\n",
       ":   FALSE71096\n",
       ":   FALSE59014\n",
       ":   FALSE76187\n",
       ":   FALSE\n",
       "\n"
      ],
      "text/plain": [
       "   497097 100503874 100038431     19888     20671     27395     18777 100503730 \n",
       "    FALSE     FALSE     FALSE     FALSE     FALSE     FALSE     FALSE     FALSE \n",
       "    21399     58175    108664     18387    226304     12421    620393    240690 \n",
       "    FALSE     FALSE     FALSE      TRUE      TRUE     FALSE     FALSE     FALSE \n",
       "   319263     71096     59014     76187 \n",
       "    FALSE     FALSE     FALSE     FALSE "
      ]
     },
     "metadata": {},
     "output_type": "display_data"
    },
    {
     "data": {
      "text/plain": [
       "\n",
       "FALSE  TRUE \n",
       "22026  5153 "
      ]
     },
     "metadata": {},
     "output_type": "display_data"
    }
   ],
   "source": [
    "# How many samples have 0 counts for the first 20 genes? \n",
    "# Let's use 'rowSums' to figure that out, and 'table' to summarize \n",
    "x$counts[1:20,]\n",
    "x$counts[1:20,]==0\n",
    "rowSums(x$counts[1:20,]==0)\n",
    "table(rowSums(x$counts==0))\n",
    "rowSums(x$counts[1:20,]==0)==9\n",
    "table(rowSums(x$counts==0)==9)"
   ]
  },
  {
   "cell_type": "code",
   "execution_count": 28,
   "metadata": {},
   "outputs": [
    {
     "data": {
      "text/html": [
       "<ol class=list-inline>\n",
       "\t<li>1</li>\n",
       "\t<li>2</li>\n",
       "\t<li>3</li>\n",
       "\t<li>1</li>\n",
       "\t<li>2</li>\n",
       "\t<li>3</li>\n",
       "\t<li>1</li>\n",
       "\t<li>2</li>\n",
       "\t<li>3</li>\n",
       "</ol>\n"
      ],
      "text/latex": [
       "\\begin{enumerate*}\n",
       "\\item 1\n",
       "\\item 2\n",
       "\\item 3\n",
       "\\item 1\n",
       "\\item 2\n",
       "\\item 3\n",
       "\\item 1\n",
       "\\item 2\n",
       "\\item 3\n",
       "\\end{enumerate*}\n"
      ],
      "text/markdown": [
       "1. 1\n",
       "2. 2\n",
       "3. 3\n",
       "4. 1\n",
       "5. 2\n",
       "6. 3\n",
       "7. 1\n",
       "8. 2\n",
       "9. 3\n",
       "\n",
       "\n"
      ],
      "text/plain": [
       "[1] 1 2 3 1 2 3 1 2 3"
      ]
     },
     "metadata": {},
     "output_type": "display_data"
    },
    {
     "data": {
      "text/html": [
       "<ol class=list-inline>\n",
       "\t<li>FALSE</li>\n",
       "\t<li>FALSE</li>\n",
       "\t<li>TRUE</li>\n",
       "\t<li>FALSE</li>\n",
       "\t<li>FALSE</li>\n",
       "\t<li>TRUE</li>\n",
       "\t<li>FALSE</li>\n",
       "\t<li>FALSE</li>\n",
       "\t<li>TRUE</li>\n",
       "</ol>\n"
      ],
      "text/latex": [
       "\\begin{enumerate*}\n",
       "\\item FALSE\n",
       "\\item FALSE\n",
       "\\item TRUE\n",
       "\\item FALSE\n",
       "\\item FALSE\n",
       "\\item TRUE\n",
       "\\item FALSE\n",
       "\\item FALSE\n",
       "\\item TRUE\n",
       "\\end{enumerate*}\n"
      ],
      "text/markdown": [
       "1. FALSE\n",
       "2. FALSE\n",
       "3. TRUE\n",
       "4. FALSE\n",
       "5. FALSE\n",
       "6. TRUE\n",
       "7. FALSE\n",
       "8. FALSE\n",
       "9. TRUE\n",
       "\n",
       "\n"
      ],
      "text/plain": [
       "[1] FALSE FALSE  TRUE FALSE FALSE  TRUE FALSE FALSE  TRUE"
      ]
     },
     "metadata": {},
     "output_type": "display_data"
    },
    {
     "data": {
      "text/html": [
       "<ol class=list-inline>\n",
       "\t<li>1</li>\n",
       "\t<li>2</li>\n",
       "\t<li>1</li>\n",
       "\t<li>2</li>\n",
       "\t<li>1</li>\n",
       "\t<li>2</li>\n",
       "</ol>\n"
      ],
      "text/latex": [
       "\\begin{enumerate*}\n",
       "\\item 1\n",
       "\\item 2\n",
       "\\item 1\n",
       "\\item 2\n",
       "\\item 1\n",
       "\\item 2\n",
       "\\end{enumerate*}\n"
      ],
      "text/markdown": [
       "1. 1\n",
       "2. 2\n",
       "3. 1\n",
       "4. 2\n",
       "5. 1\n",
       "6. 2\n",
       "\n",
       "\n"
      ],
      "text/plain": [
       "[1] 1 2 1 2 1 2"
      ]
     },
     "metadata": {},
     "output_type": "display_data"
    }
   ],
   "source": [
    "# Quick review of how subsetting with logical vectors works \n",
    "a <- c(rep(1:3,3))\n",
    "a\n",
    "lv <- a>2\n",
    "lv\n",
    "a[!lv]\n",
    "rm(a,lv)"
   ]
  },
  {
   "cell_type": "code",
   "execution_count": 29,
   "metadata": {},
   "outputs": [],
   "source": [
    "# Make a logical vector of genes that have three or more samples with more than one count per million reads\n",
    "# Then limit the DGEList to those genes\n",
    "keep <- rowSums(cpm>1)>=3\n",
    "x <- x[keep,, keep.lib.sizes=FALSE]"
   ]
  },
  {
   "cell_type": "code",
   "execution_count": 30,
   "metadata": {},
   "outputs": [],
   "source": [
    "# We now have a complete DGElist, but it needs to be normalized\n",
    "# First let's look at the data before normalization\n",
    "# While ggplot makes very nice plots, the workflow uses the standard plot command\n",
    "# Personally I prefer it... mostly because I can tell at what step I went wrong."
   ]
  },
  {
   "cell_type": "code",
   "execution_count": 31,
   "metadata": {},
   "outputs": [
    {
     "data": {
      "image/png": "[encoded data removed]",
      "text/plain": [
       "plot without title"
      ]
     },
     "metadata": {},
     "output_type": "display_data"
    }
   ],
   "source": [
    "## --Plot the density of epression levels----\n",
    "# RColorBrewer is a widely used package of color sets\n",
    "# We want to asign a set of colors to our samples that are easy to distinguish\n",
    "library(RColorBrewer)\n",
    "nsamples <- ncol(x)\n",
    "display.brewer.all(n=nsamples,type=\"all\",exact.n=TRUE)\n",
    "col <- brewer.pal(nsamples, \"Paired\")"
   ]
  },
  {
   "cell_type": "code",
   "execution_count": 32,
   "metadata": {},
   "outputs": [],
   "source": [
    "# While ggplot uses a large set of nested functions,\n",
    "# standard plotting in r uses the functions one at a time\n",
    "# The next command lets the plotting device know that we want one row of plots with two columns\n",
    "par(mfrow=c(1,2))"
   ]
  },
  {
   "cell_type": "code",
   "execution_count": 35,
   "metadata": {},
   "outputs": [
    {
     "data": {
      "image/png": "[encoded data removed]",
      "text/plain": [
       "Plot with title \"A. Raw data\""
      ]
     },
     "metadata": {},
     "output_type": "display_data"
    }
   ],
   "source": [
    "# You then plot the first sample's density before dropping low counts,\n",
    "#   set the title, and drop a line at x=0\n",
    "# Use ?plot to pull up a description of all the arguments you can pass plot\n",
    "plot(density(lcpm.pre[,1]), \n",
    "                col=col[1],             #Color of what you're plotting, a density line here\n",
    "                lwd=2,                  #line width\n",
    "                ylim=c(0,0.21),         #limits of the y-axis\n",
    "                las=2,                  #label style\n",
    "                main=\"\",                #plot() makes a simple title- we don't want it there \n",
    "                xlab=\"Log-cpm\"          #x-axis label\n",
    ")\n",
    "title(main=\"A. Raw data\")               #Set the title for this plot\n",
    "abline(v=0, lty=3)                      #Drop a vertical line at x=0, type 3 (dashed)\n",
    "\n",
    "#Now a quick for loop to add all the other density lines using the command lines()\n",
    "#If you used plot() instead of lines() you would move to the second panel\n",
    "for (i in 2:nsamples){\n",
    "        den <- density(lcpm.pre[,i])\n",
    "        lines(den$x, den$y, col=col[i], lwd=2)\n",
    "}\n"
   ]
  },
  {
   "cell_type": "code",
   "execution_count": 36,
   "metadata": {},
   "outputs": [
    {
     "data": {
      "image/png": "[encoded data removed]",
      "text/plain": [
       "Plot with title \"B. Filtered data\""
      ]
     },
     "metadata": {},
     "output_type": "display_data"
    }
   ],
   "source": [
    "#Now do the same thing, but now we will look at the data after removing the low expression genes\n",
    "lcpm <- cpm(x, log=TRUE)\n",
    "plot(density(lcpm[,1]), col=col[1], lwd=2, ylim=c(0,0.21), las=2, \n",
    "     main=\"\", xlab=\"\")\n",
    "title(main=\"B. Filtered data\", xlab=\"Log-cpm\")\n",
    "abline(v=0, lty=3)\n",
    "for (i in 2:nsamples){\n",
    "        den <- density(lcpm[,i])\n",
    "        lines(den$x, den$y, col=col[i], lwd=2)\n",
    "}\n"
   ]
  },
  {
   "cell_type": "code",
   "execution_count": 37,
   "metadata": {},
   "outputs": [
    {
     "data": {
      "text/html": [
       "<table>\n",
       "<thead><tr><th></th><th scope=col>files</th><th scope=col>group</th><th scope=col>lib.size</th><th scope=col>norm.factors</th><th scope=col>lane</th></tr></thead>\n",
       "<tbody>\n",
       "\t<tr><th scope=row>10_6_5_11</th><td>GSM1545535_10_6_5_11.txt</td><td>LP                      </td><td>32832881                </td><td>0.8957309               </td><td>L004                    </td></tr>\n",
       "\t<tr><th scope=row>9_6_5_11</th><td>GSM1545536_9_6_5_11.txt </td><td>ML                      </td><td>35296067                </td><td>1.0349196               </td><td>L004                    </td></tr>\n",
       "\t<tr><th scope=row>purep53</th><td>GSM1545538_purep53.txt  </td><td>Basal                   </td><td>57089259                </td><td>1.0439552               </td><td>L004                    </td></tr>\n",
       "\t<tr><th scope=row>JMS8-2</th><td>GSM1545539_JMS8-2.txt   </td><td>Basal                   </td><td>51304051                </td><td>1.0405040               </td><td>L006                    </td></tr>\n",
       "\t<tr><th scope=row>JMS8-3</th><td>GSM1545540_JMS8-3.txt   </td><td>ML                      </td><td>75724862                </td><td>1.0323599               </td><td>L006                    </td></tr>\n",
       "\t<tr><th scope=row>JMS8-4</th><td>GSM1545541_JMS8-4.txt   </td><td>LP                      </td><td>60457787                </td><td>0.9223424               </td><td>L006                    </td></tr>\n",
       "\t<tr><th scope=row>JMS8-5</th><td>GSM1545542_JMS8-5.txt   </td><td>Basal                   </td><td>55014064                </td><td>0.9836603               </td><td>L006                    </td></tr>\n",
       "\t<tr><th scope=row>JMS9-P7c</th><td>GSM1545544_JMS9-P7c.txt </td><td>ML                      </td><td>21282257                </td><td>1.0827381               </td><td>L008                    </td></tr>\n",
       "\t<tr><th scope=row>JMS9-P8c</th><td>GSM1545545_JMS9-P8c.txt </td><td>LP                      </td><td>19938942                </td><td>0.9792607               </td><td>L008                    </td></tr>\n",
       "</tbody>\n",
       "</table>\n"
      ],
      "text/latex": [
       "\\begin{tabular}{r|lllll}\n",
       "  & files & group & lib.size & norm.factors & lane\\\\\n",
       "\\hline\n",
       "\t10\\_6\\_5\\_11 & GSM1545535\\_10\\_6\\_5\\_11.txt & LP                               & 32832881                         & 0.8957309                        & L004                            \\\\\n",
       "\t9\\_6\\_5\\_11 & GSM1545536\\_9\\_6\\_5\\_11.txt  & ML                               & 35296067                         & 1.0349196                        & L004                            \\\\\n",
       "\tpurep53 & GSM1545538\\_purep53.txt   & Basal                      & 57089259                   & 1.0439552                  & L004                      \\\\\n",
       "\tJMS8-2 & GSM1545539\\_JMS8-2.txt    & Basal                      & 51304051                   & 1.0405040                  & L006                      \\\\\n",
       "\tJMS8-3 & GSM1545540\\_JMS8-3.txt    & ML                         & 75724862                   & 1.0323599                  & L006                      \\\\\n",
       "\tJMS8-4 & GSM1545541\\_JMS8-4.txt    & LP                         & 60457787                   & 0.9223424                  & L006                      \\\\\n",
       "\tJMS8-5 & GSM1545542\\_JMS8-5.txt    & Basal                      & 55014064                   & 0.9836603                  & L006                      \\\\\n",
       "\tJMS9-P7c & GSM1545544\\_JMS9-P7c.txt  & ML                         & 21282257                   & 1.0827381                  & L008                      \\\\\n",
       "\tJMS9-P8c & GSM1545545\\_JMS9-P8c.txt  & LP                         & 19938942                   & 0.9792607                  & L008                      \\\\\n",
       "\\end{tabular}\n"
      ],
      "text/markdown": [
       "\n",
       "| <!--/--> | files | group | lib.size | norm.factors | lane |\n",
       "|---|---|---|---|---|---|\n",
       "| 10_6_5_11 | GSM1545535_10_6_5_11.txt | LP                       | 32832881                 | 0.8957309                | L004                     |\n",
       "| 9_6_5_11 | GSM1545536_9_6_5_11.txt  | ML                       | 35296067                 | 1.0349196                | L004                     |\n",
       "| purep53 | GSM1545538_purep53.txt   | Basal                    | 57089259                 | 1.0439552                | L004                     |\n",
       "| JMS8-2 | GSM1545539_JMS8-2.txt    | Basal                    | 51304051                 | 1.0405040                | L006                     |\n",
       "| JMS8-3 | GSM1545540_JMS8-3.txt    | ML                       | 75724862                 | 1.0323599                | L006                     |\n",
       "| JMS8-4 | GSM1545541_JMS8-4.txt    | LP                       | 60457787                 | 0.9223424                | L006                     |\n",
       "| JMS8-5 | GSM1545542_JMS8-5.txt    | Basal                    | 55014064                 | 0.9836603                | L006                     |\n",
       "| JMS9-P7c | GSM1545544_JMS9-P7c.txt  | ML                       | 21282257                 | 1.0827381                | L008                     |\n",
       "| JMS9-P8c | GSM1545545_JMS9-P8c.txt  | LP                       | 19938942                 | 0.9792607                | L008                     |\n",
       "\n"
      ],
      "text/plain": [
       "          files                    group lib.size norm.factors lane\n",
       "10_6_5_11 GSM1545535_10_6_5_11.txt LP    32832881 0.8957309    L004\n",
       "9_6_5_11  GSM1545536_9_6_5_11.txt  ML    35296067 1.0349196    L004\n",
       "purep53   GSM1545538_purep53.txt   Basal 57089259 1.0439552    L004\n",
       "JMS8-2    GSM1545539_JMS8-2.txt    Basal 51304051 1.0405040    L006\n",
       "JMS8-3    GSM1545540_JMS8-3.txt    ML    75724862 1.0323599    L006\n",
       "JMS8-4    GSM1545541_JMS8-4.txt    LP    60457787 0.9223424    L006\n",
       "JMS8-5    GSM1545542_JMS8-5.txt    Basal 55014064 0.9836603    L006\n",
       "JMS9-P7c  GSM1545544_JMS9-P7c.txt  ML    21282257 1.0827381    L008\n",
       "JMS9-P8c  GSM1545545_JMS9-P8c.txt  LP    19938942 0.9792607    L008"
      ]
     },
     "metadata": {},
     "output_type": "display_data"
    }
   ],
   "source": [
    "## ---Now normalize using the trimmed mean of M values-----\n",
    "# The TMM method makes the assumption that there are a small number of large fold changes.\n",
    "# This method first calculates M values (fold changes, basically), sets aside the largest fold changes, and then normalizes the remaining genes\n",
    "x <- calcNormFactors(x, method = \"TMM\")\n",
    "x$samples\n",
    "GroupColors = c(rep(\"green\", sum(group== \"LP\")),rep(\"red\", sum(group ==\"ML\")),rep(\"blue\", sum(group ==\"Basal\")))\n",
    "\n",
    "#These samples are very consistent, so the normalization factors are small"
   ]
  },
  {
   "cell_type": "code",
   "execution_count": 39,
   "metadata": {},
   "outputs": [
    {
     "name": "stderr",
     "output_type": "stream",
     "text": [
      "BioC_mirror: https://bioconductor.org\n",
      "Using Bioconductor 3.7 (BiocInstaller 1.30.0), R 3.5.1 (2018-07-02).\n",
      "Installing package(s) 'gplots'\n",
      "also installing the dependencies 'gtools', 'gdata', 'caTools'\n",
      "\n"
     ]
    },
    {
     "name": "stdout",
     "output_type": "stream",
     "text": [
      "package 'gtools' successfully unpacked and MD5 sums checked\n",
      "package 'gdata' successfully unpacked and MD5 sums checked\n",
      "package 'caTools' successfully unpacked and MD5 sums checked\n",
      "package 'gplots' successfully unpacked and MD5 sums checked\n",
      "\n",
      "The downloaded binary packages are in\n",
      "\tC:\\Users\\trusta\\AppData\\Local\\Temp\\RtmpWujgWV\\downloaded_packages\n"
     ]
    },
    {
     "name": "stderr",
     "output_type": "stream",
     "text": [
      "Old packages: 'httpuv', 'MASS', 'quantmod', 'survival', 'xts'\n"
     ]
    }
   ],
   "source": [
    "biocLite('gplots')"
   ]
  },
  {
   "cell_type": "code",
   "execution_count": 40,
   "metadata": {},
   "outputs": [
    {
     "name": "stderr",
     "output_type": "stream",
     "text": [
      "Warning message:\n",
      "\"package 'gplots' was built under R version 3.5.3\"\n",
      "Attaching package: 'gplots'\n",
      "\n",
      "The following object is masked from 'package:stats':\n",
      "\n",
      "    lowess\n",
      "\n"
     ]
    },
    {
     "data": {
      "image/png": "[encoded data removed]",
      "text/plain": [
       "Plot with title \"Color Key\n",
       "and Histogram\""
      ]
     },
     "metadata": {},
     "output_type": "display_data"
    }
   ],
   "source": [
    "## --Sanity checks---------------\n",
    "# The two best ways to see if your data is good quality and that you are asking the right questions\n",
    "# are with heatmaps and some form of dimensional reduction like principal components or multi-dimensional scaling\n",
    "# Let's make a simple heatmap first that we will use for homework\n",
    "library(gplots)\n",
    "heatmap.2(lcpm [1:1000,])"
   ]
  },
  {
   "cell_type": "code",
   "execution_count": 41,
   "metadata": {},
   "outputs": [],
   "source": [
    "## Homework is to make this heatmap prettier- change the color scheme, remove the blue lines,\n",
    "#  indicate which samples belong to each group and lane, remove the row labels."
   ]
  },
  {
   "cell_type": "code",
   "execution_count": 42,
   "metadata": {},
   "outputs": [],
   "source": [
    "######  End Day Two"
   ]
  },
  {
   "cell_type": "code",
   "execution_count": 43,
   "metadata": {},
   "outputs": [],
   "source": [
    "## Linear models and differential expression\n",
    "\n",
    "# In this section we will use linear modeling to predict each gene's expression in a condition\n",
    "# given the expression in a condition you are comparing to. The model takes the data for all genes\n",
    "# and comes up with a model that best fits the data. Then we use that model to look for genes that\n",
    "# deviate from the model because they are differentially expressed in those two conditions.\n",
    "# We will not dive deep under the hood of linear modeling as it's not needed for expression analysis."
   ]
  },
  {
   "cell_type": "code",
   "execution_count": 44,
   "metadata": {},
   "outputs": [],
   "source": [
    "## -Setting up design and contrast matrices-------------------------------\n",
    "\n",
    "# The linear modelling commands we are about to use need to be told which \n",
    "# samples fall into each category and which categories we want to compare.\n",
    "# These inputs need to be in the form of a matrix, and there is an R command for making each of them.\n"
   ]
  },
  {
   "cell_type": "code",
   "execution_count": 45,
   "metadata": {},
   "outputs": [
    {
     "data": {
      "text/html": [
       "<table>\n",
       "<thead><tr><th scope=col>groupBasal</th><th scope=col>groupLP</th><th scope=col>groupML</th><th scope=col>laneL006</th><th scope=col>laneL008</th></tr></thead>\n",
       "<tbody>\n",
       "\t<tr><td>0</td><td>1</td><td>0</td><td>0</td><td>0</td></tr>\n",
       "\t<tr><td>0</td><td>0</td><td>1</td><td>0</td><td>0</td></tr>\n",
       "\t<tr><td>1</td><td>0</td><td>0</td><td>0</td><td>0</td></tr>\n",
       "\t<tr><td>1</td><td>0</td><td>0</td><td>1</td><td>0</td></tr>\n",
       "\t<tr><td>0</td><td>0</td><td>1</td><td>1</td><td>0</td></tr>\n",
       "\t<tr><td>0</td><td>1</td><td>0</td><td>1</td><td>0</td></tr>\n",
       "\t<tr><td>1</td><td>0</td><td>0</td><td>1</td><td>0</td></tr>\n",
       "\t<tr><td>0</td><td>0</td><td>1</td><td>0</td><td>1</td></tr>\n",
       "\t<tr><td>0</td><td>1</td><td>0</td><td>0</td><td>1</td></tr>\n",
       "</tbody>\n",
       "</table>\n"
      ],
      "text/latex": [
       "\\begin{tabular}{r|lllll}\n",
       " groupBasal & groupLP & groupML & laneL006 & laneL008\\\\\n",
       "\\hline\n",
       "\t 0 & 1 & 0 & 0 & 0\\\\\n",
       "\t 0 & 0 & 1 & 0 & 0\\\\\n",
       "\t 1 & 0 & 0 & 0 & 0\\\\\n",
       "\t 1 & 0 & 0 & 1 & 0\\\\\n",
       "\t 0 & 0 & 1 & 1 & 0\\\\\n",
       "\t 0 & 1 & 0 & 1 & 0\\\\\n",
       "\t 1 & 0 & 0 & 1 & 0\\\\\n",
       "\t 0 & 0 & 1 & 0 & 1\\\\\n",
       "\t 0 & 1 & 0 & 0 & 1\\\\\n",
       "\\end{tabular}\n"
      ],
      "text/markdown": [
       "\n",
       "| groupBasal | groupLP | groupML | laneL006 | laneL008 |\n",
       "|---|---|---|---|---|\n",
       "| 0 | 1 | 0 | 0 | 0 |\n",
       "| 0 | 0 | 1 | 0 | 0 |\n",
       "| 1 | 0 | 0 | 0 | 0 |\n",
       "| 1 | 0 | 0 | 1 | 0 |\n",
       "| 0 | 0 | 1 | 1 | 0 |\n",
       "| 0 | 1 | 0 | 1 | 0 |\n",
       "| 1 | 0 | 0 | 1 | 0 |\n",
       "| 0 | 0 | 1 | 0 | 1 |\n",
       "| 0 | 1 | 0 | 0 | 1 |\n",
       "\n"
      ],
      "text/plain": [
       "  groupBasal groupLP groupML laneL006 laneL008\n",
       "1 0          1       0       0        0       \n",
       "2 0          0       1       0        0       \n",
       "3 1          0       0       0        0       \n",
       "4 1          0       0       1        0       \n",
       "5 0          0       1       1        0       \n",
       "6 0          1       0       1        0       \n",
       "7 1          0       0       1        0       \n",
       "8 0          0       1       0        1       \n",
       "9 0          1       0       0        1       "
      ]
     },
     "metadata": {},
     "output_type": "display_data"
    }
   ],
   "source": [
    "# First we make a design matrix that defines the categories for each sample.\n",
    "\n",
    "design <- model.matrix(~0+group+lane)\n",
    "design"
   ]
  },
  {
   "cell_type": "code",
   "execution_count": 46,
   "metadata": {},
   "outputs": [
    {
     "data": {
      "text/html": [
       "<ol class=list-inline>\n",
       "\t<li>'ALLRIGHTYabama'</li>\n",
       "\t<li>'ALLRIGHTYaska'</li>\n",
       "\t<li>'Arizona'</li>\n",
       "\t<li>'Arkansas'</li>\n",
       "\t<li>'California'</li>\n",
       "</ol>\n"
      ],
      "text/latex": [
       "\\begin{enumerate*}\n",
       "\\item 'ALLRIGHTYabama'\n",
       "\\item 'ALLRIGHTYaska'\n",
       "\\item 'Arizona'\n",
       "\\item 'Arkansas'\n",
       "\\item 'California'\n",
       "\\end{enumerate*}\n"
      ],
      "text/markdown": [
       "1. 'ALLRIGHTYabama'\n",
       "2. 'ALLRIGHTYaska'\n",
       "3. 'Arizona'\n",
       "4. 'Arkansas'\n",
       "5. 'California'\n",
       "\n",
       "\n"
      ],
      "text/plain": [
       "[1] \"ALLRIGHTYabama\" \"ALLRIGHTYaska\"  \"Arizona\"        \"Arkansas\"      \n",
       "[5] \"California\"    "
      ]
     },
     "metadata": {},
     "output_type": "display_data"
    },
    {
     "data": {
      "text/html": [
       "<table>\n",
       "<thead><tr><th scope=col>Basal</th><th scope=col>LP</th><th scope=col>ML</th><th scope=col>laneL006</th><th scope=col>laneL008</th></tr></thead>\n",
       "<tbody>\n",
       "\t<tr><td>0</td><td>1</td><td>0</td><td>0</td><td>0</td></tr>\n",
       "\t<tr><td>0</td><td>0</td><td>1</td><td>0</td><td>0</td></tr>\n",
       "\t<tr><td>1</td><td>0</td><td>0</td><td>0</td><td>0</td></tr>\n",
       "\t<tr><td>1</td><td>0</td><td>0</td><td>1</td><td>0</td></tr>\n",
       "\t<tr><td>0</td><td>0</td><td>1</td><td>1</td><td>0</td></tr>\n",
       "\t<tr><td>0</td><td>1</td><td>0</td><td>1</td><td>0</td></tr>\n",
       "\t<tr><td>1</td><td>0</td><td>0</td><td>1</td><td>0</td></tr>\n",
       "\t<tr><td>0</td><td>0</td><td>1</td><td>0</td><td>1</td></tr>\n",
       "\t<tr><td>0</td><td>1</td><td>0</td><td>0</td><td>1</td></tr>\n",
       "</tbody>\n",
       "</table>\n"
      ],
      "text/latex": [
       "\\begin{tabular}{r|lllll}\n",
       " Basal & LP & ML & laneL006 & laneL008\\\\\n",
       "\\hline\n",
       "\t 0 & 1 & 0 & 0 & 0\\\\\n",
       "\t 0 & 0 & 1 & 0 & 0\\\\\n",
       "\t 1 & 0 & 0 & 0 & 0\\\\\n",
       "\t 1 & 0 & 0 & 1 & 0\\\\\n",
       "\t 0 & 0 & 1 & 1 & 0\\\\\n",
       "\t 0 & 1 & 0 & 1 & 0\\\\\n",
       "\t 1 & 0 & 0 & 1 & 0\\\\\n",
       "\t 0 & 0 & 1 & 0 & 1\\\\\n",
       "\t 0 & 1 & 0 & 0 & 1\\\\\n",
       "\\end{tabular}\n"
      ],
      "text/markdown": [
       "\n",
       "| Basal | LP | ML | laneL006 | laneL008 |\n",
       "|---|---|---|---|---|\n",
       "| 0 | 1 | 0 | 0 | 0 |\n",
       "| 0 | 0 | 1 | 0 | 0 |\n",
       "| 1 | 0 | 0 | 0 | 0 |\n",
       "| 1 | 0 | 0 | 1 | 0 |\n",
       "| 0 | 0 | 1 | 1 | 0 |\n",
       "| 0 | 1 | 0 | 1 | 0 |\n",
       "| 1 | 0 | 0 | 1 | 0 |\n",
       "| 0 | 0 | 1 | 0 | 1 |\n",
       "| 0 | 1 | 0 | 0 | 1 |\n",
       "\n"
      ],
      "text/plain": [
       "  Basal LP ML laneL006 laneL008\n",
       "1 0     1  0  0        0       \n",
       "2 0     0  1  0        0       \n",
       "3 1     0  0  0        0       \n",
       "4 1     0  0  1        0       \n",
       "5 0     0  1  1        0       \n",
       "6 0     1  0  1        0       \n",
       "7 1     0  0  1        0       \n",
       "8 0     0  1  0        1       \n",
       "9 0     1  0  0        1       "
      ]
     },
     "metadata": {},
     "output_type": "display_data"
    }
   ],
   "source": [
    "# The model.matrix () function makes names for the categories but we would like to replace them with simpler names.\n",
    "# The function gsub () looks for a pattern of characters and replaces it with a different set of characters.\n",
    "# Here we replace \"group\" with nothing (\"\")\n",
    "\n",
    "#sample gsub()\n",
    "st=state.name[1:5]\n",
    "gsub(\"Al\",\"ALLRIGHTY\",st)\n",
    "rm(st)\n",
    "\n",
    "colnames(design) <- gsub(\"group\", \"\", colnames(design))\n",
    "design"
   ]
  },
  {
   "cell_type": "code",
   "execution_count": 47,
   "metadata": {},
   "outputs": [
    {
     "data": {
      "text/html": [
       "<table>\n",
       "<thead><tr><th></th><th scope=col>BasalvsLP</th><th scope=col>BasalvsML</th><th scope=col>LPvsML</th></tr></thead>\n",
       "<tbody>\n",
       "\t<tr><th scope=row>Basal</th><td> 1</td><td> 1</td><td> 0</td></tr>\n",
       "\t<tr><th scope=row>LP</th><td>-1</td><td> 0</td><td> 1</td></tr>\n",
       "\t<tr><th scope=row>ML</th><td> 0</td><td>-1</td><td>-1</td></tr>\n",
       "\t<tr><th scope=row>laneL006</th><td> 0</td><td> 0</td><td> 0</td></tr>\n",
       "\t<tr><th scope=row>laneL008</th><td> 0</td><td> 0</td><td> 0</td></tr>\n",
       "</tbody>\n",
       "</table>\n"
      ],
      "text/latex": [
       "\\begin{tabular}{r|lll}\n",
       "  & BasalvsLP & BasalvsML & LPvsML\\\\\n",
       "\\hline\n",
       "\tBasal &  1 &  1 &  0\\\\\n",
       "\tLP & -1 &  0 &  1\\\\\n",
       "\tML &  0 & -1 & -1\\\\\n",
       "\tlaneL006 &  0 &  0 &  0\\\\\n",
       "\tlaneL008 &  0 &  0 &  0\\\\\n",
       "\\end{tabular}\n"
      ],
      "text/markdown": [
       "\n",
       "| <!--/--> | BasalvsLP | BasalvsML | LPvsML |\n",
       "|---|---|---|---|\n",
       "| Basal |  1 |  1 |  0 |\n",
       "| LP | -1 |  0 |  1 |\n",
       "| ML |  0 | -1 | -1 |\n",
       "| laneL006 |  0 |  0 |  0 |\n",
       "| laneL008 |  0 |  0 |  0 |\n",
       "\n"
      ],
      "text/plain": [
       "          Contrasts\n",
       "Levels     BasalvsLP BasalvsML LPvsML\n",
       "  Basal     1         1         0    \n",
       "  LP       -1         0         1    \n",
       "  ML        0        -1        -1    \n",
       "  laneL006  0         0         0    \n",
       "  laneL008  0         0         0    "
      ]
     },
     "metadata": {},
     "output_type": "display_data"
    }
   ],
   "source": [
    "# Now we make a matrix that defines all of the comparisons we want to make.\n",
    "# THis matrix depends on there being a design matrix.\n",
    "\n",
    "contr.matrix <- makeContrasts(\n",
    "  BasalvsLP = Basal-LP,              #the left half is a description, the right has the two categories to compare\n",
    "  BasalvsML = Basal - ML,            #As always, extra spaces don't matter but do make it easier to read\n",
    "  LPvsML = LP - ML, \n",
    "  levels = colnames(design))\n",
    "contr.matrix"
   ]
  },
  {
   "cell_type": "code",
   "execution_count": 48,
   "metadata": {},
   "outputs": [],
   "source": [
    "## ----Heteroscedacity- variance is dependent on the amplitude\n",
    "# We want to find significant expression changes, but if the 'noise' varies with expression we will get higher\n",
    "# p-values the higher the gene is expressed. We will log transform the data, but that overcorrects and now\n",
    "# genes with lower expression have higher variation (see the first plot we make). The voom () command generates\n",
    "# weights for each gene based on the average read counts for that gene and puts them into the DGEList object.  \n",
    "# We will make a plot of before and after those weights are applied."
   ]
  },
  {
   "cell_type": "code",
   "execution_count": 54,
   "metadata": {},
   "outputs": [
    {
     "data": {
      "image/png": "[encoded data removed]",
      "text/plain": [
       "Plot with title \"Final model: Mean-variance trend\""
      ]
     },
     "metadata": {},
     "output_type": "display_data"
    }
   ],
   "source": [
    "par(mfrow=c(1,2))                       # Set up side by side plots\n",
    "v <- voom(x, design, plot=TRUE)         # Make an EList- a DGEList with weights to remove heteroscedacity and include the design matrix. \n",
    "vfit <- lmFit(v, design)                # This is what all of this has been building up to- estimate fold changes and standard errors by fitting to a linear model.\n",
    "vfit <- contrasts.fit(vfit, contrasts=contr.matrix)  # Then we make all the pairwise comparisons we put in our contrast matrix\n",
    "efit <- eBayes(vfit)                    # And finally we use Emperical Bayes to borrow information from other genes to refine the standard error\n",
    "plotSA(efit, main=\"Final model: Mean-variance trend\") # Now we plot the final normalized "
   ]
  },
  {
   "cell_type": "code",
   "execution_count": 55,
   "metadata": {},
   "outputs": [
    {
     "data": {
      "text/plain": [
       "       BasalvsLP BasalvsML LPvsML\n",
       "Down        4127      4338   2895\n",
       "NotSig      5740      5655   8825\n",
       "Up          4298      4172   2445"
      ]
     },
     "metadata": {},
     "output_type": "display_data"
    }
   ],
   "source": [
    "# So how many genes are significantly induced or repressed?\n",
    "# The command decideTests() tells you if a gene is induced (1), repressed (-1)\n",
    "# or doesn't change (0) for each comparison. Default pvalue=0.5. pvalues are FDR corrected.\n",
    "summary(decideTests(efit))"
   ]
  },
  {
   "cell_type": "code",
   "execution_count": 56,
   "metadata": {},
   "outputs": [
    {
     "data": {
      "text/plain": [
       "       BasalvsLP BasalvsML LPvsML\n",
       "Down        1417      1512    203\n",
       "NotSig     11030     10895  13780\n",
       "Up          1718      1758    182"
      ]
     },
     "metadata": {},
     "output_type": "display_data"
    }
   ],
   "source": [
    "# The function treat() is the same as eBayes but includes a fold change requirement\n",
    "tfit <- treat(vfit, lfc=1)\n",
    "dt <- decideTests(tfit)\n",
    "summary(dt)"
   ]
  },
  {
   "cell_type": "code",
   "execution_count": 57,
   "metadata": {},
   "outputs": [
    {
     "data": {
      "image/png": "[encoded data removed]",
      "text/plain": [
       "plot without title"
      ]
     },
     "metadata": {},
     "output_type": "display_data"
    },
    {
     "data": {
      "image/png": "[encoded data removed]",
      "text/plain": [
       "plot without title"
      ]
     },
     "metadata": {},
     "output_type": "display_data"
    }
   ],
   "source": [
    "#Now let's make a Venn diagram to compare the DE gene sets\n",
    "vennDiagram(dt)\n",
    "vennDiagram(dt[,1:2], circle.col=c(\"turquoise\", \"salmon\"))"
   ]
  },
  {
   "cell_type": "code",
   "execution_count": 58,
   "metadata": {},
   "outputs": [
    {
     "data": {
      "text/html": [
       "<table>\n",
       "<thead><tr><th></th><th scope=col>ENTREZID</th><th scope=col>EVIDENCE</th><th scope=col>ONTOLOGY</th><th scope=col>SYMBOL</th><th scope=col>TXCHROM</th><th scope=col>GOID</th><th scope=col>logFC</th><th scope=col>AveExpr</th><th scope=col>t</th><th scope=col>P.Value</th><th scope=col>adj.P.Val</th></tr></thead>\n",
       "<tbody>\n",
       "\t<tr><th scope=row>12759</th><td> 12759      </td><td>ISO         </td><td>BP          </td><td>Clu         </td><td>chr14       </td><td>GO:0000902  </td><td>-5.442877   </td><td>8.857907    </td><td>-33.44429   </td><td>3.990899e-10</td><td>2.703871e-06</td></tr>\n",
       "\t<tr><th scope=row>53624</th><td> 53624      </td><td>IEA         </td><td>MF          </td><td>Cldn7       </td><td>chr11       </td><td>GO:0005198  </td><td>-5.514605   </td><td>6.296762    </td><td>-32.94533   </td><td>4.503694e-10</td><td>2.703871e-06</td></tr>\n",
       "\t<tr><th scope=row>242505</th><td>242505      </td><td>IEA         </td><td>MF          </td><td>Rasef       </td><td>chr4        </td><td>GO:0000166  </td><td>-5.921741   </td><td>5.119585    </td><td>-31.77625   </td><td>6.063249e-10</td><td>2.703871e-06</td></tr>\n",
       "\t<tr><th scope=row>67451</th><td> 67451      </td><td>ISO         </td><td>BP          </td><td>Pkp2        </td><td>chr16       </td><td>GO:0002159  </td><td>-5.724823   </td><td>4.420495    </td><td>-30.65370   </td><td>8.010456e-10</td><td>2.703871e-06</td></tr>\n",
       "\t<tr><th scope=row>228543</th><td>228543      </td><td>IEA         </td><td>MF          </td><td>Rhov        </td><td>chr2        </td><td>GO:0000166  </td><td>-6.253427   </td><td>5.486640    </td><td>-29.46244   </td><td>1.112729e-09</td><td>2.703871e-06</td></tr>\n",
       "\t<tr><th scope=row>70350</th><td> 70350      </td><td>ISS         </td><td>MF          </td><td>Basp1       </td><td>chr15       </td><td>GO:0003714  </td><td>-6.073297   </td><td>5.248349    </td><td>-28.64890   </td><td>1.380545e-09</td><td>2.703871e-06</td></tr>\n",
       "</tbody>\n",
       "</table>\n"
      ],
      "text/latex": [
       "\\begin{tabular}{r|lllllllllll}\n",
       "  & ENTREZID & EVIDENCE & ONTOLOGY & SYMBOL & TXCHROM & GOID & logFC & AveExpr & t & P.Value & adj.P.Val\\\\\n",
       "\\hline\n",
       "\t12759 &  12759       & ISO          & BP           & Clu          & chr14        & GO:0000902   & -5.442877    & 8.857907     & -33.44429    & 3.990899e-10 & 2.703871e-06\\\\\n",
       "\t53624 &  53624       & IEA          & MF           & Cldn7        & chr11        & GO:0005198   & -5.514605    & 6.296762     & -32.94533    & 4.503694e-10 & 2.703871e-06\\\\\n",
       "\t242505 & 242505       & IEA          & MF           & Rasef        & chr4         & GO:0000166   & -5.921741    & 5.119585     & -31.77625    & 6.063249e-10 & 2.703871e-06\\\\\n",
       "\t67451 &  67451       & ISO          & BP           & Pkp2         & chr16        & GO:0002159   & -5.724823    & 4.420495     & -30.65370    & 8.010456e-10 & 2.703871e-06\\\\\n",
       "\t228543 & 228543       & IEA          & MF           & Rhov         & chr2         & GO:0000166   & -6.253427    & 5.486640     & -29.46244    & 1.112729e-09 & 2.703871e-06\\\\\n",
       "\t70350 &  70350       & ISS          & MF           & Basp1        & chr15        & GO:0003714   & -6.073297    & 5.248349     & -28.64890    & 1.380545e-09 & 2.703871e-06\\\\\n",
       "\\end{tabular}\n"
      ],
      "text/markdown": [
       "\n",
       "| <!--/--> | ENTREZID | EVIDENCE | ONTOLOGY | SYMBOL | TXCHROM | GOID | logFC | AveExpr | t | P.Value | adj.P.Val |\n",
       "|---|---|---|---|---|---|---|---|---|---|---|---|\n",
       "| 12759 |  12759       | ISO          | BP           | Clu          | chr14        | GO:0000902   | -5.442877    | 8.857907     | -33.44429    | 3.990899e-10 | 2.703871e-06 |\n",
       "| 53624 |  53624       | IEA          | MF           | Cldn7        | chr11        | GO:0005198   | -5.514605    | 6.296762     | -32.94533    | 4.503694e-10 | 2.703871e-06 |\n",
       "| 242505 | 242505       | IEA          | MF           | Rasef        | chr4         | GO:0000166   | -5.921741    | 5.119585     | -31.77625    | 6.063249e-10 | 2.703871e-06 |\n",
       "| 67451 |  67451       | ISO          | BP           | Pkp2         | chr16        | GO:0002159   | -5.724823    | 4.420495     | -30.65370    | 8.010456e-10 | 2.703871e-06 |\n",
       "| 228543 | 228543       | IEA          | MF           | Rhov         | chr2         | GO:0000166   | -6.253427    | 5.486640     | -29.46244    | 1.112729e-09 | 2.703871e-06 |\n",
       "| 70350 |  70350       | ISS          | MF           | Basp1        | chr15        | GO:0003714   | -6.073297    | 5.248349     | -28.64890    | 1.380545e-09 | 2.703871e-06 |\n",
       "\n"
      ],
      "text/plain": [
       "       ENTREZID EVIDENCE ONTOLOGY SYMBOL TXCHROM GOID       logFC     AveExpr \n",
       "12759   12759   ISO      BP       Clu    chr14   GO:0000902 -5.442877 8.857907\n",
       "53624   53624   IEA      MF       Cldn7  chr11   GO:0005198 -5.514605 6.296762\n",
       "242505 242505   IEA      MF       Rasef  chr4    GO:0000166 -5.921741 5.119585\n",
       "67451   67451   ISO      BP       Pkp2   chr16   GO:0002159 -5.724823 4.420495\n",
       "228543 228543   IEA      MF       Rhov   chr2    GO:0000166 -6.253427 5.486640\n",
       "70350   70350   ISS      MF       Basp1  chr15   GO:0003714 -6.073297 5.248349\n",
       "       t         P.Value      adj.P.Val   \n",
       "12759  -33.44429 3.990899e-10 2.703871e-06\n",
       "53624  -32.94533 4.503694e-10 2.703871e-06\n",
       "242505 -31.77625 6.063249e-10 2.703871e-06\n",
       "67451  -30.65370 8.010456e-10 2.703871e-06\n",
       "228543 -29.46244 1.112729e-09 2.703871e-06\n",
       "70350  -28.64890 1.380545e-09 2.703871e-06"
      ]
     },
     "metadata": {},
     "output_type": "display_data"
    },
    {
     "data": {
      "text/html": [
       "<table>\n",
       "<thead><tr><th></th><th scope=col>ENTREZID</th><th scope=col>EVIDENCE</th><th scope=col>ONTOLOGY</th><th scope=col>SYMBOL</th><th scope=col>TXCHROM</th><th scope=col>GOID</th><th scope=col>logFC</th><th scope=col>AveExpr</th><th scope=col>t</th><th scope=col>P.Value</th><th scope=col>adj.P.Val</th></tr></thead>\n",
       "<tbody>\n",
       "\t<tr><th scope=row>242505</th><td>242505      </td><td>IEA         </td><td>MF          </td><td>Rasef       </td><td>chr4        </td><td>GO:0000166  </td><td>-6.510470   </td><td>5.119585    </td><td>-35.49093   </td><td>2.573575e-10</td><td>1.915485e-06</td></tr>\n",
       "\t<tr><th scope=row>53624</th><td> 53624      </td><td>IEA         </td><td>MF          </td><td>Cldn7       </td><td>chr11       </td><td>GO:0005198  </td><td>-5.469160   </td><td>6.296762    </td><td>-32.52520   </td><td>4.978446e-10</td><td>1.915485e-06</td></tr>\n",
       "\t<tr><th scope=row>12521</th><td> 12521      </td><td>IBA         </td><td>CC          </td><td>Cd82        </td><td>chr2        </td><td>GO:0005887  </td><td>-4.667737   </td><td>7.070963    </td><td>-31.82187   </td><td>5.796191e-10</td><td>1.915485e-06</td></tr>\n",
       "\t<tr><th scope=row>71740</th><td> 71740      </td><td>IBA         </td><td>MF          </td><td>Nectin4     </td><td>chr1        </td><td>GO:0004872  </td><td>-5.556046   </td><td>5.166292    </td><td>-31.29987   </td><td>6.760578e-10</td><td>1.915485e-06</td></tr>\n",
       "\t<tr><th scope=row>20661</th><td> 20661      </td><td>IEA         </td><td>BP          </td><td>Sort1       </td><td>chr3        </td><td>GO:0001503  </td><td>-4.908119   </td><td>6.705784    </td><td>-31.23083   </td><td>6.761331e-10</td><td>1.915485e-06</td></tr>\n",
       "\t<tr><th scope=row>15375</th><td> 15375      </td><td>IMP         </td><td>BP          </td><td>Foxa1       </td><td>chr12       </td><td>GO:0000122  </td><td>-5.753884   </td><td>5.625064    </td><td>-28.34612   </td><td>1.487280e-09</td><td>2.281914e-06</td></tr>\n",
       "</tbody>\n",
       "</table>\n"
      ],
      "text/latex": [
       "\\begin{tabular}{r|lllllllllll}\n",
       "  & ENTREZID & EVIDENCE & ONTOLOGY & SYMBOL & TXCHROM & GOID & logFC & AveExpr & t & P.Value & adj.P.Val\\\\\n",
       "\\hline\n",
       "\t242505 & 242505       & IEA          & MF           & Rasef        & chr4         & GO:0000166   & -6.510470    & 5.119585     & -35.49093    & 2.573575e-10 & 1.915485e-06\\\\\n",
       "\t53624 &  53624       & IEA          & MF           & Cldn7        & chr11        & GO:0005198   & -5.469160    & 6.296762     & -32.52520    & 4.978446e-10 & 1.915485e-06\\\\\n",
       "\t12521 &  12521       & IBA          & CC           & Cd82         & chr2         & GO:0005887   & -4.667737    & 7.070963     & -31.82187    & 5.796191e-10 & 1.915485e-06\\\\\n",
       "\t71740 &  71740       & IBA          & MF           & Nectin4      & chr1         & GO:0004872   & -5.556046    & 5.166292     & -31.29987    & 6.760578e-10 & 1.915485e-06\\\\\n",
       "\t20661 &  20661       & IEA          & BP           & Sort1        & chr3         & GO:0001503   & -4.908119    & 6.705784     & -31.23083    & 6.761331e-10 & 1.915485e-06\\\\\n",
       "\t15375 &  15375       & IMP          & BP           & Foxa1        & chr12        & GO:0000122   & -5.753884    & 5.625064     & -28.34612    & 1.487280e-09 & 2.281914e-06\\\\\n",
       "\\end{tabular}\n"
      ],
      "text/markdown": [
       "\n",
       "| <!--/--> | ENTREZID | EVIDENCE | ONTOLOGY | SYMBOL | TXCHROM | GOID | logFC | AveExpr | t | P.Value | adj.P.Val |\n",
       "|---|---|---|---|---|---|---|---|---|---|---|---|\n",
       "| 242505 | 242505       | IEA          | MF           | Rasef        | chr4         | GO:0000166   | -6.510470    | 5.119585     | -35.49093    | 2.573575e-10 | 1.915485e-06 |\n",
       "| 53624 |  53624       | IEA          | MF           | Cldn7        | chr11        | GO:0005198   | -5.469160    | 6.296762     | -32.52520    | 4.978446e-10 | 1.915485e-06 |\n",
       "| 12521 |  12521       | IBA          | CC           | Cd82         | chr2         | GO:0005887   | -4.667737    | 7.070963     | -31.82187    | 5.796191e-10 | 1.915485e-06 |\n",
       "| 71740 |  71740       | IBA          | MF           | Nectin4      | chr1         | GO:0004872   | -5.556046    | 5.166292     | -31.29987    | 6.760578e-10 | 1.915485e-06 |\n",
       "| 20661 |  20661       | IEA          | BP           | Sort1        | chr3         | GO:0001503   | -4.908119    | 6.705784     | -31.23083    | 6.761331e-10 | 1.915485e-06 |\n",
       "| 15375 |  15375       | IMP          | BP           | Foxa1        | chr12        | GO:0000122   | -5.753884    | 5.625064     | -28.34612    | 1.487280e-09 | 2.281914e-06 |\n",
       "\n"
      ],
      "text/plain": [
       "       ENTREZID EVIDENCE ONTOLOGY SYMBOL  TXCHROM GOID       logFC     AveExpr \n",
       "242505 242505   IEA      MF       Rasef   chr4    GO:0000166 -6.510470 5.119585\n",
       "53624   53624   IEA      MF       Cldn7   chr11   GO:0005198 -5.469160 6.296762\n",
       "12521   12521   IBA      CC       Cd82    chr2    GO:0005887 -4.667737 7.070963\n",
       "71740   71740   IBA      MF       Nectin4 chr1    GO:0004872 -5.556046 5.166292\n",
       "20661   20661   IEA      BP       Sort1   chr3    GO:0001503 -4.908119 6.705784\n",
       "15375   15375   IMP      BP       Foxa1   chr12   GO:0000122 -5.753884 5.625064\n",
       "       t         P.Value      adj.P.Val   \n",
       "242505 -35.49093 2.573575e-10 1.915485e-06\n",
       "53624  -32.52520 4.978446e-10 1.915485e-06\n",
       "12521  -31.82187 5.796191e-10 1.915485e-06\n",
       "71740  -31.29987 6.760578e-10 1.915485e-06\n",
       "20661  -31.23083 6.761331e-10 1.915485e-06\n",
       "15375  -28.34612 1.487280e-09 2.281914e-06"
      ]
     },
     "metadata": {},
     "output_type": "display_data"
    }
   ],
   "source": [
    "# You can also export the results to a table...\n",
    "basal.vs.lp <- topTreat(tfit, coef=1, n=Inf)\n",
    "head(basal.vs.lp)\n",
    "basal.vs.ml <- topTreat(tfit, coef=2, n=Inf, lfc=1, p.value=0.05)\n",
    "head(basal.vs.ml)"
   ]
  },
  {
   "cell_type": "code",
   "execution_count": 59,
   "metadata": {},
   "outputs": [],
   "source": [
    "write.table (basal.vs.lp, file=\"basalVSlp.txt\", sep = \"\\t\", row.names = FALSE)"
   ]
  },
  {
   "cell_type": "code",
   "execution_count": 60,
   "metadata": {},
   "outputs": [
    {
     "data": {
      "image/png": "[encoded data removed]",
      "text/plain": [
       "Plot with title \"Color Key\""
      ]
     },
     "metadata": {},
     "output_type": "display_data"
    }
   ],
   "source": [
    "#Finally, we will take the top hits and generate a heatmap as a final output\n",
    "library(gplots)\n",
    "basal.vs.lp <- topTreat(tfit, coef=1, n=Inf)\n",
    "basal.vs.lp.topgenes <- basal.vs.lp$ENTREZID[1:100]\n",
    "i <- which(v$genes$ENTREZID %in% basal.vs.lp.topgenes)\n",
    "mycol <- colorpanel(1000,\"blue\",\"white\",\"red\")\n",
    "heatmap.2(v$E[i,], scale=\"row\",\n",
    "          labRow=v$genes$SYMBOL[i], labCol=group, \n",
    "          col=mycol, trace=\"none\", density.info=\"none\", \n",
    "          margin=c(8,6), lhei=c(2,10), dendrogram=\"column\")"
   ]
  }
 ],
 "metadata": {
  "kernelspec": {
   "display_name": "R",
   "language": "R",
   "name": "ir"
  },
  "language_info": {
   "codemirror_mode": "r",
   "file_extension": ".r",
   "mimetype": "text/x-r-source",
   "name": "R",
   "pygments_lexer": "r",
   "version": "3.5.1"
  }
 },
 "nbformat": 4,
 "nbformat_minor": 2
}

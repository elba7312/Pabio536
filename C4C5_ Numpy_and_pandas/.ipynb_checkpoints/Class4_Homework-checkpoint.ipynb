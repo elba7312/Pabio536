{
 "cells": [
  {
   "cell_type": "markdown",
   "metadata": {},
   "source": [
    "### Homework for Class 4\n",
    "\n",
    "For this homework you will complete and submit this ipynb file to Canvas. \n",
    "\n",
    "You find a Numpy array file with data from an experiment looking at growth of various strains in the presence of several drugs done by a prior postdoc. Your advisor wants you to pull out data for one of the strains in response to three drugs. \n",
    "\n",
    "You need to first:\n",
    "\n",
    "1. Import NumPy\n",
    "2. Import the data file 'HW4data.npy with np.load()\n",
    "3. Find the size and shape of the array\n",
    " - You know from the postdoc's notes that the rows are different strains, the columns are different drugs, and the sheets are the replicates\n",
    " - How many strains, drugs, and replicates were there?\n",
    "4. You want all replicates of the fourth strain with the last three drugs. Pull that data into a separate ndarray and print that table.\n",
    "5. Explain what the purpose is of the final cell"
   ]
  },
  {
   "cell_type": "code",
   "execution_count": null,
   "metadata": {},
   "outputs": [],
   "source": [
    "# Import the NumPy library\n",
    "None"
   ]
  },
  {
   "cell_type": "code",
   "execution_count": null,
   "metadata": {},
   "outputs": [],
   "source": [
    "# Import \"HW4data\" with Numpy load\n",
    "HW4data = None\n",
    "# Print the size and shape\n",
    "print(None)\n",
    "print(None)\n",
    "sheets, rows, cols = None"
   ]
  },
  {
   "cell_type": "code",
   "execution_count": null,
   "metadata": {},
   "outputs": [],
   "source": [
    "print(\"There are\",None,\"replicates,\", None, \"drugs, and\", None, \"strains.\")"
   ]
  },
  {
   "cell_type": "code",
   "execution_count": null,
   "metadata": {},
   "outputs": [],
   "source": [
    "subset = None\n",
    "subset"
   ]
  },
  {
   "cell_type": "code",
   "execution_count": null,
   "metadata": {},
   "outputs": [],
   "source": [
    "#Explain what this cell is doing\n",
    "\n",
    "for column in subset.T:\n",
    "    print(sum (column)/len(column))"
   ]
  }
 ],
 "metadata": {
  "kernelspec": {
   "display_name": "Python 3",
   "language": "python",
   "name": "python3"
  },
  "language_info": {
   "codemirror_mode": {
    "name": "ipython",
    "version": 3
   },
   "file_extension": ".py",
   "mimetype": "text/x-python",
   "name": "python",
   "nbconvert_exporter": "python",
   "pygments_lexer": "ipython3",
   "version": "3.6.8"
  }
 },
 "nbformat": 4,
 "nbformat_minor": 2
}

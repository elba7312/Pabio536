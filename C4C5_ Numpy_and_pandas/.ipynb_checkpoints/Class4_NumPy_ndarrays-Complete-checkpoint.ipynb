{
 "cells": [
  {
   "cell_type": "code",
   "execution_count": null,
   "metadata": {},
   "outputs": [],
   "source": [
    "# Makes it so any variable or statement on it's own line gets printed w/o print()\n",
    "from IPython.core.interactiveshell import InteractiveShell\n",
    "InteractiveShell.ast_node_interactivity = \"all\""
   ]
  },
  {
   "cell_type": "markdown",
   "metadata": {},
   "source": [
    "# Using `numpy` and `pandas` to hold and manipulate data"
   ]
  },
  {
   "cell_type": "markdown",
   "metadata": {},
   "source": [
    "\n",
    "Two of the most useful libraries for working with scientific data are `numpy` and `pandas`. \n",
    "\n",
    "`Numpy` is a library of math functions that provides:\n",
    "  1. An array object of arbitrary homogeneous items\n",
    "  2. Fast mathematical operations over arrays\n",
    "  3. Linear Algebra, Fourier Transforms, Random Number Generation\n",
    "\n",
    "That first point is where we'll start. `Numpy` introduces a new object for holding groups of variables: n-dimensional arrays of data. Within `numpy` they're referred to as ndarrays, as will I in the rest of this class. \n",
    "\n",
    "After we introduce you to ndarrays we will switch to `pandas`, which is a wrapper for ndarrays that makes them much easier to use. Then we'll come back to `numpy` and show you some of the functions from `numpy` and `scipy`, which adds more complex mathematical and statistical functions to python. "
   ]
  },
  {
   "cell_type": "markdown",
   "metadata": {},
   "source": [
    "### Adding libraries to python\n",
    "\n",
    "First we need to import the libraries we want to use. This is the same process you used for the last homework to add a function to python, but libraries can add hundreds of new functions.\n",
    "\n",
    "When we import these libraries we can assign them an alias, which is easier to remember and type. The ones used below are common for these packages. "
   ]
  },
  {
   "cell_type": "code",
   "execution_count": null,
   "metadata": {},
   "outputs": [],
   "source": [
    "import numpy as np\n",
    "import pandas as pd"
   ]
  },
  {
   "cell_type": "code",
   "execution_count": null,
   "metadata": {},
   "outputs": [],
   "source": [
    "# Let's take a look at the description of `numpy`.\n",
    "# Remember, almost every function and library has a small help file\n",
    "\n",
    "#np?"
   ]
  },
  {
   "cell_type": "code",
   "execution_count": null,
   "metadata": {},
   "outputs": [],
   "source": [
    "# Try hitting tab after the period to see all available `numpy` functions and subfunctions\n",
    "#np."
   ]
  },
  {
   "cell_type": "markdown",
   "metadata": {},
   "source": [
    "Note: `numpy` has several sub-libraries that group together functions by category, like np.random for getting random numbers, np.linalg for doing linear algebra, etc. We will mostly use np.random. "
   ]
  },
  {
   "cell_type": "markdown",
   "metadata": {},
   "source": [
    "### NumPy arrays: a new thing to hold other things\n",
    "\n",
    "NumPy arrays (ndarrays) are essentially lists with two important restrictions:\n",
    "\n",
    " - An array can only hold **one** type of data\n",
    " - Arrays are somewhat unmutable: \n",
    "     - you **can** change the contents of an ndarray \n",
    "     - but you **can't** change the size or the data type of the array \n",
    " \n",
    "Why would we want a list with extra restrictions? Speed, both in terms of time to compute and time to program. \n",
    "\n",
    "The computer only needs to check the type of data once for the array, not once for each variable. This adds up when you have huge arrays like the results of an 'omics' experiment. \n",
    "\n",
    "Being forced to organize your data makes it simpler to search, manipulate, and subset your data. "
   ]
  },
  {
   "cell_type": "markdown",
   "metadata": {},
   "source": [
    "### Making a new ndarray\n",
    "There are a number of ways to make ndarrays. You can import data from text files, convert a list to an ndarray, or with one of the `numpy` functions that builds basic ndarray types useful for data analysis.\n",
    "\n",
    "Let's use a function from `numpy` for making arrays containing a series of numbers: `np.arange()`."
   ]
  },
  {
   "cell_type": "code",
   "execution_count": null,
   "metadata": {},
   "outputs": [],
   "source": [
    "# The `numpy` function arange(start, stop, step) gives you an array of values\n",
    "# between the start and stop (not including the stop) incremented by step\n",
    "# The default step is 1\n",
    "a = np.arange(0,10)\n",
    "\n",
    "a\n",
    "type(a)"
   ]
  },
  {
   "cell_type": "markdown",
   "metadata": {},
   "source": [
    "Arrays like these can be useful for describing experimental variables like sampling timepoints, threshhold values or bins, or any other linear series. \n",
    "\n",
    "Note that many of the functions we introduced previously work with this new data type. Try using `len()` to see how long the `a` array is."
   ]
  },
  {
   "cell_type": "code",
   "execution_count": null,
   "metadata": {},
   "outputs": [],
   "source": [
    "# Check the size of an array\n",
    "# with len(), like we did with lists\n",
    "len(a)"
   ]
  },
  {
   "cell_type": "markdown",
   "metadata": {},
   "source": [
    "An ndarray is an object, which is a collection of things, methods that act on those things, and attributes. \n",
    "\n",
    "You can access The help document for ndarrays with `ndarray?` to show the top level description of `a`. You can access all of the methods and attributes of `a` by entering a `.` after the ndarray and hitting tab. "
   ]
  },
  {
   "cell_type": "code",
   "execution_count": null,
   "metadata": {},
   "outputs": [],
   "source": [
    "# The top level help file for an ndarray\n",
    "#a?"
   ]
  },
  {
   "cell_type": "code",
   "execution_count": null,
   "metadata": {},
   "outputs": [],
   "source": [
    "# Check out the methods of an ndarray\n",
    "#a."
   ]
  },
  {
   "cell_type": "markdown",
   "metadata": {},
   "source": [
    "`numpy` arrays store variables _about_ the array as attributes. Let's look at a few of `a`'s attributes:\n",
    "\n",
    "- size : the total number of things contained by the array\n",
    "- ndim : arrays can have any number of dimensions\n",
    "- shape : the size of each dimension"
   ]
  },
  {
   "cell_type": "code",
   "execution_count": null,
   "metadata": {},
   "outputs": [],
   "source": [
    "a.size\n",
    "a.ndim\n",
    "a.shape # we'll come back to this when we make arrays with more dimensions\n",
    "\n",
    "# Note that these aren't methods, so you don't use parentheses"
   ]
  },
  {
   "cell_type": "markdown",
   "metadata": {},
   "source": [
    "### Math operations on arrays\n",
    "Math operators ($+, -, *, /$) work on arrays by acting on each element or variable in the array. "
   ]
  },
  {
   "cell_type": "code",
   "execution_count": null,
   "metadata": {},
   "outputs": [],
   "source": [
    "# Try multiplying all of `a`'s values by 3 and adding 3 to each value\n",
    "a*3\n",
    "a+3"
   ]
  },
  {
   "cell_type": "markdown",
   "metadata": {},
   "source": [
    "Let's make another array, we'll call it `b`, the same shape as `a` that contains values from 0 to 1, stepping by 0.1. Then take that array and try using various mathematical operators on both arrays."
   ]
  },
  {
   "cell_type": "code",
   "execution_count": null,
   "metadata": {},
   "outputs": [],
   "source": [
    "# Use np.arange to make b\n",
    "b = np.arange(0,1,0.1)\n",
    "a\n",
    "b"
   ]
  },
  {
   "cell_type": "code",
   "execution_count": null,
   "metadata": {},
   "outputs": [],
   "source": [
    "b+a\n",
    "b*a\n",
    "b**a"
   ]
  },
  {
   "cell_type": "code",
   "execution_count": null,
   "metadata": {
    "scrolled": true
   },
   "outputs": [],
   "source": [
    "# Notice operators work with differently with arrays and lists\n",
    "# You can convert an array to a list using the method ndarray.tolist()\n",
    "# Convert a to a_list and then multiply both by three\n",
    "\n",
    "a_list = a.tolist()\n",
    "a\n",
    "a_list\n",
    "a*3\n",
    "a_list*3"
   ]
  },
  {
   "cell_type": "code",
   "execution_count": null,
   "metadata": {},
   "outputs": [],
   "source": [
    "# You can also use boolean operators on arrays\n",
    "# That gives us an array of True and False values\n",
    "a >= 8 # Which values are greater than or equal to 8\n",
    "a == 99 # Which values are equal to 99"
   ]
  },
  {
   "cell_type": "markdown",
   "metadata": {},
   "source": [
    "### Adding and reshaping dimensions\n",
    "\n",
    "So far all of the arrays we've worked with have been one dimensional. NumPy arrays can be any number of dimensions. What does that mean? It just means we are keeping track of that many different variables for each sample.  \n",
    "\n",
    "We can plot the expression of one gene on a line, two genes on a grid, three genes in 3D, maybe show data for another few genes by mapping that to the size and color of the marker, but beyond a few dimensions it's difficult to imagine higher dimensional data. \n",
    "\n",
    "M. tuberculosis has ~4,000 genes. If we do an RNAseq experiment with three samples and measure the expression of each gene for each sample, we are generating 4,000 dimensional data.\n",
    "\n",
    "Let's make a multi dimensional NumPy array where each dimension has a length of 2. "
   ]
  },
  {
   "cell_type": "code",
   "execution_count": null,
   "metadata": {},
   "outputs": [],
   "source": [
    "# Easy start. Make a 1D ndarray that contains 1 and 2\n",
    "nda = np.array([1,2])\n",
    "nda"
   ]
  },
  {
   "cell_type": "code",
   "execution_count": null,
   "metadata": {},
   "outputs": [],
   "source": [
    "# Now let's make a 2D array, extending the series to 4\n",
    "nda = np.array([[1, 2], [3, 4]])\n",
    "nda"
   ]
  },
  {
   "cell_type": "code",
   "execution_count": null,
   "metadata": {},
   "outputs": [],
   "source": [
    "# Make a second 2D array by adding four to nda\n",
    "nda2 = nda + 4\n",
    "nda2"
   ]
  },
  {
   "cell_type": "code",
   "execution_count": null,
   "metadata": {
    "scrolled": true
   },
   "outputs": [],
   "source": [
    "# Now make a 3D array by combining nda and nda2\n",
    "nda3 = np.array([nda, nda2])\n",
    "nda3"
   ]
  },
  {
   "cell_type": "code",
   "execution_count": null,
   "metadata": {},
   "outputs": [],
   "source": [
    "#Check the size and shape of nda3\n",
    "nda3.size\n",
    "nda3.shape"
   ]
  },
  {
   "cell_type": "code",
   "execution_count": null,
   "metadata": {},
   "outputs": [],
   "source": [
    "# You can reshape an ndarray into any shape that can contain all of the elements\n",
    "nda3.reshape([1, 8])\n",
    "nda3.reshape([2, 4])\n",
    "nda3.reshape([2, 2, 2])"
   ]
  },
  {
   "cell_type": "markdown",
   "metadata": {},
   "source": [
    "Let's continue adding length two dimensions. Past 2D it gets tedious to make these arrays by hand. That is a sure sign that we should use code to do this repetitive task.\n",
    "\n",
    "***\n",
    "### <font color=brown>Hands on practice</font>\n",
    "\n",
    "Lets write a function `square_seq_nda` that takes as input a number of dimensions and a value for the length of every dimension. \n",
    "\n",
    "We can make that sequence with another `numpy` function, `np.linspace`. This function returns evenly spaced numbers over a specified interval. That means that we don't have to worry about zero indexing or adding one the the stop value, like we did with `arange`."
   ]
  },
  {
   "cell_type": "code",
   "execution_count": null,
   "metadata": {},
   "outputs": [],
   "source": [
    "# Here's an example of using np.linspace to count from 1 to 10\n",
    "# The 'num=' sets the number of equally spaced variables desired\n",
    "np.linspace(1, 10, num = 10, dtype='int')"
   ]
  },
  {
   "cell_type": "code",
   "execution_count": null,
   "metadata": {},
   "outputs": [],
   "source": [
    "# Hint: you can create the tuple (2, 2, 2) with \n",
    "([2]*3)"
   ]
  },
  {
   "cell_type": "code",
   "execution_count": null,
   "metadata": {},
   "outputs": [],
   "source": [
    "def square_seq_nda (dims, length):\n",
    "    '''\n",
    "    Function takes the number of dimensions and the size of each dimension\n",
    "    and returns a dims-dimensional array filled with integers in sequence. \n",
    "    So square_seq_nda(2,2) would return\n",
    "    [[1, 2], [3, 4]]\n",
    "    '''\n",
    "    # Start by calculating the total number of elements in the array\n",
    "    size = length ** dims\n",
    "    # Make a 1-D array containing a series of numbers 'size' long\n",
    "    nda = np.linspace(1, size, num=size)\n",
    "    # Make a tuple that contains \n",
    "    shape = ([length]*dims)\n",
    "    nda = nda.reshape(shape)\n",
    "    return nda"
   ]
  },
  {
   "cell_type": "code",
   "execution_count": null,
   "metadata": {},
   "outputs": [],
   "source": [
    "square_seq_nda(4,3)"
   ]
  },
  {
   "cell_type": "code",
   "execution_count": null,
   "metadata": {},
   "outputs": [],
   "source": [
    "# We can use mathematical operators on multidimensional arrays just like we did before\n",
    "a_3d = square_seq_nda(3,2)\n",
    "print(a_3d*3)\n",
    "print(a_3d**2)"
   ]
  },
  {
   "cell_type": "markdown",
   "metadata": {},
   "source": [
    "### Slicing and subsetting of ndarrays\n",
    "\n",
    "Indexing and slicing ndarrays uses the same methods we learned for other collections, with one important difference. \n",
    "\n",
    "When you slice an ndarray your are only making a 'view' of that slice, not a copy. If you want a copy, you have to make it explicitly.\n",
    "\n",
    "Let's use our square_seq_nda() function to make a 3 x 3 x 3 ndarray to work with."
   ]
  },
  {
   "cell_type": "code",
   "execution_count": null,
   "metadata": {},
   "outputs": [],
   "source": [
    "a = square_seq_nda(3,3)\n",
    "a"
   ]
  },
  {
   "cell_type": "code",
   "execution_count": null,
   "metadata": {},
   "outputs": [],
   "source": [
    "# As before you can you can get specific values or ranges of values using square brackets and slices\n",
    "print(\"a is:\\n\",a)\n",
    "print(\"a_3d is:\\n\",a_3d)"
   ]
  },
  {
   "cell_type": "code",
   "execution_count": null,
   "metadata": {},
   "outputs": [],
   "source": [
    "# Find the third value in the first column from a\n",
    "a[1,1,0]"
   ]
  },
  {
   "cell_type": "code",
   "execution_count": null,
   "metadata": {},
   "outputs": [],
   "source": [
    "# Get the second row of values from a on the final sheet\n",
    "# Remember, if you want all of the values use a colon\n",
    "a[2,1,:]"
   ]
  },
  {
   "cell_type": "code",
   "execution_count": null,
   "metadata": {},
   "outputs": [],
   "source": [
    "# Make a new array 'b' by copying 'a' using the nda.copy() method and replacing 23 with 99\n",
    "b = a.copy()\n",
    "b[2,1,1] = 99\n",
    "b"
   ]
  },
  {
   "cell_type": "code",
   "execution_count": null,
   "metadata": {},
   "outputs": [],
   "source": [
    "# Think of two ways to get the last layer of a_3d\n",
    "# Write a boolean operation to check if the values in the last\n",
    "# sheet are the same for 'a' and 'b'\n",
    "a[2,:,:] == b[-1,:,:]"
   ]
  }
 ],
 "metadata": {
  "kernelspec": {
   "display_name": "Python 3",
   "language": "python",
   "name": "python3"
  },
  "language_info": {
   "codemirror_mode": {
    "name": "ipython",
    "version": 3
   },
   "file_extension": ".py",
   "mimetype": "text/x-python",
   "name": "python",
   "nbconvert_exporter": "python",
   "pygments_lexer": "ipython3",
   "version": "3.6.8"
  }
 },
 "nbformat": 4,
 "nbformat_minor": 2
}

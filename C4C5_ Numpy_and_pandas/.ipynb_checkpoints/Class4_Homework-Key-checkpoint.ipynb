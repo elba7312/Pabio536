{
 "cells": [
  {
   "cell_type": "markdown",
   "metadata": {},
   "source": [
    "### Homework for Class 4\n",
    "\n",
    "You are find data from a postdoc that used to be in your lab stored in a Numpy array file. \n",
    "\n",
    "For this homework you will complete and submit this ipynb file to Canvas. \n",
    "\n",
    "You need to first:\n",
    "\n",
    "1. Import NumPy\n",
    "2. Import the data file 'HW4data.npy with np.load()\n",
    "3. Find the size and shape of the array\n",
    " - You know from the postdoc's notes that the rows are different strains, the columns are different drugs, and the sheets are the replicates\n",
    " - How many strains, drugs, and replicates were there?\n",
    "4. You want all replicates of the fourth strain with the last three drugs. Pull that data into a separate ndarray and print that table.\n",
    "5. Explain what the purpose is of the final cell"
   ]
  },
  {
   "cell_type": "code",
   "execution_count": 2,
   "metadata": {},
   "outputs": [],
   "source": [
    "# Import the NumPy library\n",
    "import numpy as np"
   ]
  },
  {
   "cell_type": "code",
   "execution_count": 8,
   "metadata": {},
   "outputs": [],
   "source": [
    "# Import \"HW4data\" with Numpy load\n",
    "HW4data = np.load('HW4data.npy')\n",
    "print(HW4data.size)\n",
    "print(HW4data.shape)\n",
    "sheets, rows, cols = HW4data.shape"
   ]
  },
  {
   "cell_type": "code",
   "execution_count": 9,
   "metadata": {},
   "outputs": [
    {
     "name": "stdout",
     "output_type": "stream",
     "text": [
      "There are 6 replicates, 9 drugs, and 5 strains.\n"
     ]
    }
   ],
   "source": [
    "print(\"There are\",sheets,\"replicates,\", cols, \"drugs, and\", rows, \"strains.\")"
   ]
  },
  {
   "cell_type": "code",
   "execution_count": 12,
   "metadata": {},
   "outputs": [
    {
     "data": {
      "text/plain": [
       "array([[1433, 2534, 3697],\n",
       "       [2551,   33,  425],\n",
       "       [ 652, 5589, 5348],\n",
       "       [5450,   30,  454],\n",
       "       [1837, 8860, 7401],\n",
       "       [2696,   40,  989]], dtype=int64)"
      ]
     },
     "execution_count": 12,
     "metadata": {},
     "output_type": "execute_result"
    }
   ],
   "source": [
    "subset = HW4data[:,3,-3:]\n",
    "subset"
   ]
  },
  {
   "cell_type": "code",
   "execution_count": 14,
   "metadata": {},
   "outputs": [
    {
     "name": "stdout",
     "output_type": "stream",
     "text": [
      "2436.5\n",
      "2847.6666666666665\n",
      "3052.3333333333335\n"
     ]
    }
   ],
   "source": [
    "#Explain what this cell is doing\n",
    "\n",
    "for column in subset.T:\n",
    "    print(sum (column)/len(column))"
   ]
  }
 ],
 "metadata": {
  "kernelspec": {
   "display_name": "Python 3",
   "language": "python",
   "name": "python3"
  },
  "language_info": {
   "codemirror_mode": {
    "name": "ipython",
    "version": 3
   },
   "file_extension": ".py",
   "mimetype": "text/x-python",
   "name": "python",
   "nbconvert_exporter": "python",
   "pygments_lexer": "ipython3",
   "version": "3.6.8"
  }
 },
 "nbformat": 4,
 "nbformat_minor": 2
}
